{
 "cells": [
  {
   "cell_type": "code",
   "execution_count": 1,
   "id": "a97579aa-0e3c-428a-85b9-4688df6de4ae",
   "metadata": {},
   "outputs": [
    {
     "output_type": "stream",
     "name": "stderr",
     "text": [
      "Duplicate key in file PosixPath('/opt/conda/lib/python3.7/site-packages/matplotlib/mpl-data/matplotlibrc'), line 250 ('font.family:  sans-serif')\n"
     ]
    }
   ],
   "source": [
    "%matplotlib inline\n",
    "\n",
    "import json\n",
    "import pandas as pd\n",
    "import matplotlib as mpl\n",
    "import matplotlib.pyplot as plt\n",
    "import matplotlib.font_manager as fm\n",
    "from collections import defaultdict"
   ]
  },
  {
   "cell_type": "code",
   "execution_count": 2,
   "id": "e7b9de5d-83c3-4321-b45d-45ad2cb6dd4f",
   "metadata": {},
   "outputs": [
    {
     "output_type": "execute_result",
     "data": {
      "text/plain": [
       "   Unnamed: 0 domain slot      value  count\n",
       "0           0     관광   종류        박물관   2083\n",
       "1           1     관광   지역      서울 중앙   4009\n",
       "2           2     관광   이름  문화역서울 284    105\n",
       "3           3     식당   지역      서울 중앙   4896\n",
       "4           4     식당   종류        한식당   5944"
      ],
      "text/html": "<div>\n<style scoped>\n    .dataframe tbody tr th:only-of-type {\n        vertical-align: middle;\n    }\n\n    .dataframe tbody tr th {\n        vertical-align: top;\n    }\n\n    .dataframe thead th {\n        text-align: right;\n    }\n</style>\n<table border=\"1\" class=\"dataframe\">\n  <thead>\n    <tr style=\"text-align: right;\">\n      <th></th>\n      <th>Unnamed: 0</th>\n      <th>domain</th>\n      <th>slot</th>\n      <th>value</th>\n      <th>count</th>\n    </tr>\n  </thead>\n  <tbody>\n    <tr>\n      <th>0</th>\n      <td>0</td>\n      <td>관광</td>\n      <td>종류</td>\n      <td>박물관</td>\n      <td>2083</td>\n    </tr>\n    <tr>\n      <th>1</th>\n      <td>1</td>\n      <td>관광</td>\n      <td>지역</td>\n      <td>서울 중앙</td>\n      <td>4009</td>\n    </tr>\n    <tr>\n      <th>2</th>\n      <td>2</td>\n      <td>관광</td>\n      <td>이름</td>\n      <td>문화역서울 284</td>\n      <td>105</td>\n    </tr>\n    <tr>\n      <th>3</th>\n      <td>3</td>\n      <td>식당</td>\n      <td>지역</td>\n      <td>서울 중앙</td>\n      <td>4896</td>\n    </tr>\n    <tr>\n      <th>4</th>\n      <td>4</td>\n      <td>식당</td>\n      <td>종류</td>\n      <td>한식당</td>\n      <td>5944</td>\n    </tr>\n  </tbody>\n</table>\n</div>"
     },
     "metadata": {},
     "execution_count": 2
    }
   ],
   "source": [
    "df = pd.read_csv(\"/opt/ml/input/data/train_dataset/train_dataset.csv\")\n",
    "df.head()"
   ]
  },
  {
   "cell_type": "code",
   "execution_count": 3,
   "id": "1f1ba69e-b927-4a02-bf94-c93cffb6ac02",
   "metadata": {},
   "outputs": [
    {
     "output_type": "execute_result",
     "data": {
      "text/plain": [
       "     domain   slot      value  count\n",
       "0        관광     종류        박물관   2083\n",
       "1        관광     지역      서울 중앙   4009\n",
       "2        관광     이름  문화역서울 284    105\n",
       "3        식당     지역      서울 중앙   4896\n",
       "4        식당     종류        한식당   5944\n",
       "...     ...    ...        ...    ...\n",
       "2240     택시    도착지      파워 호텔      2\n",
       "2241     택시  출발 시간      21:23      4\n",
       "2242     택시  출발 시간      12:49      5\n",
       "2243     식당  예약 시간      16:31      5\n",
       "2244     식당  예약 시간      04:49      5\n",
       "\n",
       "[2245 rows x 4 columns]"
      ],
      "text/html": "<div>\n<style scoped>\n    .dataframe tbody tr th:only-of-type {\n        vertical-align: middle;\n    }\n\n    .dataframe tbody tr th {\n        vertical-align: top;\n    }\n\n    .dataframe thead th {\n        text-align: right;\n    }\n</style>\n<table border=\"1\" class=\"dataframe\">\n  <thead>\n    <tr style=\"text-align: right;\">\n      <th></th>\n      <th>domain</th>\n      <th>slot</th>\n      <th>value</th>\n      <th>count</th>\n    </tr>\n  </thead>\n  <tbody>\n    <tr>\n      <th>0</th>\n      <td>관광</td>\n      <td>종류</td>\n      <td>박물관</td>\n      <td>2083</td>\n    </tr>\n    <tr>\n      <th>1</th>\n      <td>관광</td>\n      <td>지역</td>\n      <td>서울 중앙</td>\n      <td>4009</td>\n    </tr>\n    <tr>\n      <th>2</th>\n      <td>관광</td>\n      <td>이름</td>\n      <td>문화역서울 284</td>\n      <td>105</td>\n    </tr>\n    <tr>\n      <th>3</th>\n      <td>식당</td>\n      <td>지역</td>\n      <td>서울 중앙</td>\n      <td>4896</td>\n    </tr>\n    <tr>\n      <th>4</th>\n      <td>식당</td>\n      <td>종류</td>\n      <td>한식당</td>\n      <td>5944</td>\n    </tr>\n    <tr>\n      <th>...</th>\n      <td>...</td>\n      <td>...</td>\n      <td>...</td>\n      <td>...</td>\n    </tr>\n    <tr>\n      <th>2240</th>\n      <td>택시</td>\n      <td>도착지</td>\n      <td>파워 호텔</td>\n      <td>2</td>\n    </tr>\n    <tr>\n      <th>2241</th>\n      <td>택시</td>\n      <td>출발 시간</td>\n      <td>21:23</td>\n      <td>4</td>\n    </tr>\n    <tr>\n      <th>2242</th>\n      <td>택시</td>\n      <td>출발 시간</td>\n      <td>12:49</td>\n      <td>5</td>\n    </tr>\n    <tr>\n      <th>2243</th>\n      <td>식당</td>\n      <td>예약 시간</td>\n      <td>16:31</td>\n      <td>5</td>\n    </tr>\n    <tr>\n      <th>2244</th>\n      <td>식당</td>\n      <td>예약 시간</td>\n      <td>04:49</td>\n      <td>5</td>\n    </tr>\n  </tbody>\n</table>\n<p>2245 rows × 4 columns</p>\n</div>"
     },
     "metadata": {},
     "execution_count": 3
    }
   ],
   "source": [
    "df.drop(\"Unnamed: 0\", axis=1, inplace=True)\n",
    "df"
   ]
  },
  {
   "cell_type": "code",
   "execution_count": 4,
   "id": "34b88cad-5579-4da5-8a17-2a4496309468",
   "metadata": {},
   "outputs": [
    {
     "output_type": "execute_result",
     "data": {
      "text/plain": [
       "         count\n",
       "domain        \n",
       "관광       62231\n",
       "숙소      163722\n",
       "식당      154920\n",
       "지하철       3673\n",
       "택시       36106"
      ],
      "text/html": "<div>\n<style scoped>\n    .dataframe tbody tr th:only-of-type {\n        vertical-align: middle;\n    }\n\n    .dataframe tbody tr th {\n        vertical-align: top;\n    }\n\n    .dataframe thead th {\n        text-align: right;\n    }\n</style>\n<table border=\"1\" class=\"dataframe\">\n  <thead>\n    <tr style=\"text-align: right;\">\n      <th></th>\n      <th>count</th>\n    </tr>\n    <tr>\n      <th>domain</th>\n      <th></th>\n    </tr>\n  </thead>\n  <tbody>\n    <tr>\n      <th>관광</th>\n      <td>62231</td>\n    </tr>\n    <tr>\n      <th>숙소</th>\n      <td>163722</td>\n    </tr>\n    <tr>\n      <th>식당</th>\n      <td>154920</td>\n    </tr>\n    <tr>\n      <th>지하철</th>\n      <td>3673</td>\n    </tr>\n    <tr>\n      <th>택시</th>\n      <td>36106</td>\n    </tr>\n  </tbody>\n</table>\n</div>"
     },
     "metadata": {},
     "execution_count": 4
    }
   ],
   "source": [
    "grouped_d = df.groupby([\"domain\"]).sum()\n",
    "grouped_d"
   ]
  },
  {
   "cell_type": "code",
   "execution_count": 5,
   "id": "cbf60850-8032-44da-a4ba-43df13d5fad5",
   "metadata": {},
   "outputs": [
    {
     "output_type": "stream",
     "name": "stdout",
     "text": [
      "['관광', '숙소', '식당', '지하철', '택시']\n[62231, 163722, 154920, 3673, 36106]\n"
     ]
    }
   ],
   "source": [
    "xticks_d = [grouped_d.index[i] for i in range(len(grouped_d))]\n",
    "data_d = [grouped_d[\"count\"][i] for i in range(len(grouped_d))]\n",
    "print(xticks_d)\n",
    "print(data_d)"
   ]
  },
  {
   "cell_type": "code",
   "execution_count": 6,
   "metadata": {},
   "outputs": [
    {
     "output_type": "execute_result",
     "data": {
      "text/plain": [
       "['/usr/share/fonts/truetype/nanum/NanumMyeongjoEco.ttf',\n",
       " '/usr/share/fonts/truetype/nanum/NanumBarunGothic.ttf',\n",
       " '/usr/share/fonts/truetype/nanum/NanumGothicBold.ttf',\n",
       " '/usr/share/fonts/truetype/nanum/NanumSquareRoundL.ttf',\n",
       " '/usr/share/fonts/truetype/nanum/NanumMyeongjoExtraBold.ttf',\n",
       " '/usr/share/fonts/truetype/nanum/NanumSquareB.ttf',\n",
       " '/usr/share/fonts/truetype/nanum/NanumMyeongjo.ttf',\n",
       " '/usr/share/fonts/truetype/nanum/NanumGothicEco.ttf',\n",
       " '/usr/share/fonts/truetype/nanum/NanumBarunGothicUltraLight.ttf',\n",
       " '/usr/share/fonts/truetype/nanum/NanumGothic.ttf',\n",
       " '/usr/share/fonts/truetype/nanum/NanumPen.ttf',\n",
       " '/usr/share/fonts/truetype/nanum/NanumGothicEcoBold.ttf',\n",
       " '/usr/share/fonts/truetype/nanum/NanumBrush.ttf',\n",
       " '/usr/share/fonts/truetype/nanum/NanumSquareRoundEB.ttf',\n",
       " '/usr/share/fonts/truetype/nanum/NanumMyeongjoEcoExtraBold.ttf',\n",
       " '/usr/share/fonts/truetype/nanum/NanumSquareRoundB.ttf',\n",
       " '/usr/share/fonts/truetype/nanum/NanumBarunpenB.ttf',\n",
       " '/usr/share/fonts/truetype/nanum/NanumGothicCoding-Bold.ttf',\n",
       " '/usr/share/fonts/truetype/nanum/NanumGothicLight.ttf',\n",
       " '/usr/share/fonts/truetype/nanum/NanumGothicEcoExtraBold.ttf',\n",
       " '/usr/share/fonts/truetype/nanum/NanumBarunpenR.ttf',\n",
       " '/usr/share/fonts/truetype/nanum/NanumSquareL.ttf',\n",
       " '/usr/share/fonts/truetype/nanum/NanumBarunGothicBold.ttf',\n",
       " '/usr/share/fonts/truetype/nanum/NanumMyeongjoEcoBold.ttf',\n",
       " '/usr/share/fonts/truetype/nanum/NanumSquareRoundR.ttf',\n",
       " '/usr/share/fonts/truetype/nanum/NanumMyeongjoBold.ttf',\n",
       " '/usr/share/fonts/truetype/nanum/NanumSquareR.ttf',\n",
       " '/usr/share/fonts/truetype/nanum/NanumGothicCoding.ttf',\n",
       " '/usr/share/fonts/truetype/nanum/NanumSquareEB.ttf',\n",
       " '/usr/share/fonts/truetype/nanum/NanumBarunGothicLight.ttf',\n",
       " '/usr/share/fonts/truetype/nanum/NanumGothicExtraBold.ttf']"
      ]
     },
     "metadata": {},
     "execution_count": 6
    }
   ],
   "source": [
    "fm.findSystemFonts(fontpaths=None, fontext=\"ttf\")"
   ]
  },
  {
   "cell_type": "code",
   "execution_count": 7,
   "metadata": {},
   "outputs": [
    {
     "output_type": "execute_result",
     "data": {
      "text/plain": [
       "[<Font 'DejaVu Serif' (DejaVuSerif.ttf) normal normal 400 normal>,\n",
       " <Font 'DejaVu Sans' (DejaVuSans.ttf) normal normal 400 normal>,\n",
       " <Font 'STIXGeneral' (STIXGeneralItalic.ttf) italic normal 400 normal>,\n",
       " <Font 'STIXSizeFourSym' (STIXSizFourSymBol.ttf) normal normal 700 normal>,\n",
       " <Font 'STIXSizeThreeSym' (STIXSizThreeSymReg.ttf) normal normal 400 normal>,\n",
       " <Font 'cmss10' (cmss10.ttf) normal normal 400 normal>,\n",
       " <Font 'DejaVu Sans Mono' (DejaVuSansMono-BoldOblique.ttf) oblique normal 700 normal>,\n",
       " <Font 'cmr10' (cmr10.ttf) normal normal 400 normal>,\n",
       " <Font 'cmtt10' (cmtt10.ttf) normal normal 400 normal>,\n",
       " <Font 'STIXSizeTwoSym' (STIXSizTwoSymReg.ttf) normal normal 400 normal>,\n",
       " <Font 'DejaVu Sans' (DejaVuSans-Bold.ttf) normal normal 700 normal>,\n",
       " <Font 'STIXSizeFourSym' (STIXSizFourSymReg.ttf) normal normal 400 normal>,\n",
       " <Font 'cmex10' (cmex10.ttf) normal normal 400 normal>,\n",
       " <Font 'STIXSizeTwoSym' (STIXSizTwoSymBol.ttf) normal normal 700 normal>,\n",
       " <Font 'STIXSizeThreeSym' (STIXSizThreeSymBol.ttf) normal normal 700 normal>,\n",
       " <Font 'STIXSizeOneSym' (STIXSizOneSymBol.ttf) normal normal 700 normal>,\n",
       " <Font 'cmmi10' (cmmi10.ttf) normal normal 400 normal>,\n",
       " <Font 'STIXSizeOneSym' (STIXSizOneSymReg.ttf) normal normal 400 normal>,\n",
       " <Font 'STIXGeneral' (STIXGeneralBol.ttf) normal normal 700 normal>,\n",
       " <Font 'STIXGeneral' (STIXGeneral.ttf) normal normal 400 normal>,\n",
       " <Font 'DejaVu Sans' (DejaVuSans-Oblique.ttf) oblique normal 400 normal>,\n",
       " <Font 'STIXSizeFiveSym' (STIXSizFiveSymReg.ttf) normal normal 400 normal>,\n",
       " <Font 'DejaVu Sans Mono' (DejaVuSansMono-Oblique.ttf) oblique normal 400 normal>,\n",
       " <Font 'STIXNonUnicode' (STIXNonUniBolIta.ttf) italic normal 700 normal>,\n",
       " <Font 'STIXNonUnicode' (STIXNonUniIta.ttf) italic normal 400 normal>,\n",
       " <Font 'cmb10' (cmb10.ttf) normal normal 400 normal>,\n",
       " <Font 'STIXGeneral' (STIXGeneralBolIta.ttf) italic normal 700 normal>,\n",
       " <Font 'DejaVu Serif' (DejaVuSerif-Bold.ttf) normal normal 700 normal>,\n",
       " <Font 'DejaVu Serif' (DejaVuSerif-BoldItalic.ttf) italic normal 700 normal>,\n",
       " <Font 'DejaVu Serif Display' (DejaVuSerifDisplay.ttf) normal normal 400 normal>,\n",
       " <Font 'DejaVu Sans' (DejaVuSans-BoldOblique.ttf) oblique normal 700 normal>,\n",
       " <Font 'DejaVu Serif' (DejaVuSerif-Italic.ttf) italic normal 400 normal>,\n",
       " <Font 'DejaVu Sans Mono' (DejaVuSansMono.ttf) normal normal 400 normal>,\n",
       " <Font 'DejaVu Sans Mono' (DejaVuSansMono-Bold.ttf) normal normal 700 normal>,\n",
       " <Font 'cmsy10' (cmsy10.ttf) normal normal 400 normal>,\n",
       " <Font 'STIXNonUnicode' (STIXNonUniBol.ttf) normal normal 700 normal>,\n",
       " <Font 'STIXNonUnicode' (STIXNonUni.ttf) normal normal 400 normal>,\n",
       " <Font 'DejaVu Sans Display' (DejaVuSansDisplay.ttf) normal normal 400 normal>]"
      ]
     },
     "metadata": {},
     "execution_count": 7
    }
   ],
   "source": [
    "fm.fontManager.ttflist"
   ]
  },
  {
   "cell_type": "code",
   "execution_count": 8,
   "metadata": {},
   "outputs": [],
   "source": [
    "fm.fontManager.addfont(\"/usr/share/fonts/truetype/nanum/NanumGothic.ttf\")"
   ]
  },
  {
   "cell_type": "code",
   "execution_count": 9,
   "metadata": {},
   "outputs": [
    {
     "output_type": "execute_result",
     "data": {
      "text/plain": [
       "[<Font 'DejaVu Serif' (DejaVuSerif.ttf) normal normal 400 normal>,\n",
       " <Font 'DejaVu Sans' (DejaVuSans.ttf) normal normal 400 normal>,\n",
       " <Font 'STIXGeneral' (STIXGeneralItalic.ttf) italic normal 400 normal>,\n",
       " <Font 'STIXSizeFourSym' (STIXSizFourSymBol.ttf) normal normal 700 normal>,\n",
       " <Font 'STIXSizeThreeSym' (STIXSizThreeSymReg.ttf) normal normal 400 normal>,\n",
       " <Font 'cmss10' (cmss10.ttf) normal normal 400 normal>,\n",
       " <Font 'DejaVu Sans Mono' (DejaVuSansMono-BoldOblique.ttf) oblique normal 700 normal>,\n",
       " <Font 'cmr10' (cmr10.ttf) normal normal 400 normal>,\n",
       " <Font 'cmtt10' (cmtt10.ttf) normal normal 400 normal>,\n",
       " <Font 'STIXSizeTwoSym' (STIXSizTwoSymReg.ttf) normal normal 400 normal>,\n",
       " <Font 'DejaVu Sans' (DejaVuSans-Bold.ttf) normal normal 700 normal>,\n",
       " <Font 'STIXSizeFourSym' (STIXSizFourSymReg.ttf) normal normal 400 normal>,\n",
       " <Font 'cmex10' (cmex10.ttf) normal normal 400 normal>,\n",
       " <Font 'STIXSizeTwoSym' (STIXSizTwoSymBol.ttf) normal normal 700 normal>,\n",
       " <Font 'STIXSizeThreeSym' (STIXSizThreeSymBol.ttf) normal normal 700 normal>,\n",
       " <Font 'STIXSizeOneSym' (STIXSizOneSymBol.ttf) normal normal 700 normal>,\n",
       " <Font 'cmmi10' (cmmi10.ttf) normal normal 400 normal>,\n",
       " <Font 'STIXSizeOneSym' (STIXSizOneSymReg.ttf) normal normal 400 normal>,\n",
       " <Font 'STIXGeneral' (STIXGeneralBol.ttf) normal normal 700 normal>,\n",
       " <Font 'STIXGeneral' (STIXGeneral.ttf) normal normal 400 normal>,\n",
       " <Font 'DejaVu Sans' (DejaVuSans-Oblique.ttf) oblique normal 400 normal>,\n",
       " <Font 'STIXSizeFiveSym' (STIXSizFiveSymReg.ttf) normal normal 400 normal>,\n",
       " <Font 'DejaVu Sans Mono' (DejaVuSansMono-Oblique.ttf) oblique normal 400 normal>,\n",
       " <Font 'STIXNonUnicode' (STIXNonUniBolIta.ttf) italic normal 700 normal>,\n",
       " <Font 'STIXNonUnicode' (STIXNonUniIta.ttf) italic normal 400 normal>,\n",
       " <Font 'cmb10' (cmb10.ttf) normal normal 400 normal>,\n",
       " <Font 'STIXGeneral' (STIXGeneralBolIta.ttf) italic normal 700 normal>,\n",
       " <Font 'DejaVu Serif' (DejaVuSerif-Bold.ttf) normal normal 700 normal>,\n",
       " <Font 'DejaVu Serif' (DejaVuSerif-BoldItalic.ttf) italic normal 700 normal>,\n",
       " <Font 'DejaVu Serif Display' (DejaVuSerifDisplay.ttf) normal normal 400 normal>,\n",
       " <Font 'DejaVu Sans' (DejaVuSans-BoldOblique.ttf) oblique normal 700 normal>,\n",
       " <Font 'DejaVu Serif' (DejaVuSerif-Italic.ttf) italic normal 400 normal>,\n",
       " <Font 'DejaVu Sans Mono' (DejaVuSansMono.ttf) normal normal 400 normal>,\n",
       " <Font 'DejaVu Sans Mono' (DejaVuSansMono-Bold.ttf) normal normal 700 normal>,\n",
       " <Font 'cmsy10' (cmsy10.ttf) normal normal 400 normal>,\n",
       " <Font 'STIXNonUnicode' (STIXNonUniBol.ttf) normal normal 700 normal>,\n",
       " <Font 'STIXNonUnicode' (STIXNonUni.ttf) normal normal 400 normal>,\n",
       " <Font 'DejaVu Sans Display' (DejaVuSansDisplay.ttf) normal normal 400 normal>,\n",
       " <Font 'NanumGothic' (NanumGothic.ttf) normal normal 400 normal>]"
      ]
     },
     "metadata": {},
     "execution_count": 9
    }
   ],
   "source": [
    "fm.fontManager.ttflist"
   ]
  },
  {
   "cell_type": "code",
   "execution_count": 10,
   "id": "33f4cdfd-4bdf-4f7f-a6c3-202113647232",
   "metadata": {},
   "outputs": [
    {
     "output_type": "execute_result",
     "data": {
      "text/plain": [
       "<BarContainer object of 5 artists>"
      ]
     },
     "metadata": {},
     "execution_count": 10
    },
    {
     "output_type": "display_data",
     "data": {
      "text/plain": "<Figure size 432x288 with 1 Axes>",
      "image/svg+xml": "<?xml version=\"1.0\" encoding=\"utf-8\" standalone=\"no\"?>\n<!DOCTYPE svg PUBLIC \"-//W3C//DTD SVG 1.1//EN\"\n  \"http://www.w3.org/Graphics/SVG/1.1/DTD/svg11.dtd\">\n<!-- Created with matplotlib (https://matplotlib.org/) -->\n<svg height=\"248.319687pt\" version=\"1.1\" viewBox=\"0 0 392.55625 248.319687\" width=\"392.55625pt\" xmlns=\"http://www.w3.org/2000/svg\" xmlns:xlink=\"http://www.w3.org/1999/xlink\">\n <metadata>\n  <rdf:RDF xmlns:cc=\"http://creativecommons.org/ns#\" xmlns:dc=\"http://purl.org/dc/elements/1.1/\" xmlns:rdf=\"http://www.w3.org/1999/02/22-rdf-syntax-ns#\">\n   <cc:Work>\n    <dc:type rdf:resource=\"http://purl.org/dc/dcmitype/StillImage\"/>\n    <dc:date>2021-04-27T12:05:37.010697</dc:date>\n    <dc:format>image/svg+xml</dc:format>\n    <dc:creator>\n     <cc:Agent>\n      <dc:title>Matplotlib v3.3.4, https://matplotlib.org/</dc:title>\n     </cc:Agent>\n    </dc:creator>\n   </cc:Work>\n  </rdf:RDF>\n </metadata>\n <defs>\n  <style type=\"text/css\">*{stroke-linecap:butt;stroke-linejoin:round;}</style>\n </defs>\n <g id=\"figure_1\">\n  <g id=\"patch_1\">\n   <path d=\"M 0 248.319687 \nL 392.55625 248.319687 \nL 392.55625 0 \nL 0 0 \nz\n\" style=\"fill:none;\"/>\n  </g>\n  <g id=\"axes_1\">\n   <g id=\"patch_2\">\n    <path d=\"M 50.55625 224.64 \nL 385.35625 224.64 \nL 385.35625 7.2 \nL 50.55625 7.2 \nz\n\" style=\"fill:#ffffff;\"/>\n   </g>\n   <g id=\"patch_3\">\n    <path clip-path=\"url(#pd047d9e9d1)\" d=\"M 65.774432 224.64 \nL 116.501705 224.64 \nL 116.501705 145.926381 \nL 65.774432 145.926381 \nz\n\" style=\"fill:#1f77b4;\"/>\n   </g>\n   <g id=\"patch_4\">\n    <path clip-path=\"url(#pd047d9e9d1)\" d=\"M 129.183523 224.64 \nL 179.910795 224.64 \nL 179.910795 17.554286 \nL 129.183523 17.554286 \nz\n\" style=\"fill:#1f77b4;\"/>\n   </g>\n   <g id=\"patch_5\">\n    <path clip-path=\"url(#pd047d9e9d1)\" d=\"M 192.592614 224.64 \nL 243.319886 224.64 \nL 243.319886 28.6876 \nL 192.592614 28.6876 \nz\n\" style=\"fill:#1f77b4;\"/>\n   </g>\n   <g id=\"patch_6\">\n    <path clip-path=\"url(#pd047d9e9d1)\" d=\"M 256.001705 224.64 \nL 306.728977 224.64 \nL 306.728977 219.994162 \nL 256.001705 219.994162 \nz\n\" style=\"fill:#1f77b4;\"/>\n   </g>\n   <g id=\"patch_7\">\n    <path clip-path=\"url(#pd047d9e9d1)\" d=\"M 319.410795 224.64 \nL 370.138068 224.64 \nL 370.138068 178.970897 \nL 319.410795 178.970897 \nz\n\" style=\"fill:#1f77b4;\"/>\n   </g>\n   <g id=\"matplotlib.axis_1\">\n    <g id=\"xtick_1\">\n     <g id=\"line2d_1\">\n      <defs>\n       <path d=\"M 0 0 \nL 0 3.5 \n\" id=\"m9c74d3818c\" style=\"stroke:#000000;stroke-width:0.8;\"/>\n      </defs>\n      <g>\n       <use style=\"stroke:#000000;stroke-width:0.8;\" x=\"91.138068\" xlink:href=\"#m9c74d3818c\" y=\"224.64\"/>\n      </g>\n     </g>\n     <g id=\"text_1\">\n      <!-- 관광 -->\n      <g transform=\"translate(81.738068 239.160312)scale(0.1 -0.1)\">\n       <defs>\n        <path d=\"M 77 10.40625 \nQ 77 9 75.59375 9 \nL 71.5 9 \nQ 70.09375 9 70.09375 10.40625 \nL 70.09375 76.796875 \nQ 70.09375 78.203125 71.5 78.203125 \nL 75.59375 78.203125 \nQ 77 78.203125 77 76.796875 \nL 77 46 \nL 90.796875 46 \nQ 91.40625 46 91.84375 45.640625 \nQ 92.296875 45.296875 92.296875 44.703125 \nL 92.296875 41.296875 \nQ 92.296875 40.796875 91.84375 40.390625 \nQ 91.40625 40 90.796875 40 \nL 77 40 \nL 77 10.40625 \nz\nM 65.09375 30.90625 \nQ 66 31 66.25 30.75 \nQ 66.5 30.5 66.59375 30 \nL 67 26.59375 \nQ 67.09375 26 66.84375 25.640625 \nQ 66.59375 25.296875 65.703125 25.203125 \nQ 59.203125 24.40625 49.140625 23.796875 \nQ 39.09375 23.203125 26.59375 23.203125 \nL 5.796875 23.203125 \nQ 5.203125 23.203125 4.75 23.59375 \nQ 4.296875 24 4.296875 24.5 \nL 4.296875 28 \nQ 4.296875 28.59375 4.75 28.890625 \nQ 5.203125 29.203125 5.796875 29.203125 \nL 23.09375 29.203125 \nL 27 29.203125 \nL 27 49.5 \nQ 27 50.90625 28.40625 50.90625 \nL 32.5 50.90625 \nQ 33.90625 50.90625 33.90625 49.5 \nL 33.90625 29.203125 \nQ 42.796875 29.40625 50.796875 29.75 \nQ 58.796875 30.09375 65.09375 30.90625 \nz\nM 81.5 -11 \nQ 81.5 -11.59375 81 -11.890625 \nQ 80.5 -12.203125 80 -12.203125 \nL 27.5 -12.203125 \nQ 22.796875 -12.203125 21.34375 -10.390625 \nQ 19.90625 -8.59375 19.90625 -4.5 \nL 19.90625 12.796875 \nQ 19.90625 14.203125 21.296875 14.203125 \nL 25.40625 14.203125 \nQ 26.796875 14.203125 26.796875 12.796875 \nL 26.796875 -4.09375 \nQ 26.796875 -5.5 27.25 -5.84375 \nQ 27.703125 -6.203125 29.09375 -6.203125 \nL 80 -6.203125 \nQ 80.5 -6.203125 81 -6.546875 \nQ 81.5 -6.90625 81.5 -7.40625 \nL 81.5 -11 \nz\nM 11 70.703125 \nQ 11 71.296875 11.5 71.59375 \nQ 12 71.90625 12.5 71.90625 \nL 49 71.90625 \nQ 51.40625 71.90625 52.84375 71.40625 \nQ 54.296875 70.90625 55.09375 69.953125 \nQ 55.90625 69 56.203125 67.5 \nQ 56.5 66 56.59375 63.90625 \nQ 56.796875 58.796875 56.09375 52.6875 \nQ 55.40625 46.59375 53.796875 40.59375 \nQ 53.59375 40 53.25 39.5 \nQ 52.90625 39 52.296875 39.09375 \nL 48.296875 39.40625 \nQ 46.59375 39.5 47.09375 41.203125 \nQ 48.59375 46.203125 49.296875 51.890625 \nQ 50 57.59375 49.796875 63.796875 \nQ 49.703125 65.203125 49.296875 65.546875 \nQ 48.90625 65.90625 47.5 65.90625 \nL 12.5 65.90625 \nQ 12 65.90625 11.5 66.25 \nQ 11 66.59375 11 67.09375 \nL 11 70.703125 \nz\n\" id=\"NanumGothic-44288\"/>\n        <path d=\"M 78.296875 3.203125 \nQ 78.296875 -1 75.796875 -4.296875 \nQ 73.296875 -7.59375 69.140625 -9.84375 \nQ 65 -12.09375 59.59375 -13.25 \nQ 54.203125 -14.40625 48.296875 -14.40625 \nQ 41.90625 -14.40625 36.40625 -13.25 \nQ 30.90625 -12.09375 26.90625 -9.84375 \nQ 22.90625 -7.59375 20.65625 -4.296875 \nQ 18.40625 -1 18.40625 3.203125 \nQ 18.40625 7.40625 20.65625 10.65625 \nQ 22.90625 13.90625 26.90625 16.046875 \nQ 30.90625 18.203125 36.40625 19.296875 \nQ 41.90625 20.40625 48.296875 20.40625 \nQ 54.203125 20.40625 59.59375 19.296875 \nQ 65 18.203125 69.140625 16.046875 \nQ 73.296875 13.90625 75.796875 10.65625 \nQ 78.296875 7.40625 78.296875 3.203125 \nz\nM 71.203125 2.90625 \nQ 71.203125 5.703125 69.34375 7.84375 \nQ 67.5 10 64.34375 11.390625 \nQ 61.203125 12.796875 57 13.5 \nQ 52.796875 14.203125 48.203125 14.203125 \nQ 43.09375 14.203125 38.890625 13.5 \nQ 34.703125 12.796875 31.75 11.390625 \nQ 28.796875 10 27.140625 7.84375 \nQ 25.5 5.703125 25.5 2.90625 \nQ 25.5 0.203125 27.140625 -1.84375 \nQ 28.796875 -3.90625 31.75 -5.296875 \nQ 34.703125 -6.703125 38.890625 -7.453125 \nQ 43.09375 -8.203125 48.203125 -8.203125 \nQ 52.796875 -8.203125 57 -7.453125 \nQ 61.203125 -6.703125 64.34375 -5.296875 \nQ 67.5 -3.90625 69.34375 -1.84375 \nQ 71.203125 0.203125 71.203125 2.90625 \nz\nM 65.09375 35.796875 \nQ 66 35.90625 66.25 35.65625 \nQ 66.5 35.40625 66.59375 34.90625 \nL 67 31.5 \nQ 67.09375 30.90625 66.84375 30.546875 \nQ 66.59375 30.203125 65.703125 30.09375 \nQ 59.203125 29.296875 49.140625 28.6875 \nQ 39.09375 28.09375 26.59375 28.09375 \nL 5.796875 28.09375 \nQ 5.203125 28.09375 4.75 28.5 \nQ 4.296875 28.90625 4.296875 29.40625 \nL 4.296875 32.90625 \nQ 4.296875 33.5 4.75 33.796875 \nQ 5.203125 34.09375 5.796875 34.09375 \nL 23.09375 34.09375 \nL 27 34.09375 \nL 27 53.703125 \nQ 27 55.09375 28.40625 55.09375 \nL 32.5 55.09375 \nQ 33.90625 55.09375 33.90625 53.703125 \nL 33.90625 34.09375 \nQ 42.796875 34.296875 50.796875 34.640625 \nQ 58.796875 35 65.09375 35.796875 \nz\nM 77 23.296875 \nQ 77 21.90625 75.59375 21.90625 \nL 71.5 21.90625 \nQ 70.09375 21.90625 70.09375 23.296875 \nL 70.09375 76.796875 \nQ 70.09375 78.203125 71.5 78.203125 \nL 75.59375 78.203125 \nQ 77 78.203125 77 76.796875 \nL 77 49.90625 \nL 90.796875 49.90625 \nQ 91.40625 49.90625 91.84375 49.546875 \nQ 92.296875 49.203125 92.296875 48.59375 \nL 92.296875 45.203125 \nQ 92.296875 44.703125 91.84375 44.296875 \nQ 91.40625 43.90625 90.796875 43.90625 \nL 77 43.90625 \nL 77 23.296875 \nz\nM 11 72.59375 \nQ 11 73.203125 11.5 73.5 \nQ 12 73.796875 12.5 73.796875 \nL 49 73.796875 \nQ 51.40625 73.796875 52.84375 73.296875 \nQ 54.296875 72.796875 55.09375 71.84375 \nQ 55.90625 70.90625 56.203125 69.40625 \nQ 56.5 67.90625 56.59375 65.796875 \nQ 56.796875 60.703125 56.09375 55.75 \nQ 55.40625 50.796875 53.796875 44.796875 \nQ 53.59375 44.203125 53.25 43.703125 \nQ 52.90625 43.203125 52.296875 43.296875 \nL 48.296875 43.59375 \nQ 46.59375 43.703125 47.09375 45.40625 \nQ 47.796875 47.90625 48.390625 50.203125 \nQ 49 52.5 49.34375 54.953125 \nQ 49.703125 57.40625 49.796875 60 \nQ 49.90625 62.59375 49.796875 65.703125 \nQ 49.703125 67.09375 49.296875 67.4375 \nQ 48.90625 67.796875 47.5 67.796875 \nL 12.5 67.796875 \nQ 12 67.796875 11.5 68.140625 \nQ 11 68.5 11 69 \nL 11 72.59375 \nz\n\" id=\"NanumGothic-44305\"/>\n       </defs>\n       <use xlink:href=\"#NanumGothic-44288\"/>\n       <use x=\"93.999985\" xlink:href=\"#NanumGothic-44305\"/>\n      </g>\n     </g>\n    </g>\n    <g id=\"xtick_2\">\n     <g id=\"line2d_2\">\n      <g>\n       <use style=\"stroke:#000000;stroke-width:0.8;\" x=\"154.547159\" xlink:href=\"#m9c74d3818c\" y=\"224.64\"/>\n      </g>\n     </g>\n     <g id=\"text_2\">\n      <!-- 숙소 -->\n      <g transform=\"translate(145.147159 239.160312)scale(0.1 -0.1)\">\n       <defs>\n        <path d=\"M 15.203125 15.5 \nQ 15.203125 16.09375 15.703125 16.390625 \nQ 16.203125 16.703125 16.703125 16.703125 \nL 43.40625 16.703125 \nL 43.40625 29.5 \nL 4.5 29.5 \nQ 3.90625 29.5 3.453125 29.890625 \nQ 3 30.296875 3 30.796875 \nL 3 34.203125 \nQ 3 34.796875 3.453125 35.140625 \nQ 3.90625 35.5 4.5 35.5 \nL 89.5 35.5 \nQ 90 35.5 90.5 35.140625 \nQ 91 34.796875 91 34.203125 \nL 91 30.796875 \nQ 91 30.296875 90.5 29.890625 \nQ 90 29.5 89.5 29.5 \nL 50.296875 29.5 \nL 50.296875 16.703125 \nL 69.5 16.703125 \nQ 74.203125 16.703125 75.640625 14.953125 \nQ 77.09375 13.203125 77.09375 9.09375 \nL 77.09375 -13.59375 \nQ 77.09375 -15 75.703125 -15 \nL 71.59375 -15 \nQ 70.203125 -15 70.203125 -13.59375 \nL 70.203125 8.59375 \nQ 70.203125 10 69.75 10.34375 \nQ 69.296875 10.703125 67.90625 10.703125 \nL 16.703125 10.703125 \nQ 16.203125 10.703125 15.703125 11.046875 \nQ 15.203125 11.40625 15.203125 11.90625 \nL 15.203125 15.5 \nz\nM 50.5 76.09375 \nQ 50.296875 75.5 50.25 74.953125 \nQ 50.203125 74.40625 50 73.90625 \nQ 50.296875 72.59375 50.84375 71.390625 \nQ 51.40625 70.203125 52.09375 69.203125 \nQ 54.203125 65.90625 57.5 62.953125 \nQ 60.796875 60 64.75 57.640625 \nQ 68.703125 55.296875 73.140625 53.59375 \nQ 77.59375 51.90625 82.09375 51 \nQ 82.703125 50.796875 82.796875 50.296875 \nQ 82.90625 49.796875 82.703125 49.296875 \nL 81 45.90625 \nQ 80.796875 45.40625 80.4375 45.15625 \nQ 80.09375 44.90625 79.09375 45.09375 \nQ 74 46.296875 69.046875 48.4375 \nQ 64.09375 50.59375 59.796875 53.4375 \nQ 55.5 56.296875 52.09375 59.59375 \nQ 48.703125 62.90625 46.703125 66.203125 \nQ 42.703125 59.296875 35 54.09375 \nQ 27.296875 48.90625 14.796875 44.703125 \nQ 13.203125 44.203125 12.796875 45.203125 \nL 11.09375 48.796875 \nQ 10.90625 49.296875 11.046875 49.890625 \nQ 11.203125 50.5 11.90625 50.703125 \nQ 19.203125 52.90625 24.75 55.5 \nQ 30.296875 58.09375 34.1875 61.1875 \nQ 38.09375 64.296875 40.4375 68.140625 \nQ 42.796875 72 43.59375 76.796875 \nQ 43.90625 78.09375 44.90625 78 \nL 49.40625 77.5 \nQ 49.90625 77.5 50.296875 77.140625 \nQ 50.703125 76.796875 50.5 76.09375 \nz\n\" id=\"NanumGothic-49689\"/>\n        <path d=\"M 48.796875 33 \nQ 49.296875 33 49.6875 32.546875 \nQ 50.09375 32.09375 50.09375 31.5 \nL 50.09375 7.796875 \nL 89.5 7.796875 \nQ 90 7.796875 90.5 7.4375 \nQ 91 7.09375 91 6.5 \nL 91 3.09375 \nQ 91 2.59375 90.5 2.1875 \nQ 90 1.796875 89.5 1.796875 \nL 4.5 1.796875 \nQ 3.90625 1.796875 3.453125 2.1875 \nQ 3 2.59375 3 3.09375 \nL 3 6.5 \nQ 3 7.09375 3.453125 7.4375 \nQ 3.90625 7.796875 4.5 7.796875 \nL 43.203125 7.796875 \nL 43.203125 31.5 \nQ 43.203125 32.09375 43.546875 32.546875 \nQ 43.90625 33 44.5 33 \nL 48.796875 33 \nz\nM 50.5 72 \nQ 50.296875 70.703125 50.09375 69.390625 \nQ 49.90625 68.09375 49.5 66.796875 \nQ 49.703125 65.703125 50 64.703125 \nQ 50.296875 63.703125 50.703125 63 \nQ 53.09375 58.203125 56.546875 54.046875 \nQ 60 49.90625 64.203125 46.5 \nQ 68.40625 43.09375 73.25 40.546875 \nQ 78.09375 38 83.203125 36.5 \nQ 83.796875 36.296875 84 35.6875 \nQ 84.203125 35.09375 84 34.59375 \nL 82.40625 31.203125 \nQ 82.09375 30.703125 81.75 30.390625 \nQ 81.40625 30.09375 80.40625 30.5 \nQ 69.203125 34.5 60.34375 41.59375 \nQ 51.5 48.703125 46.203125 58.09375 \nQ 41.5 48.703125 33 41.046875 \nQ 24.5 33.40625 13.59375 29.296875 \nQ 12 28.703125 11.59375 29.703125 \nL 9.796875 33.203125 \nQ 9.59375 33.703125 9.75 34.25 \nQ 9.90625 34.796875 10.5 35.09375 \nQ 24.40625 40.5 33.046875 50.25 \nQ 41.703125 60 43.59375 72.703125 \nQ 43.703125 73.90625 44.90625 73.90625 \nL 49.40625 73.40625 \nQ 50.59375 73.203125 50.5 72 \nz\n\" id=\"NanumGothic-49548\"/>\n       </defs>\n       <use xlink:href=\"#NanumGothic-49689\"/>\n       <use x=\"93.999985\" xlink:href=\"#NanumGothic-49548\"/>\n      </g>\n     </g>\n    </g>\n    <g id=\"xtick_3\">\n     <g id=\"line2d_3\">\n      <g>\n       <use style=\"stroke:#000000;stroke-width:0.8;\" x=\"217.95625\" xlink:href=\"#m9c74d3818c\" y=\"224.64\"/>\n      </g>\n     </g>\n     <g id=\"text_3\">\n      <!-- 식당 -->\n      <g transform=\"translate(208.55625 239.160312)scale(0.1 -0.1)\">\n       <defs>\n        <path d=\"M 36.59375 74.09375 \nQ 36.59375 66.796875 35.09375 60.5 \nQ 36.296875 56.296875 38.4375 52.5 \nQ 40.59375 48.703125 43.5 45.390625 \nQ 46.40625 42.09375 49.84375 39.4375 \nQ 53.296875 36.796875 57.09375 35 \nQ 57.703125 34.703125 57.640625 34.140625 \nQ 57.59375 33.59375 57.40625 33.203125 \nL 55.296875 29.90625 \nQ 55 29.40625 54.59375 29.203125 \nQ 54.203125 29 53.296875 29.5 \nQ 51 30.703125 48.046875 32.75 \nQ 45.09375 34.796875 42.09375 37.59375 \nQ 39.09375 40.40625 36.390625 43.75 \nQ 33.703125 47.09375 31.90625 50.703125 \nQ 28.59375 43.09375 23 36.890625 \nQ 17.40625 30.703125 9.90625 25.796875 \nQ 9.40625 25.5 8.796875 25.390625 \nQ 8.203125 25.296875 7.796875 25.796875 \nL 5.296875 29.09375 \nQ 5.09375 29.5 5.25 30.09375 \nQ 5.40625 30.703125 5.90625 31 \nQ 17.796875 38.296875 23.796875 49.390625 \nQ 29.796875 60.5 29.59375 74.203125 \nQ 29.59375 75.796875 30.796875 75.796875 \nL 35.5 75.5 \nQ 36.59375 75.5 36.59375 74.09375 \nz\nM 22.203125 18.203125 \nQ 22.203125 18.796875 22.703125 19.09375 \nQ 23.203125 19.40625 23.703125 19.40625 \nL 72.90625 19.40625 \nQ 77.59375 19.40625 79.046875 17.65625 \nQ 80.5 15.90625 80.5 11.796875 \nL 80.5 -13 \nQ 80.5 -14.40625 79.09375 -14.40625 \nL 75 -14.40625 \nQ 73.59375 -14.40625 73.59375 -13 \nL 73.59375 11.296875 \nQ 73.59375 12.703125 73.140625 13.046875 \nQ 72.703125 13.40625 71.296875 13.40625 \nL 23.703125 13.40625 \nQ 23.203125 13.40625 22.703125 13.75 \nQ 22.203125 14.09375 22.203125 14.59375 \nL 22.203125 18.203125 \nz\nM 80.5 26.296875 \nQ 80.5 24.90625 79.09375 24.90625 \nL 75 24.90625 \nQ 73.59375 24.90625 73.59375 26.296875 \nL 73.59375 76.796875 \nQ 73.59375 78.203125 75 78.203125 \nL 79.09375 78.203125 \nQ 80.5 78.203125 80.5 76.796875 \nL 80.5 26.296875 \nz\n\" id=\"NanumGothic-49885\"/>\n        <path d=\"M 78.203125 3.90625 \nQ 78.203125 -0.40625 75.890625 -3.796875 \nQ 73.59375 -7.203125 69.640625 -9.546875 \nQ 65.703125 -11.90625 60.453125 -13.15625 \nQ 55.203125 -14.40625 49.203125 -14.40625 \nQ 42.703125 -14.40625 37.390625 -13.15625 \nQ 32.09375 -11.90625 28.296875 -9.546875 \nQ 24.5 -7.203125 22.390625 -3.796875 \nQ 20.296875 -0.40625 20.296875 3.90625 \nQ 20.296875 8.09375 22.390625 11.4375 \nQ 24.5 14.796875 28.296875 17.140625 \nQ 32.09375 19.5 37.390625 20.75 \nQ 42.703125 22 49.203125 22 \nQ 55.203125 22 60.453125 20.75 \nQ 65.703125 19.5 69.640625 17.203125 \nQ 73.59375 14.90625 75.890625 11.546875 \nQ 78.203125 8.203125 78.203125 3.90625 \nz\nM 71.09375 3.59375 \nQ 71.09375 6.59375 69.296875 8.890625 \nQ 67.5 11.203125 64.453125 12.75 \nQ 61.40625 14.296875 57.40625 15.140625 \nQ 53.40625 16 49.09375 16 \nQ 44.296875 16 40.296875 15.140625 \nQ 36.296875 14.296875 33.4375 12.75 \nQ 30.59375 11.203125 29 8.890625 \nQ 27.40625 6.59375 27.40625 3.59375 \nQ 27.40625 0.703125 29 -1.546875 \nQ 30.59375 -3.796875 33.4375 -5.296875 \nQ 36.296875 -6.796875 40.296875 -7.59375 \nQ 44.296875 -8.40625 49.09375 -8.40625 \nQ 53.40625 -8.40625 57.40625 -7.59375 \nQ 61.40625 -6.796875 64.453125 -5.296875 \nQ 67.5 -3.796875 69.296875 -1.546875 \nQ 71.09375 0.703125 71.09375 3.59375 \nz\nM 63.59375 36.40625 \nQ 63.90625 35.09375 62.40625 34.703125 \nQ 59.09375 33.90625 53.640625 33.09375 \nQ 48.203125 32.296875 42 31.6875 \nQ 35.796875 31.09375 29.546875 30.75 \nQ 23.296875 30.40625 18.40625 30.5 \nQ 13.90625 30.59375 12.25 32.59375 \nQ 10.59375 34.59375 10.59375 38.796875 \nL 10.59375 66.90625 \nQ 10.59375 71.09375 12.1875 72.5 \nQ 13.796875 73.90625 18.203125 73.90625 \nL 52.296875 73.90625 \nQ 53.59375 73.90625 53.59375 72.703125 \nL 53.59375 69.09375 \nQ 53.59375 67.90625 52.296875 67.90625 \nL 19.5 67.90625 \nQ 18.09375 67.90625 17.796875 67.546875 \nQ 17.5 67.203125 17.5 65.703125 \nL 17.5 39.296875 \nQ 17.5 37.796875 18 37.25 \nQ 18.5 36.703125 19.90625 36.703125 \nQ 25 36.703125 30.390625 36.953125 \nQ 35.796875 37.203125 41.09375 37.703125 \nQ 46.40625 38.203125 51.5 38.890625 \nQ 56.59375 39.59375 61.09375 40.5 \nQ 62.09375 40.703125 62.4375 40.390625 \nQ 62.796875 40.09375 63 39.5 \nz\nM 77 24.296875 \nQ 77 22.90625 75.59375 22.90625 \nL 71.5 22.90625 \nQ 70.09375 22.90625 70.09375 24.296875 \nL 70.09375 76.796875 \nQ 70.09375 78.203125 71.5 78.203125 \nL 75.59375 78.203125 \nQ 77 78.203125 77 76.796875 \nL 77 53 \nL 90.796875 53 \nQ 91.40625 53 91.84375 52.640625 \nQ 92.296875 52.296875 92.296875 51.703125 \nL 92.296875 48.296875 \nQ 92.296875 47.796875 91.84375 47.390625 \nQ 91.40625 47 90.796875 47 \nL 77 47 \nL 77 24.296875 \nz\n\" id=\"NanumGothic-45817\"/>\n       </defs>\n       <use xlink:href=\"#NanumGothic-49885\"/>\n       <use x=\"93.999985\" xlink:href=\"#NanumGothic-45817\"/>\n      </g>\n     </g>\n    </g>\n    <g id=\"xtick_4\">\n     <g id=\"line2d_4\">\n      <g>\n       <use style=\"stroke:#000000;stroke-width:0.8;\" x=\"281.365341\" xlink:href=\"#m9c74d3818c\" y=\"224.64\"/>\n      </g>\n     </g>\n     <g id=\"text_4\">\n      <!-- 지하철 -->\n      <g transform=\"translate(267.265341 239.160312)scale(0.1 -0.1)\">\n       <defs>\n        <path d=\"M 59.796875 13.40625 \nQ 59.5 12.90625 59.046875 12.796875 \nQ 58.59375 12.703125 57.796875 13.296875 \nQ 55.40625 15.09375 52.703125 17.4375 \nQ 50 19.796875 47.390625 22.4375 \nQ 44.796875 25.09375 42.296875 27.9375 \nQ 39.796875 30.796875 37.703125 33.59375 \nQ 32.703125 27.296875 26.296875 21.546875 \nQ 19.90625 15.796875 11.703125 10.09375 \nQ 11.203125 9.796875 10.703125 9.640625 \nQ 10.203125 9.5 9.90625 9.90625 \nL 7.5 13 \nQ 7.09375 13.5 7.1875 14.046875 \nQ 7.296875 14.59375 7.703125 14.90625 \nQ 23.703125 26.203125 32.640625 37.796875 \nQ 41.59375 49.40625 45.09375 62 \nQ 45.5 63.40625 45.140625 64.046875 \nQ 44.796875 64.703125 43.40625 64.703125 \nL 13.09375 64.703125 \nQ 11.90625 64.703125 11.90625 66 \nL 11.90625 69.5 \nQ 11.90625 70.703125 13.296875 70.703125 \nL 46.09375 70.703125 \nQ 51.296875 70.703125 52.6875 68.890625 \nQ 54.09375 67.09375 52.703125 62.5 \nQ 48.796875 49.703125 41.703125 39 \nQ 44 35.796875 46.59375 32.6875 \nQ 49.203125 29.59375 51.796875 26.84375 \nQ 54.40625 24.09375 57 21.84375 \nQ 59.59375 19.59375 61.90625 18.09375 \nQ 62.40625 17.703125 62.40625 17.203125 \nQ 62.40625 16.703125 62.09375 16.296875 \nz\nM 80.5 -12.59375 \nQ 80.5 -14 79.09375 -14 \nL 75 -14 \nQ 73.59375 -14 73.59375 -12.59375 \nL 73.59375 76.796875 \nQ 73.59375 78.203125 75 78.203125 \nL 79.09375 78.203125 \nQ 80.5 78.203125 80.5 76.796875 \nL 80.5 -12.59375 \nz\n\" id=\"NanumGothic-51648\"/>\n        <path d=\"M 55.40625 24.09375 \nQ 55.40625 20 53.75 16.5 \nQ 52.09375 13 49.1875 10.34375 \nQ 46.296875 7.703125 42.296875 6.203125 \nQ 38.296875 4.703125 33.703125 4.703125 \nQ 29 4.703125 25.046875 6.203125 \nQ 21.09375 7.703125 18.1875 10.296875 \nQ 15.296875 12.90625 13.640625 16.453125 \nQ 12 20 12 24.09375 \nQ 12 28.296875 13.640625 31.84375 \nQ 15.296875 35.40625 18.1875 38 \nQ 21.09375 40.59375 25.046875 42.09375 \nQ 29 43.59375 33.703125 43.59375 \nQ 38.296875 43.59375 42.296875 42.046875 \nQ 46.296875 40.5 49.1875 37.890625 \nQ 52.09375 35.296875 53.75 31.6875 \nQ 55.40625 28.09375 55.40625 24.09375 \nz\nM 77 -12.59375 \nQ 77 -14 75.59375 -14 \nL 71.5 -14 \nQ 70.09375 -14 70.09375 -12.59375 \nL 70.09375 76.796875 \nQ 70.09375 78.203125 71.5 78.203125 \nL 75.59375 78.203125 \nQ 77 78.203125 77 76.796875 \nL 77 39.90625 \nL 90.796875 39.90625 \nQ 91.40625 39.90625 91.84375 39.546875 \nQ 92.296875 39.203125 92.296875 38.59375 \nL 92.296875 35.203125 \nQ 92.296875 34.703125 91.84375 34.296875 \nQ 91.40625 33.90625 90.796875 33.90625 \nL 77 33.90625 \nL 77 -12.59375 \nz\nM 48.59375 24.09375 \nQ 48.59375 27 47.5 29.5 \nQ 46.40625 32 44.40625 33.84375 \nQ 42.40625 35.703125 39.65625 36.75 \nQ 36.90625 37.796875 33.703125 37.796875 \nQ 30.5 37.796875 27.75 36.75 \nQ 25 35.703125 23 33.84375 \nQ 21 32 19.84375 29.5 \nQ 18.703125 27 18.703125 24.09375 \nQ 18.703125 21.203125 19.84375 18.75 \nQ 21 16.296875 23 14.4375 \nQ 25 12.59375 27.75 11.546875 \nQ 30.5 10.5 33.703125 10.5 \nQ 36.90625 10.5 39.65625 11.546875 \nQ 42.40625 12.59375 44.40625 14.390625 \nQ 46.40625 16.203125 47.5 18.703125 \nQ 48.59375 21.203125 48.59375 24.09375 \nz\nM 62.90625 52 \nQ 62.90625 50.703125 61.40625 50.703125 \nL 6.203125 50.703125 \nQ 5.703125 50.703125 5.25 51.09375 \nQ 4.796875 51.5 4.796875 52.09375 \nL 4.796875 55.296875 \nQ 4.796875 55.90625 5.25 56.296875 \nQ 5.703125 56.703125 6.203125 56.703125 \nL 61.40625 56.703125 \nQ 62.90625 56.703125 62.90625 55.40625 \nL 62.90625 52 \nz\nM 48.296875 69 \nQ 48.296875 67.59375 46.796875 67.59375 \nL 19.40625 67.59375 \nQ 18.90625 67.59375 18.453125 67.9375 \nQ 18 68.296875 18 68.90625 \nL 18 72.296875 \nQ 18 72.90625 18.390625 73.296875 \nQ 18.796875 73.703125 19.296875 73.703125 \nL 46.796875 73.703125 \nQ 48.296875 73.703125 48.296875 72.296875 \nL 48.296875 69 \nz\n\" id=\"NanumGothic-54616\"/>\n        <path d=\"M 82.59375 -13.09375 \nQ 82.59375 -13.59375 82.140625 -13.9375 \nQ 81.703125 -14.296875 81.296875 -14.296875 \nL 31 -14.296875 \nQ 26.296875 -14.296875 24.84375 -12.546875 \nQ 23.40625 -10.796875 23.40625 -6.59375 \nL 23.40625 -0.203125 \nQ 23.40625 4 25.15625 5.453125 \nQ 26.90625 6.90625 31.40625 6.90625 \nL 71.40625 6.90625 \nQ 72.796875 6.90625 73.1875 7.296875 \nQ 73.59375 7.703125 73.59375 9.203125 \nL 73.59375 13.59375 \nQ 73.59375 15.09375 73.25 15.5 \nQ 72.90625 15.90625 71.5 15.90625 \nL 24.59375 15.90625 \nQ 24.09375 15.90625 23.640625 16.203125 \nQ 23.203125 16.5 23.203125 17 \nL 23.203125 20.59375 \nQ 23.203125 21.09375 23.640625 21.390625 \nQ 24.09375 21.703125 24.59375 21.703125 \nL 72.59375 21.703125 \nQ 75 21.703125 76.5 21.34375 \nQ 78 21 78.890625 20.203125 \nQ 79.796875 19.40625 80.140625 17.953125 \nQ 80.5 16.5 80.5 14.40625 \nL 80.5 8.203125 \nQ 80.5 4 78.75 2.546875 \nQ 77 1.09375 72.5 1.09375 \nL 32.40625 1.09375 \nQ 31 1.09375 30.640625 0.6875 \nQ 30.296875 0.296875 30.296875 -1.203125 \nL 30.296875 -6.203125 \nQ 30.296875 -7.59375 30.6875 -8.046875 \nQ 31.09375 -8.5 32.5 -8.5 \nL 81.203125 -8.5 \nQ 81.703125 -8.5 82.140625 -8.796875 \nQ 82.59375 -9.09375 82.59375 -9.59375 \nz\nM 59.09375 29.296875 \nQ 58.796875 28.59375 58.34375 28.390625 \nQ 57.90625 28.203125 57 28.59375 \nQ 52.09375 30.703125 47.25 33.640625 \nQ 42.40625 36.59375 37.90625 40.296875 \nQ 32.40625 36.09375 25.75 32.640625 \nQ 19.09375 29.203125 11.40625 26.59375 \nQ 10.90625 26.40625 10.40625 26.40625 \nQ 9.90625 26.40625 9.703125 26.90625 \nL 8.09375 30.59375 \nQ 7.90625 31.09375 8.203125 31.59375 \nQ 8.5 32.09375 9 32.296875 \nQ 20.90625 36.5 30 42.5 \nQ 39.09375 48.5 45.203125 56.5 \nQ 46.09375 57.703125 45.5 58.390625 \nQ 44.90625 59.09375 43.5 59.09375 \nL 13.203125 59.09375 \nQ 12 59.09375 12 60.40625 \nL 12 63.90625 \nQ 12 65.09375 13.203125 65.09375 \nL 46.203125 65.09375 \nQ 51.40625 65.09375 53.25 63.09375 \nQ 55.09375 61.09375 52.796875 56.90625 \nQ 49.09375 50.40625 42.796875 44.40625 \nQ 46.90625 41.09375 51.25 38.546875 \nQ 55.59375 36 59.90625 34.40625 \nQ 61.296875 33.703125 60.703125 32.5 \nz\nM 73.59375 50.59375 \nL 73.59375 76.796875 \nQ 73.59375 78.203125 75 78.203125 \nL 79.09375 78.203125 \nQ 80.5 78.203125 80.5 76.796875 \nL 80.5 28.796875 \nQ 80.5 27.40625 79.09375 27.40625 \nL 75 27.40625 \nQ 73.59375 27.40625 73.59375 28.796875 \nL 73.59375 44.59375 \nL 57 44.59375 \nQ 55.703125 44.59375 55.703125 45.796875 \nL 55.703125 49.40625 \nQ 55.703125 50.59375 57 50.59375 \nz\nM 44.296875 77.59375 \nQ 45.796875 77.59375 45.796875 76.203125 \nL 45.796875 73 \nQ 45.796875 71.5 44.296875 71.5 \nL 21.703125 71.5 \nQ 20.203125 71.5 20.203125 73 \nL 20.203125 76.203125 \nQ 20.203125 77.59375 21.703125 77.59375 \nL 44.296875 77.59375 \nz\n\" id=\"NanumGothic-52384\"/>\n       </defs>\n       <use xlink:href=\"#NanumGothic-51648\"/>\n       <use x=\"93.999985\" xlink:href=\"#NanumGothic-54616\"/>\n       <use x=\"187.999969\" xlink:href=\"#NanumGothic-52384\"/>\n      </g>\n     </g>\n    </g>\n    <g id=\"xtick_5\">\n     <g id=\"line2d_5\">\n      <g>\n       <use style=\"stroke:#000000;stroke-width:0.8;\" x=\"344.774432\" xlink:href=\"#m9c74d3818c\" y=\"224.64\"/>\n      </g>\n     </g>\n     <g id=\"text_5\">\n      <!-- 택시 -->\n      <g transform=\"translate(335.374432 239.160312)scale(0.1 -0.1)\">\n       <defs>\n        <path d=\"M 42.5 47.40625 \nQ 37.09375 47 31.75 46.796875 \nQ 26.40625 46.59375 20.703125 46.796875 \nL 15 46.796875 \nL 15 34.703125 \nQ 15 33.203125 15.5 32.640625 \nQ 16 32.09375 17.40625 32.09375 \nQ 21.703125 32 25.640625 32.09375 \nQ 29.59375 32.203125 33.390625 32.59375 \nQ 37.203125 33 41.046875 33.546875 \nQ 44.90625 34.09375 49 34.90625 \nQ 50.703125 35.203125 51 33.796875 \nL 51.5 30.90625 \nQ 51.703125 30 51.390625 29.640625 \nQ 51.09375 29.296875 50.203125 29.09375 \nQ 42.203125 27.5 33.796875 26.640625 \nQ 25.40625 25.796875 15.90625 26 \nQ 11.40625 26.09375 9.75 28.046875 \nQ 8.09375 30 8.09375 34.203125 \nL 8.09375 65.40625 \nQ 8.09375 69.59375 9.6875 71 \nQ 11.296875 72.40625 15.703125 72.40625 \nL 42.703125 72.40625 \nQ 44 72.40625 44 71.203125 \nL 44 67.59375 \nQ 44 66.40625 42.703125 66.40625 \nL 17 66.40625 \nQ 15.59375 66.40625 15.296875 66.046875 \nQ 15 65.703125 15 64.203125 \nL 15 52.59375 \nL 20.703125 52.59375 \nQ 26.40625 52.59375 31.84375 52.6875 \nQ 37.296875 52.796875 42.40625 53.203125 \nQ 43 53.296875 43.34375 52.890625 \nQ 43.703125 52.5 43.703125 52 \nL 43.796875 48.59375 \nQ 43.796875 47.59375 42.5 47.40625 \nz\nM 64.5 52 \nL 77.203125 52 \nL 77.203125 76.796875 \nQ 77.203125 78.203125 78.59375 78.203125 \nL 82.40625 78.203125 \nQ 83.796875 78.203125 83.796875 76.796875 \nL 83.796875 23.40625 \nQ 83.796875 22 82.40625 22 \nL 78.59375 22 \nQ 77.203125 22 77.203125 23.40625 \nL 77.203125 46 \nL 64.5 46 \nL 64.5 24.703125 \nQ 64.5 23.296875 63.09375 23.296875 \nL 59.296875 23.296875 \nQ 57.90625 23.296875 57.90625 24.703125 \nL 57.90625 75.09375 \nQ 57.90625 76.5 59.296875 76.5 \nL 63.09375 76.5 \nQ 64.5 76.5 64.5 75.09375 \nz\nM 22.5 15.40625 \nQ 22.5 16 23 16.296875 \nQ 23.5 16.59375 24 16.59375 \nL 76.203125 16.59375 \nQ 80.90625 16.59375 82.34375 14.84375 \nQ 83.796875 13.09375 83.796875 9 \nL 83.796875 -13 \nQ 83.796875 -14.40625 82.40625 -14.40625 \nL 78.296875 -14.40625 \nQ 76.90625 -14.40625 76.90625 -13 \nL 76.90625 8.5 \nQ 76.90625 9.90625 76.453125 10.25 \nQ 76 10.59375 74.59375 10.59375 \nL 24 10.59375 \nQ 23.5 10.59375 23 10.9375 \nQ 22.5 11.296875 22.5 11.796875 \nL 22.5 15.40625 \nz\n\" id=\"NanumGothic-53469\"/>\n        <path d=\"M 37.59375 71.703125 \nQ 37.59375 65.09375 37.046875 59.046875 \nQ 36.5 53 35.296875 47.40625 \nQ 36.296875 43.40625 38.390625 38.953125 \nQ 40.5 34.5 43.34375 30.09375 \nQ 46.203125 25.703125 49.75 21.546875 \nQ 53.296875 17.40625 57.296875 14.09375 \nQ 57.796875 13.703125 57.84375 13.09375 \nQ 57.90625 12.5 57.59375 12.09375 \nL 55.09375 9 \nQ 54.203125 7.90625 53 9 \nQ 50.203125 11.40625 47.25 14.75 \nQ 44.296875 18.09375 41.546875 21.796875 \nQ 38.796875 25.5 36.390625 29.390625 \nQ 34 33.296875 32.296875 36.90625 \nQ 29.09375 27.796875 23.890625 20.140625 \nQ 18.703125 12.5 11.5 5.90625 \nQ 10.5 5.09375 9.796875 5.796875 \nL 6.796875 8.90625 \nQ 6.5 9.203125 6.546875 9.703125 \nQ 6.59375 10.203125 7.09375 10.703125 \nQ 13.203125 16.5 17.703125 22.890625 \nQ 22.203125 29.296875 25.046875 36.6875 \nQ 27.90625 44.09375 29.25 52.796875 \nQ 30.59375 61.5 30.59375 71.90625 \nQ 30.59375 72.59375 30.9375 72.9375 \nQ 31.296875 73.296875 31.796875 73.296875 \nL 36.5 73.09375 \nQ 37.59375 73.09375 37.59375 71.703125 \nz\nM 80.5 -12.59375 \nQ 80.5 -14 79.09375 -14 \nL 75 -14 \nQ 73.59375 -14 73.59375 -12.59375 \nL 73.59375 76.796875 \nQ 73.59375 78.203125 75 78.203125 \nL 79.09375 78.203125 \nQ 80.5 78.203125 80.5 76.796875 \nL 80.5 -12.59375 \nz\n\" id=\"NanumGothic-49884\"/>\n       </defs>\n       <use xlink:href=\"#NanumGothic-53469\"/>\n       <use x=\"93.999985\" xlink:href=\"#NanumGothic-49884\"/>\n      </g>\n     </g>\n    </g>\n   </g>\n   <g id=\"matplotlib.axis_2\">\n    <g id=\"ytick_1\">\n     <g id=\"line2d_6\">\n      <defs>\n       <path d=\"M 0 0 \nL -3.5 0 \n\" id=\"m417d98baee\" style=\"stroke:#000000;stroke-width:0.8;\"/>\n      </defs>\n      <g>\n       <use style=\"stroke:#000000;stroke-width:0.8;\" x=\"50.55625\" xlink:href=\"#m417d98baee\" y=\"224.64\"/>\n      </g>\n     </g>\n     <g id=\"text_6\">\n      <!-- 0 -->\n      <g transform=\"translate(37.496875 228.400156)scale(0.1 -0.1)\">\n       <defs>\n        <path d=\"M 47.90625 32.703125 \nQ 47.90625 64.09375 30.703125 64.09375 \nQ 13.5 64.09375 13.5 32.703125 \nQ 13.5 1.203125 30.703125 1.203125 \nQ 47.90625 1.203125 47.90625 32.703125 \nz\nM 55.09375 32.703125 \nQ 55.09375 -5.09375 30.703125 -5.09375 \nQ 6.09375 -5.09375 6.09375 32.703125 \nQ 6.09375 48.40625 10.90625 58.203125 \nQ 17 70.5 30.703125 70.5 \nQ 44.203125 70.5 50.40625 58.203125 \nQ 52.703125 53.296875 53.890625 47 \nQ 55.09375 40.703125 55.09375 32.703125 \nz\n\" id=\"NanumGothic-48\"/>\n       </defs>\n       <use xlink:href=\"#NanumGothic-48\"/>\n      </g>\n     </g>\n    </g>\n    <g id=\"ytick_2\">\n     <g id=\"line2d_7\">\n      <g>\n       <use style=\"stroke:#000000;stroke-width:0.8;\" x=\"50.55625\" xlink:href=\"#m417d98baee\" y=\"199.342763\"/>\n      </g>\n     </g>\n     <g id=\"text_7\">\n      <!-- 20000 -->\n      <g transform=\"translate(13.259375 203.102919)scale(0.1 -0.1)\">\n       <defs>\n        <path d=\"M 9 -4.703125 \nQ 7.90625 -4.703125 7.34375 -4.640625 \nQ 6.796875 -4.59375 6.546875 -4.34375 \nQ 6.296875 -4.09375 6.25 -3.546875 \nQ 6.203125 -3 6.203125 -1.90625 \nL 6.296875 0.296875 \nQ 6.296875 1.59375 7.09375 2.40625 \nL 23.59375 20.59375 \nQ 42 40.5 42 50.796875 \nQ 42 56.796875 38 60.796875 \nQ 34.09375 64.703125 28.296875 64.703125 \nQ 20.203125 64.703125 11.40625 60.203125 \nQ 10 59.5 9.796875 60.796875 \nL 9.203125 64.09375 \nQ 8.90625 65.796875 10.203125 66.203125 \nQ 15.296875 68.5 19.390625 69.59375 \nQ 23.5 70.703125 27.796875 70.703125 \nQ 37.40625 70.703125 43.09375 65.90625 \nQ 49.5 60.703125 49.5 51.09375 \nQ 49.5 47.40625 47.703125 43 \nQ 45.90625 38.59375 42.703125 33.796875 \nQ 40.703125 31 37.046875 26.5 \nQ 33.40625 22 28.703125 16.90625 \nQ 25.203125 13.09375 21.75 9.1875 \nQ 18.296875 5.296875 14.796875 1.5 \nL 49.796875 1.5 \nQ 51.203125 1.5 51.203125 0.09375 \nL 51.203125 -3.296875 \nQ 51.203125 -4.703125 49.796875 -4.703125 \nz\n\" id=\"NanumGothic-50\"/>\n       </defs>\n       <use xlink:href=\"#NanumGothic-50\"/>\n       <use x=\"60.599991\" xlink:href=\"#NanumGothic-48\"/>\n       <use x=\"121.199982\" xlink:href=\"#NanumGothic-48\"/>\n       <use x=\"181.799973\" xlink:href=\"#NanumGothic-48\"/>\n       <use x=\"242.399963\" xlink:href=\"#NanumGothic-48\"/>\n      </g>\n     </g>\n    </g>\n    <g id=\"ytick_3\">\n     <g id=\"line2d_8\">\n      <g>\n       <use style=\"stroke:#000000;stroke-width:0.8;\" x=\"50.55625\" xlink:href=\"#m417d98baee\" y=\"174.045525\"/>\n      </g>\n     </g>\n     <g id=\"text_8\">\n      <!-- 40000 -->\n      <g transform=\"translate(13.259375 177.805682)scale(0.1 -0.1)\">\n       <defs>\n        <path d=\"M 39.203125 19 \nL 39.203125 63.59375 \nQ 31.796875 52.40625 24.5 41.296875 \nQ 17.203125 30.203125 9.703125 19 \nz\nM 46 -3.296875 \nQ 46 -4.703125 44.59375 -4.703125 \nL 40.59375 -4.703125 \nQ 39.203125 -4.703125 39.203125 -3.296875 \nL 39.203125 12.90625 \nL 6.203125 12.90625 \nQ 4.09375 12.90625 3.75 13.25 \nQ 3.40625 13.59375 3.40625 15.703125 \nL 3.40625 18.796875 \nQ 3.40625 19.703125 3.5 20 \nQ 3.59375 20.296875 4.09375 21.09375 \nL 36 68.703125 \nQ 36.59375 69.59375 36.84375 69.75 \nQ 37.09375 69.90625 38.203125 69.90625 \nL 43.203125 69.90625 \nQ 45.296875 69.90625 45.640625 69.546875 \nQ 46 69.203125 46 67.09375 \nL 46 19 \nL 55.90625 19 \nQ 57.296875 19 57.296875 17.59375 \nL 57.296875 14.296875 \nQ 57.296875 12.90625 55.90625 12.90625 \nL 46 12.90625 \nz\n\" id=\"NanumGothic-52\"/>\n       </defs>\n       <use xlink:href=\"#NanumGothic-52\"/>\n       <use x=\"60.599991\" xlink:href=\"#NanumGothic-48\"/>\n       <use x=\"121.199982\" xlink:href=\"#NanumGothic-48\"/>\n       <use x=\"181.799973\" xlink:href=\"#NanumGothic-48\"/>\n       <use x=\"242.399963\" xlink:href=\"#NanumGothic-48\"/>\n      </g>\n     </g>\n    </g>\n    <g id=\"ytick_4\">\n     <g id=\"line2d_9\">\n      <g>\n       <use style=\"stroke:#000000;stroke-width:0.8;\" x=\"50.55625\" xlink:href=\"#m417d98baee\" y=\"148.748288\"/>\n      </g>\n     </g>\n     <g id=\"text_9\">\n      <!-- 60000 -->\n      <g transform=\"translate(13.259375 152.508444)scale(0.1 -0.1)\">\n       <defs>\n        <path d=\"M 48.09375 18.796875 \nQ 48.09375 26.90625 43.90625 31.59375 \nQ 39.703125 36.40625 31.90625 36.40625 \nQ 27.90625 36.40625 24.703125 35.15625 \nQ 21.5 33.90625 19.25 31.703125 \nQ 17 29.5 15.75 26.390625 \nQ 14.5 23.296875 14.5 19.59375 \nQ 14.5 12 18.703125 6.796875 \nQ 23.296875 0.703125 31 0.703125 \nQ 38.90625 0.703125 43.703125 6 \nQ 48.09375 11 48.09375 18.796875 \nz\nM 50.703125 62.703125 \nQ 48.40625 63.5 45.453125 64 \nQ 42.5 64.5 39.59375 64.5 \nQ 26 64.5 19.5 54.703125 \nQ 14 46.5 13.796875 32.203125 \nQ 16 36.203125 20.203125 39 \nQ 25.40625 42.703125 31.90625 42.703125 \nQ 41 42.703125 47.203125 37.90625 \nQ 55.09375 31.796875 55.09375 19.296875 \nQ 55.09375 8.703125 48.59375 1.703125 \nQ 42 -5.40625 30.796875 -5.40625 \nQ 6.796875 -5.40625 6.796875 30 \nQ 6.796875 48.5 14.203125 58.90625 \nQ 22.90625 70.703125 40.40625 70.703125 \nQ 43 70.703125 45.84375 70.296875 \nQ 48.703125 69.90625 51.09375 69.203125 \nQ 52.59375 68.90625 52.40625 67.40625 \nL 52.203125 63.703125 \nQ 52.203125 63 51.703125 62.75 \nQ 51.203125 62.5 50.703125 62.703125 \nz\n\" id=\"NanumGothic-54\"/>\n       </defs>\n       <use xlink:href=\"#NanumGothic-54\"/>\n       <use x=\"60.599991\" xlink:href=\"#NanumGothic-48\"/>\n       <use x=\"121.199982\" xlink:href=\"#NanumGothic-48\"/>\n       <use x=\"181.799973\" xlink:href=\"#NanumGothic-48\"/>\n       <use x=\"242.399963\" xlink:href=\"#NanumGothic-48\"/>\n      </g>\n     </g>\n    </g>\n    <g id=\"ytick_5\">\n     <g id=\"line2d_10\">\n      <g>\n       <use style=\"stroke:#000000;stroke-width:0.8;\" x=\"50.55625\" xlink:href=\"#m417d98baee\" y=\"123.451051\"/>\n      </g>\n     </g>\n     <g id=\"text_10\">\n      <!-- 80000 -->\n      <g transform=\"translate(13.259375 127.211207)scale(0.1 -0.1)\">\n       <defs>\n        <path d=\"M 46 52.5 \nQ 46 58.203125 41 61.5 \nQ 36.59375 64.59375 30.703125 64.59375 \nQ 24.296875 64.59375 19.90625 61.40625 \nQ 15.09375 58.203125 15.09375 52.5 \nQ 15.09375 47.296875 20.09375 43.09375 \nQ 21.5 41.796875 23.84375 40.296875 \nQ 26.203125 38.796875 29.40625 37.296875 \nQ 30.203125 36.90625 30.703125 36.953125 \nQ 31.203125 37 32.203125 37.5 \nQ 38.59375 41 42.296875 44.84375 \nQ 46 48.703125 46 52.5 \nz\nM 48.5 15 \nQ 48.5 20.5 43.5 24.59375 \nQ 41.90625 25.90625 39 27.5 \nQ 36.09375 29.09375 31.90625 31 \nQ 30.59375 31.703125 29 31 \nQ 25.09375 29.5 22.09375 27.84375 \nQ 19.09375 26.203125 17.296875 24.796875 \nQ 15.296875 22.796875 14.046875 20.140625 \nQ 12.796875 17.5 12.796875 14.5 \nQ 12.796875 8.40625 18.5 4.5 \nQ 23.703125 0.59375 30.703125 0.59375 \nQ 37.90625 0.59375 42.796875 4 \nQ 48.5 7.90625 48.5 15 \nz\nM 55.5 14.5 \nQ 55.5 9.59375 53.453125 5.6875 \nQ 51.40625 1.796875 47.59375 -0.796875 \nQ 44.296875 -3 40 -4.203125 \nQ 35.703125 -5.40625 30.703125 -5.40625 \nQ 25.796875 -5.40625 21.546875 -4.09375 \nQ 17.296875 -2.796875 13.796875 -0.5 \nQ 10 2.203125 7.890625 6.046875 \nQ 5.796875 9.90625 5.796875 14.5 \nQ 5.796875 22.296875 11 27.203125 \nQ 15 31 23.296875 34.09375 \nQ 8.09375 41.59375 8.09375 53.296875 \nQ 8.09375 57.5 10.1875 60.75 \nQ 12.296875 64 16.09375 66.59375 \nQ 19.296875 68.59375 22.9375 69.640625 \nQ 26.59375 70.703125 30.703125 70.703125 \nQ 35.5 70.703125 39.296875 69.640625 \nQ 43.09375 68.59375 46.203125 66.5 \nQ 53.09375 61.703125 53.09375 53.296875 \nQ 53.09375 42.90625 37.5 34.09375 \nQ 41.59375 32.59375 44.84375 30.796875 \nQ 48.09375 29 50.09375 27.203125 \nQ 55.5 22.40625 55.5 14.5 \nz\n\" id=\"NanumGothic-56\"/>\n       </defs>\n       <use xlink:href=\"#NanumGothic-56\"/>\n       <use x=\"60.599991\" xlink:href=\"#NanumGothic-48\"/>\n       <use x=\"121.199982\" xlink:href=\"#NanumGothic-48\"/>\n       <use x=\"181.799973\" xlink:href=\"#NanumGothic-48\"/>\n       <use x=\"242.399963\" xlink:href=\"#NanumGothic-48\"/>\n      </g>\n     </g>\n    </g>\n    <g id=\"ytick_6\">\n     <g id=\"line2d_11\">\n      <g>\n       <use style=\"stroke:#000000;stroke-width:0.8;\" x=\"50.55625\" xlink:href=\"#m417d98baee\" y=\"98.153813\"/>\n      </g>\n     </g>\n     <g id=\"text_11\">\n      <!-- 100000 -->\n      <g transform=\"translate(7.2 101.91397)scale(0.1 -0.1)\">\n       <defs>\n        <path d=\"M 36.90625 -3.296875 \nQ 36.90625 -4.703125 35.5 -4.703125 \nL 31.40625 -4.703125 \nQ 30 -4.703125 30 -3.296875 \nL 30 61.703125 \nQ 26.90625 59.09375 24.203125 56.796875 \nQ 21.5 54.5 18.5 51.90625 \nQ 17.40625 51 16.5 52.09375 \nL 14.5 54.5 \nQ 14.203125 55 14.203125 55.546875 \nQ 14.203125 56.09375 14.703125 56.5 \nL 30.203125 69.5 \nQ 30.59375 69.90625 31.40625 69.90625 \nL 34.09375 69.90625 \nQ 36.203125 69.90625 36.546875 69.546875 \nQ 36.90625 69.203125 36.90625 67.09375 \nz\n\" id=\"NanumGothic-49\"/>\n       </defs>\n       <use xlink:href=\"#NanumGothic-49\"/>\n       <use x=\"60.599991\" xlink:href=\"#NanumGothic-48\"/>\n       <use x=\"121.199982\" xlink:href=\"#NanumGothic-48\"/>\n       <use x=\"181.799973\" xlink:href=\"#NanumGothic-48\"/>\n       <use x=\"242.399963\" xlink:href=\"#NanumGothic-48\"/>\n       <use x=\"302.999954\" xlink:href=\"#NanumGothic-48\"/>\n      </g>\n     </g>\n    </g>\n    <g id=\"ytick_7\">\n     <g id=\"line2d_12\">\n      <g>\n       <use style=\"stroke:#000000;stroke-width:0.8;\" x=\"50.55625\" xlink:href=\"#m417d98baee\" y=\"72.856576\"/>\n      </g>\n     </g>\n     <g id=\"text_12\">\n      <!-- 120000 -->\n      <g transform=\"translate(7.2 76.616732)scale(0.1 -0.1)\">\n       <use xlink:href=\"#NanumGothic-49\"/>\n       <use x=\"60.599991\" xlink:href=\"#NanumGothic-50\"/>\n       <use x=\"121.199982\" xlink:href=\"#NanumGothic-48\"/>\n       <use x=\"181.799973\" xlink:href=\"#NanumGothic-48\"/>\n       <use x=\"242.399963\" xlink:href=\"#NanumGothic-48\"/>\n       <use x=\"302.999954\" xlink:href=\"#NanumGothic-48\"/>\n      </g>\n     </g>\n    </g>\n    <g id=\"ytick_8\">\n     <g id=\"line2d_13\">\n      <g>\n       <use style=\"stroke:#000000;stroke-width:0.8;\" x=\"50.55625\" xlink:href=\"#m417d98baee\" y=\"47.559339\"/>\n      </g>\n     </g>\n     <g id=\"text_13\">\n      <!-- 140000 -->\n      <g transform=\"translate(7.2 51.319495)scale(0.1 -0.1)\">\n       <use xlink:href=\"#NanumGothic-49\"/>\n       <use x=\"60.599991\" xlink:href=\"#NanumGothic-52\"/>\n       <use x=\"121.199982\" xlink:href=\"#NanumGothic-48\"/>\n       <use x=\"181.799973\" xlink:href=\"#NanumGothic-48\"/>\n       <use x=\"242.399963\" xlink:href=\"#NanumGothic-48\"/>\n       <use x=\"302.999954\" xlink:href=\"#NanumGothic-48\"/>\n      </g>\n     </g>\n    </g>\n    <g id=\"ytick_9\">\n     <g id=\"line2d_14\">\n      <g>\n       <use style=\"stroke:#000000;stroke-width:0.8;\" x=\"50.55625\" xlink:href=\"#m417d98baee\" y=\"22.262102\"/>\n      </g>\n     </g>\n     <g id=\"text_14\">\n      <!-- 160000 -->\n      <g transform=\"translate(7.2 26.022258)scale(0.1 -0.1)\">\n       <use xlink:href=\"#NanumGothic-49\"/>\n       <use x=\"60.599991\" xlink:href=\"#NanumGothic-54\"/>\n       <use x=\"121.199982\" xlink:href=\"#NanumGothic-48\"/>\n       <use x=\"181.799973\" xlink:href=\"#NanumGothic-48\"/>\n       <use x=\"242.399963\" xlink:href=\"#NanumGothic-48\"/>\n       <use x=\"302.999954\" xlink:href=\"#NanumGothic-48\"/>\n      </g>\n     </g>\n    </g>\n   </g>\n   <g id=\"patch_8\">\n    <path d=\"M 50.55625 224.64 \nL 50.55625 7.2 \n\" style=\"fill:none;stroke:#000000;stroke-linecap:square;stroke-linejoin:miter;stroke-width:0.8;\"/>\n   </g>\n   <g id=\"patch_9\">\n    <path d=\"M 385.35625 224.64 \nL 385.35625 7.2 \n\" style=\"fill:none;stroke:#000000;stroke-linecap:square;stroke-linejoin:miter;stroke-width:0.8;\"/>\n   </g>\n   <g id=\"patch_10\">\n    <path d=\"M 50.55625 224.64 \nL 385.35625 224.64 \n\" style=\"fill:none;stroke:#000000;stroke-linecap:square;stroke-linejoin:miter;stroke-width:0.8;\"/>\n   </g>\n   <g id=\"patch_11\">\n    <path d=\"M 50.55625 7.2 \nL 385.35625 7.2 \n\" style=\"fill:none;stroke:#000000;stroke-linecap:square;stroke-linejoin:miter;stroke-width:0.8;\"/>\n   </g>\n  </g>\n </g>\n <defs>\n  <clipPath id=\"pd047d9e9d1\">\n   <rect height=\"217.44\" width=\"334.8\" x=\"50.55625\" y=\"7.2\"/>\n  </clipPath>\n </defs>\n</svg>\n",
      "image/png": "[encoded data removed]"
     },
     "metadata": {
      "needs_background": "light"
     }
    }
   ],
   "source": [
    "plt.bar(xticks_d, data_d)"
   ]
  },
  {
   "cell_type": "code",
   "execution_count": 11,
   "id": "6589e340-38c0-4051-a495-dc257abd8cea",
   "metadata": {},
   "outputs": [
    {
     "output_type": "execute_result",
     "data": {
      "text/plain": [
       "        count\n",
       "slot         \n",
       "가격대     43873\n",
       "경치 좋은    2178\n",
       "교육적      1669\n",
       "도보 가능    1462\n",
       "도착 시간    3561\n",
       "도착지     10364\n",
       "문화 예술    1194\n",
       "수영장 유무    475\n",
       "스파 유무    3191\n",
       "야외석 유무   3295\n",
       "역사적      4000\n",
       "예약 기간   19371\n",
       "예약 명수   38670\n",
       "예약 시간   19097\n",
       "예약 요일   38728\n",
       "이름      55875\n",
       "인터넷 가능   4033\n",
       "조식 가능    2032\n",
       "종류      69349\n",
       "주류 판매    2863\n",
       "주차 가능    7910\n",
       "지역      62332\n",
       "출발 시간    8219\n",
       "출발지     10405\n",
       "헬스장 유무   1972\n",
       "흡연 가능    4534"
      ],
      "text/html": "<div>\n<style scoped>\n    .dataframe tbody tr th:only-of-type {\n        vertical-align: middle;\n    }\n\n    .dataframe tbody tr th {\n        vertical-align: top;\n    }\n\n    .dataframe thead th {\n        text-align: right;\n    }\n</style>\n<table border=\"1\" class=\"dataframe\">\n  <thead>\n    <tr style=\"text-align: right;\">\n      <th></th>\n      <th>count</th>\n    </tr>\n    <tr>\n      <th>slot</th>\n      <th></th>\n    </tr>\n  </thead>\n  <tbody>\n    <tr>\n      <th>가격대</th>\n      <td>43873</td>\n    </tr>\n    <tr>\n      <th>경치 좋은</th>\n      <td>2178</td>\n    </tr>\n    <tr>\n      <th>교육적</th>\n      <td>1669</td>\n    </tr>\n    <tr>\n      <th>도보 가능</th>\n      <td>1462</td>\n    </tr>\n    <tr>\n      <th>도착 시간</th>\n      <td>3561</td>\n    </tr>\n    <tr>\n      <th>도착지</th>\n      <td>10364</td>\n    </tr>\n    <tr>\n      <th>문화 예술</th>\n      <td>1194</td>\n    </tr>\n    <tr>\n      <th>수영장 유무</th>\n      <td>475</td>\n    </tr>\n    <tr>\n      <th>스파 유무</th>\n      <td>3191</td>\n    </tr>\n    <tr>\n      <th>야외석 유무</th>\n      <td>3295</td>\n    </tr>\n    <tr>\n      <th>역사적</th>\n      <td>4000</td>\n    </tr>\n    <tr>\n      <th>예약 기간</th>\n      <td>19371</td>\n    </tr>\n    <tr>\n      <th>예약 명수</th>\n      <td>38670</td>\n    </tr>\n    <tr>\n      <th>예약 시간</th>\n      <td>19097</td>\n    </tr>\n    <tr>\n      <th>예약 요일</th>\n      <td>38728</td>\n    </tr>\n    <tr>\n      <th>이름</th>\n      <td>55875</td>\n    </tr>\n    <tr>\n      <th>인터넷 가능</th>\n      <td>4033</td>\n    </tr>\n    <tr>\n      <th>조식 가능</th>\n      <td>2032</td>\n    </tr>\n    <tr>\n      <th>종류</th>\n      <td>69349</td>\n    </tr>\n    <tr>\n      <th>주류 판매</th>\n      <td>2863</td>\n    </tr>\n    <tr>\n      <th>주차 가능</th>\n      <td>7910</td>\n    </tr>\n    <tr>\n      <th>지역</th>\n      <td>62332</td>\n    </tr>\n    <tr>\n      <th>출발 시간</th>\n      <td>8219</td>\n    </tr>\n    <tr>\n      <th>출발지</th>\n      <td>10405</td>\n    </tr>\n    <tr>\n      <th>헬스장 유무</th>\n      <td>1972</td>\n    </tr>\n    <tr>\n      <th>흡연 가능</th>\n      <td>4534</td>\n    </tr>\n  </tbody>\n</table>\n</div>"
     },
     "metadata": {},
     "execution_count": 11
    }
   ],
   "source": [
    "grouped_s = df.groupby([\"slot\"]).sum()\n",
    "grouped_s"
   ]
  },
  {
   "cell_type": "code",
   "execution_count": 12,
   "id": "2e3f8a80-c95c-4409-bb63-8d3497341921",
   "metadata": {},
   "outputs": [
    {
     "output_type": "execute_result",
     "data": {
      "text/plain": [
       "            count\n",
       "value            \n",
       "00:10           2\n",
       "00:15           6\n",
       "00:20           4\n",
       "00:30          12\n",
       "00:45           2\n",
       "...           ...\n",
       "회오리라멘          58\n",
       "회현역           105\n",
       "힐 모텔 서울       346\n",
       "힐링 게스트 하우스      4\n",
       "힐링 호텔         358\n",
       "\n",
       "[1113 rows x 1 columns]"
      ],
      "text/html": "<div>\n<style scoped>\n    .dataframe tbody tr th:only-of-type {\n        vertical-align: middle;\n    }\n\n    .dataframe tbody tr th {\n        vertical-align: top;\n    }\n\n    .dataframe thead th {\n        text-align: right;\n    }\n</style>\n<table border=\"1\" class=\"dataframe\">\n  <thead>\n    <tr style=\"text-align: right;\">\n      <th></th>\n      <th>count</th>\n    </tr>\n    <tr>\n      <th>value</th>\n      <th></th>\n    </tr>\n  </thead>\n  <tbody>\n    <tr>\n      <th>00:10</th>\n      <td>2</td>\n    </tr>\n    <tr>\n      <th>00:15</th>\n      <td>6</td>\n    </tr>\n    <tr>\n      <th>00:20</th>\n      <td>4</td>\n    </tr>\n    <tr>\n      <th>00:30</th>\n      <td>12</td>\n    </tr>\n    <tr>\n      <th>00:45</th>\n      <td>2</td>\n    </tr>\n    <tr>\n      <th>...</th>\n      <td>...</td>\n    </tr>\n    <tr>\n      <th>회오리라멘</th>\n      <td>58</td>\n    </tr>\n    <tr>\n      <th>회현역</th>\n      <td>105</td>\n    </tr>\n    <tr>\n      <th>힐 모텔 서울</th>\n      <td>346</td>\n    </tr>\n    <tr>\n      <th>힐링 게스트 하우스</th>\n      <td>4</td>\n    </tr>\n    <tr>\n      <th>힐링 호텔</th>\n      <td>358</td>\n    </tr>\n  </tbody>\n</table>\n<p>1113 rows × 1 columns</p>\n</div>"
     },
     "metadata": {},
     "execution_count": 12
    }
   ],
   "source": [
    "grouped_v = df.groupby([\"value\"]).sum()\n",
    "grouped_v"
   ]
  },
  {
   "cell_type": "code",
   "execution_count": 14,
   "id": "9cf8c925-c31d-4328-b70c-f5b0b21433c7",
   "metadata": {},
   "outputs": [
    {
     "output_type": "execute_result",
     "data": {
      "text/plain": [
       "                       count\n",
       "domain slot  value          \n",
       "관광     경치 좋은 yes        2178\n",
       "       교육적   yes        1669\n",
       "       도보 가능 yes         130\n",
       "       문화 예술 yes        1194\n",
       "       역사적   dontcare     17\n",
       "...                      ...\n",
       "택시     출발지   회기역          11\n",
       "             회오리라멘        15\n",
       "             회현역          26\n",
       "             힐 모텔 서울      62\n",
       "             힐링 호텔        34\n",
       "\n",
       "[2245 rows x 1 columns]"
      ],
      "text/html": "<div>\n<style scoped>\n    .dataframe tbody tr th:only-of-type {\n        vertical-align: middle;\n    }\n\n    .dataframe tbody tr th {\n        vertical-align: top;\n    }\n\n    .dataframe thead th {\n        text-align: right;\n    }\n</style>\n<table border=\"1\" class=\"dataframe\">\n  <thead>\n    <tr style=\"text-align: right;\">\n      <th></th>\n      <th></th>\n      <th></th>\n      <th>count</th>\n    </tr>\n    <tr>\n      <th>domain</th>\n      <th>slot</th>\n      <th>value</th>\n      <th></th>\n    </tr>\n  </thead>\n  <tbody>\n    <tr>\n      <th rowspan=\"5\" valign=\"top\">관광</th>\n      <th>경치 좋은</th>\n      <th>yes</th>\n      <td>2178</td>\n    </tr>\n    <tr>\n      <th>교육적</th>\n      <th>yes</th>\n      <td>1669</td>\n    </tr>\n    <tr>\n      <th>도보 가능</th>\n      <th>yes</th>\n      <td>130</td>\n    </tr>\n    <tr>\n      <th>문화 예술</th>\n      <th>yes</th>\n      <td>1194</td>\n    </tr>\n    <tr>\n      <th>역사적</th>\n      <th>dontcare</th>\n      <td>17</td>\n    </tr>\n    <tr>\n      <th>...</th>\n      <th>...</th>\n      <th>...</th>\n      <td>...</td>\n    </tr>\n    <tr>\n      <th rowspan=\"5\" valign=\"top\">택시</th>\n      <th rowspan=\"5\" valign=\"top\">출발지</th>\n      <th>회기역</th>\n      <td>11</td>\n    </tr>\n    <tr>\n      <th>회오리라멘</th>\n      <td>15</td>\n    </tr>\n    <tr>\n      <th>회현역</th>\n      <td>26</td>\n    </tr>\n    <tr>\n      <th>힐 모텔 서울</th>\n      <td>62</td>\n    </tr>\n    <tr>\n      <th>힐링 호텔</th>\n      <td>34</td>\n    </tr>\n  </tbody>\n</table>\n<p>2245 rows × 1 columns</p>\n</div>"
     },
     "metadata": {},
     "execution_count": 14
    }
   ],
   "source": [
    "grouped = df.groupby([\"domain\", \"slot\", \"value\"]).sum()\n",
    "grouped"
   ]
  },
  {
   "cell_type": "code",
   "execution_count": 19,
   "id": "fac0e373-c6a9-4683-a8bd-0fcbd1447753",
   "metadata": {},
   "outputs": [],
   "source": [
    "c1 = df[\"domain\"] == \"관광\"\n",
    "c2 = df[\"slot\"] == \"종류\""
   ]
  },
  {
   "cell_type": "code",
   "execution_count": 20,
   "id": "7f3e48e6-0013-4401-a1d0-da9ad0f692e4",
   "metadata": {},
   "outputs": [
    {
     "output_type": "execute_result",
     "data": {
      "text/plain": [
       "array(['종류', '지역', '이름', '역사적', '문화 예술', '주차 가능', '경치 좋은', '도보 가능', '교육적'],\n",
       "      dtype=object)"
      ]
     },
     "metadata": {},
     "execution_count": 20
    }
   ],
   "source": [
    "df[c1][\"slot\"].unique()"
   ]
  },
  {
   "cell_type": "code",
   "execution_count": 21,
   "id": "e64c09ac-9da5-400e-ae82-5eb721e65fce",
   "metadata": {},
   "outputs": [
    {
     "output_type": "execute_result",
     "data": {
      "text/plain": [
       "array(['관광', '식당', '지하철', '택시', '숙소'], dtype=object)"
      ]
     },
     "metadata": {},
     "execution_count": 21
    }
   ],
   "source": [
    "domain_list = df[\"domain\"].unique()\n",
    "domain_list"
   ]
  },
  {
   "cell_type": "code",
   "execution_count": 22,
   "id": "66241e97-b023-46e0-a973-f9ca2a8d452b",
   "metadata": {},
   "outputs": [
    {
     "output_type": "stream",
     "name": "stderr",
     "text": [
      "/opt/conda/lib/python3.7/site-packages/matplotlib/textpath.py:74: RuntimeWarning: Glyph 44288 missing from current font.\n  font.set_text(s, 0.0, flags=LOAD_NO_HINTING)\n/opt/conda/lib/python3.7/site-packages/matplotlib/textpath.py:74: RuntimeWarning: Glyph 44305 missing from current font.\n  font.set_text(s, 0.0, flags=LOAD_NO_HINTING)\n/opt/conda/lib/python3.7/site-packages/matplotlib/backends/backend_agg.py:238: RuntimeWarning: Glyph 44288 missing from current font.\n  font.set_text(s, 0.0, flags=flags)\n/opt/conda/lib/python3.7/site-packages/matplotlib/backends/backend_agg.py:238: RuntimeWarning: Glyph 44305 missing from current font.\n  font.set_text(s, 0.0, flags=flags)\n/opt/conda/lib/python3.7/site-packages/matplotlib/backends/backend_agg.py:201: RuntimeWarning: Glyph 44288 missing from current font.\n  font.set_text(s, 0, flags=flags)\n/opt/conda/lib/python3.7/site-packages/matplotlib/backends/backend_agg.py:201: RuntimeWarning: Glyph 44305 missing from current font.\n  font.set_text(s, 0, flags=flags)\n"
     ]
    },
    {
     "output_type": "display_data",
     "data": {
      "text/plain": "<Figure size 432x288 with 1 Axes>",
      "image/svg+xml": "<?xml version=\"1.0\" encoding=\"utf-8\" standalone=\"no\"?>\n<!DOCTYPE svg PUBLIC \"-//W3C//DTD SVG 1.1//EN\"\n  \"http://www.w3.org/Graphics/SVG/1.1/DTD/svg11.dtd\">\n<!-- Created with matplotlib (https://matplotlib.org/) -->\n<svg height=\"277.318125pt\" version=\"1.1\" viewBox=\"0 0 366.166011 277.318125\" width=\"366.166011pt\" xmlns=\"http://www.w3.org/2000/svg\" xmlns:xlink=\"http://www.w3.org/1999/xlink\">\n <metadata>\n  <rdf:RDF xmlns:cc=\"http://creativecommons.org/ns#\" xmlns:dc=\"http://purl.org/dc/elements/1.1/\" xmlns:rdf=\"http://www.w3.org/1999/02/22-rdf-syntax-ns#\">\n   <cc:Work>\n    <dc:type rdf:resource=\"http://purl.org/dc/dcmitype/StillImage\"/>\n    <dc:date>2021-04-27T11:01:12.440539</dc:date>\n    <dc:format>image/svg+xml</dc:format>\n    <dc:creator>\n     <cc:Agent>\n      <dc:title>Matplotlib v3.3.4, https://matplotlib.org/</dc:title>\n     </cc:Agent>\n    </dc:creator>\n   </cc:Work>\n  </rdf:RDF>\n </metadata>\n <defs>\n  <style type=\"text/css\">*{stroke-linecap:butt;stroke-linejoin:round;}</style>\n </defs>\n <g id=\"figure_1\">\n  <g id=\"patch_1\">\n   <path d=\"M 0 277.318125 \nL 366.166011 277.318125 \nL 366.166011 0 \nL 0 0 \nz\n\" style=\"fill:none;\"/>\n  </g>\n  <g id=\"axes_1\">\n   <g id=\"patch_2\">\n    <path d=\"M 20.5625 253.44 \nL 355.3625 253.44 \nL 355.3625 36 \nL 20.5625 36 \nz\n\" style=\"fill:#ffffff;\"/>\n   </g>\n   <g id=\"patch_3\">\n    <path clip-path=\"url(#p5b4124519d)\" d=\"M 35.780682 253.44 \nL 122.741721 253.44 \nL 122.741721 115.382857 \nL 35.780682 115.382857 \nz\n\" style=\"fill:#1f77b4;\"/>\n   </g>\n   <g id=\"patch_4\">\n    <path clip-path=\"url(#p5b4124519d)\" d=\"M 144.481981 253.44 \nL 231.443019 253.44 \nL 231.443019 80.868571 \nL 144.481981 80.868571 \nz\n\" style=\"fill:#1f77b4;\"/>\n   </g>\n   <g id=\"patch_5\">\n    <path clip-path=\"url(#p5b4124519d)\" d=\"M 253.183279 253.44 \nL 340.144318 253.44 \nL 340.144318 46.354286 \nL 253.183279 46.354286 \nz\n\" style=\"fill:#1f77b4;\"/>\n   </g>\n   <g id=\"matplotlib.axis_1\">\n    <g id=\"xtick_1\">\n     <g id=\"line2d_1\">\n      <defs>\n       <path d=\"M 0 0 \nL 0 3.5 \n\" id=\"m64078e2a8d\" style=\"stroke:#000000;stroke-width:0.8;\"/>\n      </defs>\n      <g>\n       <use style=\"stroke:#000000;stroke-width:0.8;\" x=\"24.910552\" xlink:href=\"#m64078e2a8d\" y=\"253.44\"/>\n      </g>\n     </g>\n     <g id=\"text_1\">\n      <!-- 0.5 -->\n      <g transform=\"translate(16.958989 268.038437)scale(0.1 -0.1)\">\n       <defs>\n        <path d=\"M 31.78125 66.40625 \nQ 24.171875 66.40625 20.328125 58.90625 \nQ 16.5 51.421875 16.5 36.375 \nQ 16.5 21.390625 20.328125 13.890625 \nQ 24.171875 6.390625 31.78125 6.390625 \nQ 39.453125 6.390625 43.28125 13.890625 \nQ 47.125 21.390625 47.125 36.375 \nQ 47.125 51.421875 43.28125 58.90625 \nQ 39.453125 66.40625 31.78125 66.40625 \nz\nM 31.78125 74.21875 \nQ 44.046875 74.21875 50.515625 64.515625 \nQ 56.984375 54.828125 56.984375 36.375 \nQ 56.984375 17.96875 50.515625 8.265625 \nQ 44.046875 -1.421875 31.78125 -1.421875 \nQ 19.53125 -1.421875 13.0625 8.265625 \nQ 6.59375 17.96875 6.59375 36.375 \nQ 6.59375 54.828125 13.0625 64.515625 \nQ 19.53125 74.21875 31.78125 74.21875 \nz\n\" id=\"DejaVuSans-48\"/>\n        <path d=\"M 10.6875 12.40625 \nL 21 12.40625 \nL 21 0 \nL 10.6875 0 \nz\n\" id=\"DejaVuSans-46\"/>\n        <path d=\"M 10.796875 72.90625 \nL 49.515625 72.90625 \nL 49.515625 64.59375 \nL 19.828125 64.59375 \nL 19.828125 46.734375 \nQ 21.96875 47.46875 24.109375 47.828125 \nQ 26.265625 48.1875 28.421875 48.1875 \nQ 40.625 48.1875 47.75 41.5 \nQ 54.890625 34.8125 54.890625 23.390625 \nQ 54.890625 11.625 47.5625 5.09375 \nQ 40.234375 -1.421875 26.90625 -1.421875 \nQ 22.3125 -1.421875 17.546875 -0.640625 \nQ 12.796875 0.140625 7.71875 1.703125 \nL 7.71875 11.625 \nQ 12.109375 9.234375 16.796875 8.0625 \nQ 21.484375 6.890625 26.703125 6.890625 \nQ 35.15625 6.890625 40.078125 11.328125 \nQ 45.015625 15.765625 45.015625 23.390625 \nQ 45.015625 31 40.078125 35.4375 \nQ 35.15625 39.890625 26.703125 39.890625 \nQ 22.75 39.890625 18.8125 39.015625 \nQ 14.890625 38.140625 10.796875 36.28125 \nz\n\" id=\"DejaVuSans-53\"/>\n       </defs>\n       <use xlink:href=\"#DejaVuSans-48\"/>\n       <use x=\"63.623047\" xlink:href=\"#DejaVuSans-46\"/>\n       <use x=\"95.410156\" xlink:href=\"#DejaVuSans-53\"/>\n      </g>\n     </g>\n    </g>\n    <g id=\"xtick_2\">\n     <g id=\"line2d_2\">\n      <g>\n       <use style=\"stroke:#000000;stroke-width:0.8;\" x=\"79.261201\" xlink:href=\"#m64078e2a8d\" y=\"253.44\"/>\n      </g>\n     </g>\n     <g id=\"text_2\">\n      <!-- 1.0 -->\n      <g transform=\"translate(71.309639 268.038437)scale(0.1 -0.1)\">\n       <defs>\n        <path d=\"M 12.40625 8.296875 \nL 28.515625 8.296875 \nL 28.515625 63.921875 \nL 10.984375 60.40625 \nL 10.984375 69.390625 \nL 28.421875 72.90625 \nL 38.28125 72.90625 \nL 38.28125 8.296875 \nL 54.390625 8.296875 \nL 54.390625 0 \nL 12.40625 0 \nz\n\" id=\"DejaVuSans-49\"/>\n       </defs>\n       <use xlink:href=\"#DejaVuSans-49\"/>\n       <use x=\"63.623047\" xlink:href=\"#DejaVuSans-46\"/>\n       <use x=\"95.410156\" xlink:href=\"#DejaVuSans-48\"/>\n      </g>\n     </g>\n    </g>\n    <g id=\"xtick_3\">\n     <g id=\"line2d_3\">\n      <g>\n       <use style=\"stroke:#000000;stroke-width:0.8;\" x=\"133.611851\" xlink:href=\"#m64078e2a8d\" y=\"253.44\"/>\n      </g>\n     </g>\n     <g id=\"text_3\">\n      <!-- 1.5 -->\n      <g transform=\"translate(125.660288 268.038437)scale(0.1 -0.1)\">\n       <use xlink:href=\"#DejaVuSans-49\"/>\n       <use x=\"63.623047\" xlink:href=\"#DejaVuSans-46\"/>\n       <use x=\"95.410156\" xlink:href=\"#DejaVuSans-53\"/>\n      </g>\n     </g>\n    </g>\n    <g id=\"xtick_4\">\n     <g id=\"line2d_4\">\n      <g>\n       <use style=\"stroke:#000000;stroke-width:0.8;\" x=\"187.9625\" xlink:href=\"#m64078e2a8d\" y=\"253.44\"/>\n      </g>\n     </g>\n     <g id=\"text_4\">\n      <!-- 2.0 -->\n      <g transform=\"translate(180.010937 268.038437)scale(0.1 -0.1)\">\n       <defs>\n        <path d=\"M 19.1875 8.296875 \nL 53.609375 8.296875 \nL 53.609375 0 \nL 7.328125 0 \nL 7.328125 8.296875 \nQ 12.9375 14.109375 22.625 23.890625 \nQ 32.328125 33.6875 34.8125 36.53125 \nQ 39.546875 41.84375 41.421875 45.53125 \nQ 43.3125 49.21875 43.3125 52.78125 \nQ 43.3125 58.59375 39.234375 62.25 \nQ 35.15625 65.921875 28.609375 65.921875 \nQ 23.96875 65.921875 18.8125 64.3125 \nQ 13.671875 62.703125 7.8125 59.421875 \nL 7.8125 69.390625 \nQ 13.765625 71.78125 18.9375 73 \nQ 24.125 74.21875 28.421875 74.21875 \nQ 39.75 74.21875 46.484375 68.546875 \nQ 53.21875 62.890625 53.21875 53.421875 \nQ 53.21875 48.921875 51.53125 44.890625 \nQ 49.859375 40.875 45.40625 35.40625 \nQ 44.1875 33.984375 37.640625 27.21875 \nQ 31.109375 20.453125 19.1875 8.296875 \nz\n\" id=\"DejaVuSans-50\"/>\n       </defs>\n       <use xlink:href=\"#DejaVuSans-50\"/>\n       <use x=\"63.623047\" xlink:href=\"#DejaVuSans-46\"/>\n       <use x=\"95.410156\" xlink:href=\"#DejaVuSans-48\"/>\n      </g>\n     </g>\n    </g>\n    <g id=\"xtick_5\">\n     <g id=\"line2d_5\">\n      <g>\n       <use style=\"stroke:#000000;stroke-width:0.8;\" x=\"242.313149\" xlink:href=\"#m64078e2a8d\" y=\"253.44\"/>\n      </g>\n     </g>\n     <g id=\"text_5\">\n      <!-- 2.5 -->\n      <g transform=\"translate(234.361587 268.038437)scale(0.1 -0.1)\">\n       <use xlink:href=\"#DejaVuSans-50\"/>\n       <use x=\"63.623047\" xlink:href=\"#DejaVuSans-46\"/>\n       <use x=\"95.410156\" xlink:href=\"#DejaVuSans-53\"/>\n      </g>\n     </g>\n    </g>\n    <g id=\"xtick_6\">\n     <g id=\"line2d_6\">\n      <g>\n       <use style=\"stroke:#000000;stroke-width:0.8;\" x=\"296.663799\" xlink:href=\"#m64078e2a8d\" y=\"253.44\"/>\n      </g>\n     </g>\n     <g id=\"text_6\">\n      <!-- 3.0 -->\n      <g transform=\"translate(288.712236 268.038437)scale(0.1 -0.1)\">\n       <defs>\n        <path d=\"M 40.578125 39.3125 \nQ 47.65625 37.796875 51.625 33 \nQ 55.609375 28.21875 55.609375 21.1875 \nQ 55.609375 10.40625 48.1875 4.484375 \nQ 40.765625 -1.421875 27.09375 -1.421875 \nQ 22.515625 -1.421875 17.65625 -0.515625 \nQ 12.796875 0.390625 7.625 2.203125 \nL 7.625 11.71875 \nQ 11.71875 9.328125 16.59375 8.109375 \nQ 21.484375 6.890625 26.8125 6.890625 \nQ 36.078125 6.890625 40.9375 10.546875 \nQ 45.796875 14.203125 45.796875 21.1875 \nQ 45.796875 27.640625 41.28125 31.265625 \nQ 36.765625 34.90625 28.71875 34.90625 \nL 20.21875 34.90625 \nL 20.21875 43.015625 \nL 29.109375 43.015625 \nQ 36.375 43.015625 40.234375 45.921875 \nQ 44.09375 48.828125 44.09375 54.296875 \nQ 44.09375 59.90625 40.109375 62.90625 \nQ 36.140625 65.921875 28.71875 65.921875 \nQ 24.65625 65.921875 20.015625 65.03125 \nQ 15.375 64.15625 9.8125 62.3125 \nL 9.8125 71.09375 \nQ 15.4375 72.65625 20.34375 73.4375 \nQ 25.25 74.21875 29.59375 74.21875 \nQ 40.828125 74.21875 47.359375 69.109375 \nQ 53.90625 64.015625 53.90625 55.328125 \nQ 53.90625 49.265625 50.4375 45.09375 \nQ 46.96875 40.921875 40.578125 39.3125 \nz\n\" id=\"DejaVuSans-51\"/>\n       </defs>\n       <use xlink:href=\"#DejaVuSans-51\"/>\n       <use x=\"63.623047\" xlink:href=\"#DejaVuSans-46\"/>\n       <use x=\"95.410156\" xlink:href=\"#DejaVuSans-48\"/>\n      </g>\n     </g>\n    </g>\n    <g id=\"xtick_7\">\n     <g id=\"line2d_7\">\n      <g>\n       <use style=\"stroke:#000000;stroke-width:0.8;\" x=\"351.014448\" xlink:href=\"#m64078e2a8d\" y=\"253.44\"/>\n      </g>\n     </g>\n     <g id=\"text_7\">\n      <!-- 3.5 -->\n      <g transform=\"translate(343.062886 268.038437)scale(0.1 -0.1)\">\n       <use xlink:href=\"#DejaVuSans-51\"/>\n       <use x=\"63.623047\" xlink:href=\"#DejaVuSans-46\"/>\n       <use x=\"95.410156\" xlink:href=\"#DejaVuSans-53\"/>\n      </g>\n     </g>\n    </g>\n   </g>\n   <g id=\"matplotlib.axis_2\">\n    <g id=\"ytick_1\">\n     <g id=\"line2d_8\">\n      <defs>\n       <path d=\"M 0 0 \nL -3.5 0 \n\" id=\"ma42a7cba0c\" style=\"stroke:#000000;stroke-width:0.8;\"/>\n      </defs>\n      <g>\n       <use style=\"stroke:#000000;stroke-width:0.8;\" x=\"20.5625\" xlink:href=\"#ma42a7cba0c\" y=\"253.44\"/>\n      </g>\n     </g>\n     <g id=\"text_8\">\n      <!-- 0 -->\n      <g transform=\"translate(7.2 257.239219)scale(0.1 -0.1)\">\n       <use xlink:href=\"#DejaVuSans-48\"/>\n      </g>\n     </g>\n    </g>\n    <g id=\"ytick_2\">\n     <g id=\"line2d_9\">\n      <g>\n       <use style=\"stroke:#000000;stroke-width:0.8;\" x=\"20.5625\" xlink:href=\"#ma42a7cba0c\" y=\"218.925714\"/>\n      </g>\n     </g>\n     <g id=\"text_9\">\n      <!-- 1 -->\n      <g transform=\"translate(7.2 222.724933)scale(0.1 -0.1)\">\n       <use xlink:href=\"#DejaVuSans-49\"/>\n      </g>\n     </g>\n    </g>\n    <g id=\"ytick_3\">\n     <g id=\"line2d_10\">\n      <g>\n       <use style=\"stroke:#000000;stroke-width:0.8;\" x=\"20.5625\" xlink:href=\"#ma42a7cba0c\" y=\"184.411429\"/>\n      </g>\n     </g>\n     <g id=\"text_10\">\n      <!-- 2 -->\n      <g transform=\"translate(7.2 188.210647)scale(0.1 -0.1)\">\n       <use xlink:href=\"#DejaVuSans-50\"/>\n      </g>\n     </g>\n    </g>\n    <g id=\"ytick_4\">\n     <g id=\"line2d_11\">\n      <g>\n       <use style=\"stroke:#000000;stroke-width:0.8;\" x=\"20.5625\" xlink:href=\"#ma42a7cba0c\" y=\"149.897143\"/>\n      </g>\n     </g>\n     <g id=\"text_11\">\n      <!-- 3 -->\n      <g transform=\"translate(7.2 153.696362)scale(0.1 -0.1)\">\n       <use xlink:href=\"#DejaVuSans-51\"/>\n      </g>\n     </g>\n    </g>\n    <g id=\"ytick_5\">\n     <g id=\"line2d_12\">\n      <g>\n       <use style=\"stroke:#000000;stroke-width:0.8;\" x=\"20.5625\" xlink:href=\"#ma42a7cba0c\" y=\"115.382857\"/>\n      </g>\n     </g>\n     <g id=\"text_12\">\n      <!-- 4 -->\n      <g transform=\"translate(7.2 119.182076)scale(0.1 -0.1)\">\n       <defs>\n        <path d=\"M 37.796875 64.3125 \nL 12.890625 25.390625 \nL 37.796875 25.390625 \nz\nM 35.203125 72.90625 \nL 47.609375 72.90625 \nL 47.609375 25.390625 \nL 58.015625 25.390625 \nL 58.015625 17.1875 \nL 47.609375 17.1875 \nL 47.609375 0 \nL 37.796875 0 \nL 37.796875 17.1875 \nL 4.890625 17.1875 \nL 4.890625 26.703125 \nz\n\" id=\"DejaVuSans-52\"/>\n       </defs>\n       <use xlink:href=\"#DejaVuSans-52\"/>\n      </g>\n     </g>\n    </g>\n    <g id=\"ytick_6\">\n     <g id=\"line2d_13\">\n      <g>\n       <use style=\"stroke:#000000;stroke-width:0.8;\" x=\"20.5625\" xlink:href=\"#ma42a7cba0c\" y=\"80.868571\"/>\n      </g>\n     </g>\n     <g id=\"text_13\">\n      <!-- 5 -->\n      <g transform=\"translate(7.2 84.66779)scale(0.1 -0.1)\">\n       <use xlink:href=\"#DejaVuSans-53\"/>\n      </g>\n     </g>\n    </g>\n    <g id=\"ytick_7\">\n     <g id=\"line2d_14\">\n      <g>\n       <use style=\"stroke:#000000;stroke-width:0.8;\" x=\"20.5625\" xlink:href=\"#ma42a7cba0c\" y=\"46.354286\"/>\n      </g>\n     </g>\n     <g id=\"text_14\">\n      <!-- 6 -->\n      <g transform=\"translate(7.2 50.153504)scale(0.1 -0.1)\">\n       <defs>\n        <path d=\"M 33.015625 40.375 \nQ 26.375 40.375 22.484375 35.828125 \nQ 18.609375 31.296875 18.609375 23.390625 \nQ 18.609375 15.53125 22.484375 10.953125 \nQ 26.375 6.390625 33.015625 6.390625 \nQ 39.65625 6.390625 43.53125 10.953125 \nQ 47.40625 15.53125 47.40625 23.390625 \nQ 47.40625 31.296875 43.53125 35.828125 \nQ 39.65625 40.375 33.015625 40.375 \nz\nM 52.59375 71.296875 \nL 52.59375 62.3125 \nQ 48.875 64.0625 45.09375 64.984375 \nQ 41.3125 65.921875 37.59375 65.921875 \nQ 27.828125 65.921875 22.671875 59.328125 \nQ 17.53125 52.734375 16.796875 39.40625 \nQ 19.671875 43.65625 24.015625 45.921875 \nQ 28.375 48.1875 33.59375 48.1875 \nQ 44.578125 48.1875 50.953125 41.515625 \nQ 57.328125 34.859375 57.328125 23.390625 \nQ 57.328125 12.15625 50.6875 5.359375 \nQ 44.046875 -1.421875 33.015625 -1.421875 \nQ 20.359375 -1.421875 13.671875 8.265625 \nQ 6.984375 17.96875 6.984375 36.375 \nQ 6.984375 53.65625 15.1875 63.9375 \nQ 23.390625 74.21875 37.203125 74.21875 \nQ 40.921875 74.21875 44.703125 73.484375 \nQ 48.484375 72.75 52.59375 71.296875 \nz\n\" id=\"DejaVuSans-54\"/>\n       </defs>\n       <use xlink:href=\"#DejaVuSans-54\"/>\n      </g>\n     </g>\n    </g>\n   </g>\n   <g id=\"patch_6\">\n    <path d=\"M 20.5625 253.44 \nL 20.5625 36 \n\" style=\"fill:none;stroke:#000000;stroke-linecap:square;stroke-linejoin:miter;stroke-width:0.8;\"/>\n   </g>\n   <g id=\"patch_7\">\n    <path d=\"M 355.3625 253.44 \nL 355.3625 36 \n\" style=\"fill:none;stroke:#000000;stroke-linecap:square;stroke-linejoin:miter;stroke-width:0.8;\"/>\n   </g>\n   <g id=\"patch_8\">\n    <path d=\"M 20.5625 253.44 \nL 355.3625 253.44 \n\" style=\"fill:none;stroke:#000000;stroke-linecap:square;stroke-linejoin:miter;stroke-width:0.8;\"/>\n   </g>\n   <g id=\"patch_9\">\n    <path d=\"M 20.5625 36 \nL 355.3625 36 \n\" style=\"fill:none;stroke:#000000;stroke-linecap:square;stroke-linejoin:miter;stroke-width:0.8;\"/>\n   </g>\n  </g>\n  <g id=\"text_15\">\n   <!-- 관광 -->\n   <g transform=\"translate(175.360625 16.318125)scale(0.12 -0.12)\">\n    <defs>\n     <path d=\"M 4.984375 -17.671875 \nL 4.984375 70.515625 \nL 54.984375 70.515625 \nL 54.984375 -17.671875 \nz\nM 10.59375 -12.109375 \nL 49.421875 -12.109375 \nL 49.421875 64.890625 \nL 10.59375 64.890625 \nz\n\" id=\"DejaVuSans-44288\"/>\n     <path d=\"M 4.984375 -17.671875 \nL 4.984375 70.515625 \nL 54.984375 70.515625 \nL 54.984375 -17.671875 \nz\nM 10.59375 -12.109375 \nL 49.421875 -12.109375 \nL 49.421875 64.890625 \nL 10.59375 64.890625 \nz\n\" id=\"DejaVuSans-44305\"/>\n    </defs>\n    <use xlink:href=\"#DejaVuSans-44288\"/>\n    <use x=\"60.009766\" xlink:href=\"#DejaVuSans-44305\"/>\n   </g>\n  </g>\n </g>\n <defs>\n  <clipPath id=\"p5b4124519d\">\n   <rect height=\"217.44\" width=\"334.8\" x=\"20.5625\" y=\"36\"/>\n  </clipPath>\n </defs>\n</svg>\n",
      "image/png": "[encoded data removed]"
     },
     "metadata": {
      "needs_background": "light"
     }
    },
    {
     "output_type": "stream",
     "name": "stderr",
     "text": [
      "/opt/conda/lib/python3.7/site-packages/matplotlib/textpath.py:74: RuntimeWarning: Glyph 49885 missing from current font.\n",
      "  font.set_text(s, 0.0, flags=LOAD_NO_HINTING)\n",
      "/opt/conda/lib/python3.7/site-packages/matplotlib/textpath.py:74: RuntimeWarning: Glyph 45817 missing from current font.\n",
      "  font.set_text(s, 0.0, flags=LOAD_NO_HINTING)\n",
      "/opt/conda/lib/python3.7/site-packages/matplotlib/backends/backend_agg.py:238: RuntimeWarning: Glyph 49885 missing from current font.\n",
      "  font.set_text(s, 0.0, flags=flags)\n",
      "/opt/conda/lib/python3.7/site-packages/matplotlib/backends/backend_agg.py:238: RuntimeWarning: Glyph 45817 missing from current font.\n",
      "  font.set_text(s, 0.0, flags=flags)\n",
      "/opt/conda/lib/python3.7/site-packages/matplotlib/backends/backend_agg.py:201: RuntimeWarning: Glyph 49885 missing from current font.\n",
      "  font.set_text(s, 0, flags=flags)\n",
      "/opt/conda/lib/python3.7/site-packages/matplotlib/backends/backend_agg.py:201: RuntimeWarning: Glyph 45817 missing from current font.\n",
      "  font.set_text(s, 0, flags=flags)\n"
     ]
    },
    {
     "output_type": "display_data",
     "data": {
      "text/plain": "<Figure size 432x288 with 1 Axes>",
      "image/svg+xml": "<?xml version=\"1.0\" encoding=\"utf-8\" standalone=\"no\"?>\n<!DOCTYPE svg PUBLIC \"-//W3C//DTD SVG 1.1//EN\"\n  \"http://www.w3.org/Graphics/SVG/1.1/DTD/svg11.dtd\">\n<!-- Created with matplotlib (https://matplotlib.org/) -->\n<svg height=\"277.318125pt\" version=\"1.1\" viewBox=\"0 0 366.166011 277.318125\" width=\"366.166011pt\" xmlns=\"http://www.w3.org/2000/svg\" xmlns:xlink=\"http://www.w3.org/1999/xlink\">\n <metadata>\n  <rdf:RDF xmlns:cc=\"http://creativecommons.org/ns#\" xmlns:dc=\"http://purl.org/dc/elements/1.1/\" xmlns:rdf=\"http://www.w3.org/1999/02/22-rdf-syntax-ns#\">\n   <cc:Work>\n    <dc:type rdf:resource=\"http://purl.org/dc/dcmitype/StillImage\"/>\n    <dc:date>2021-04-27T11:01:12.608175</dc:date>\n    <dc:format>image/svg+xml</dc:format>\n    <dc:creator>\n     <cc:Agent>\n      <dc:title>Matplotlib v3.3.4, https://matplotlib.org/</dc:title>\n     </cc:Agent>\n    </dc:creator>\n   </cc:Work>\n  </rdf:RDF>\n </metadata>\n <defs>\n  <style type=\"text/css\">*{stroke-linecap:butt;stroke-linejoin:round;}</style>\n </defs>\n <g id=\"figure_1\">\n  <g id=\"patch_1\">\n   <path d=\"M 0 277.318125 \nL 366.166011 277.318125 \nL 366.166011 0 \nL 0 0 \nz\n\" style=\"fill:none;\"/>\n  </g>\n  <g id=\"axes_1\">\n   <g id=\"patch_2\">\n    <path d=\"M 20.5625 253.44 \nL 355.3625 253.44 \nL 355.3625 36 \nL 20.5625 36 \nz\n\" style=\"fill:#ffffff;\"/>\n   </g>\n   <g id=\"patch_3\">\n    <path clip-path=\"url(#p89e04a92b9)\" d=\"M 35.780682 253.44 \nL 122.741721 253.44 \nL 122.741721 115.382857 \nL 35.780682 115.382857 \nz\n\" style=\"fill:#1f77b4;\"/>\n   </g>\n   <g id=\"patch_4\">\n    <path clip-path=\"url(#p89e04a92b9)\" d=\"M 144.481981 253.44 \nL 231.443019 253.44 \nL 231.443019 80.868571 \nL 144.481981 80.868571 \nz\n\" style=\"fill:#1f77b4;\"/>\n   </g>\n   <g id=\"patch_5\">\n    <path clip-path=\"url(#p89e04a92b9)\" d=\"M 253.183279 253.44 \nL 340.144318 253.44 \nL 340.144318 46.354286 \nL 253.183279 46.354286 \nz\n\" style=\"fill:#1f77b4;\"/>\n   </g>\n   <g id=\"matplotlib.axis_1\">\n    <g id=\"xtick_1\">\n     <g id=\"line2d_1\">\n      <defs>\n       <path d=\"M 0 0 \nL 0 3.5 \n\" id=\"ma32f061af7\" style=\"stroke:#000000;stroke-width:0.8;\"/>\n      </defs>\n      <g>\n       <use style=\"stroke:#000000;stroke-width:0.8;\" x=\"24.910552\" xlink:href=\"#ma32f061af7\" y=\"253.44\"/>\n      </g>\n     </g>\n     <g id=\"text_1\">\n      <!-- 0.5 -->\n      <g transform=\"translate(16.958989 268.038437)scale(0.1 -0.1)\">\n       <defs>\n        <path d=\"M 31.78125 66.40625 \nQ 24.171875 66.40625 20.328125 58.90625 \nQ 16.5 51.421875 16.5 36.375 \nQ 16.5 21.390625 20.328125 13.890625 \nQ 24.171875 6.390625 31.78125 6.390625 \nQ 39.453125 6.390625 43.28125 13.890625 \nQ 47.125 21.390625 47.125 36.375 \nQ 47.125 51.421875 43.28125 58.90625 \nQ 39.453125 66.40625 31.78125 66.40625 \nz\nM 31.78125 74.21875 \nQ 44.046875 74.21875 50.515625 64.515625 \nQ 56.984375 54.828125 56.984375 36.375 \nQ 56.984375 17.96875 50.515625 8.265625 \nQ 44.046875 -1.421875 31.78125 -1.421875 \nQ 19.53125 -1.421875 13.0625 8.265625 \nQ 6.59375 17.96875 6.59375 36.375 \nQ 6.59375 54.828125 13.0625 64.515625 \nQ 19.53125 74.21875 31.78125 74.21875 \nz\n\" id=\"DejaVuSans-48\"/>\n        <path d=\"M 10.6875 12.40625 \nL 21 12.40625 \nL 21 0 \nL 10.6875 0 \nz\n\" id=\"DejaVuSans-46\"/>\n        <path d=\"M 10.796875 72.90625 \nL 49.515625 72.90625 \nL 49.515625 64.59375 \nL 19.828125 64.59375 \nL 19.828125 46.734375 \nQ 21.96875 47.46875 24.109375 47.828125 \nQ 26.265625 48.1875 28.421875 48.1875 \nQ 40.625 48.1875 47.75 41.5 \nQ 54.890625 34.8125 54.890625 23.390625 \nQ 54.890625 11.625 47.5625 5.09375 \nQ 40.234375 -1.421875 26.90625 -1.421875 \nQ 22.3125 -1.421875 17.546875 -0.640625 \nQ 12.796875 0.140625 7.71875 1.703125 \nL 7.71875 11.625 \nQ 12.109375 9.234375 16.796875 8.0625 \nQ 21.484375 6.890625 26.703125 6.890625 \nQ 35.15625 6.890625 40.078125 11.328125 \nQ 45.015625 15.765625 45.015625 23.390625 \nQ 45.015625 31 40.078125 35.4375 \nQ 35.15625 39.890625 26.703125 39.890625 \nQ 22.75 39.890625 18.8125 39.015625 \nQ 14.890625 38.140625 10.796875 36.28125 \nz\n\" id=\"DejaVuSans-53\"/>\n       </defs>\n       <use xlink:href=\"#DejaVuSans-48\"/>\n       <use x=\"63.623047\" xlink:href=\"#DejaVuSans-46\"/>\n       <use x=\"95.410156\" xlink:href=\"#DejaVuSans-53\"/>\n      </g>\n     </g>\n    </g>\n    <g id=\"xtick_2\">\n     <g id=\"line2d_2\">\n      <g>\n       <use style=\"stroke:#000000;stroke-width:0.8;\" x=\"79.261201\" xlink:href=\"#ma32f061af7\" y=\"253.44\"/>\n      </g>\n     </g>\n     <g id=\"text_2\">\n      <!-- 1.0 -->\n      <g transform=\"translate(71.309639 268.038437)scale(0.1 -0.1)\">\n       <defs>\n        <path d=\"M 12.40625 8.296875 \nL 28.515625 8.296875 \nL 28.515625 63.921875 \nL 10.984375 60.40625 \nL 10.984375 69.390625 \nL 28.421875 72.90625 \nL 38.28125 72.90625 \nL 38.28125 8.296875 \nL 54.390625 8.296875 \nL 54.390625 0 \nL 12.40625 0 \nz\n\" id=\"DejaVuSans-49\"/>\n       </defs>\n       <use xlink:href=\"#DejaVuSans-49\"/>\n       <use x=\"63.623047\" xlink:href=\"#DejaVuSans-46\"/>\n       <use x=\"95.410156\" xlink:href=\"#DejaVuSans-48\"/>\n      </g>\n     </g>\n    </g>\n    <g id=\"xtick_3\">\n     <g id=\"line2d_3\">\n      <g>\n       <use style=\"stroke:#000000;stroke-width:0.8;\" x=\"133.611851\" xlink:href=\"#ma32f061af7\" y=\"253.44\"/>\n      </g>\n     </g>\n     <g id=\"text_3\">\n      <!-- 1.5 -->\n      <g transform=\"translate(125.660288 268.038437)scale(0.1 -0.1)\">\n       <use xlink:href=\"#DejaVuSans-49\"/>\n       <use x=\"63.623047\" xlink:href=\"#DejaVuSans-46\"/>\n       <use x=\"95.410156\" xlink:href=\"#DejaVuSans-53\"/>\n      </g>\n     </g>\n    </g>\n    <g id=\"xtick_4\">\n     <g id=\"line2d_4\">\n      <g>\n       <use style=\"stroke:#000000;stroke-width:0.8;\" x=\"187.9625\" xlink:href=\"#ma32f061af7\" y=\"253.44\"/>\n      </g>\n     </g>\n     <g id=\"text_4\">\n      <!-- 2.0 -->\n      <g transform=\"translate(180.010937 268.038437)scale(0.1 -0.1)\">\n       <defs>\n        <path d=\"M 19.1875 8.296875 \nL 53.609375 8.296875 \nL 53.609375 0 \nL 7.328125 0 \nL 7.328125 8.296875 \nQ 12.9375 14.109375 22.625 23.890625 \nQ 32.328125 33.6875 34.8125 36.53125 \nQ 39.546875 41.84375 41.421875 45.53125 \nQ 43.3125 49.21875 43.3125 52.78125 \nQ 43.3125 58.59375 39.234375 62.25 \nQ 35.15625 65.921875 28.609375 65.921875 \nQ 23.96875 65.921875 18.8125 64.3125 \nQ 13.671875 62.703125 7.8125 59.421875 \nL 7.8125 69.390625 \nQ 13.765625 71.78125 18.9375 73 \nQ 24.125 74.21875 28.421875 74.21875 \nQ 39.75 74.21875 46.484375 68.546875 \nQ 53.21875 62.890625 53.21875 53.421875 \nQ 53.21875 48.921875 51.53125 44.890625 \nQ 49.859375 40.875 45.40625 35.40625 \nQ 44.1875 33.984375 37.640625 27.21875 \nQ 31.109375 20.453125 19.1875 8.296875 \nz\n\" id=\"DejaVuSans-50\"/>\n       </defs>\n       <use xlink:href=\"#DejaVuSans-50\"/>\n       <use x=\"63.623047\" xlink:href=\"#DejaVuSans-46\"/>\n       <use x=\"95.410156\" xlink:href=\"#DejaVuSans-48\"/>\n      </g>\n     </g>\n    </g>\n    <g id=\"xtick_5\">\n     <g id=\"line2d_5\">\n      <g>\n       <use style=\"stroke:#000000;stroke-width:0.8;\" x=\"242.313149\" xlink:href=\"#ma32f061af7\" y=\"253.44\"/>\n      </g>\n     </g>\n     <g id=\"text_5\">\n      <!-- 2.5 -->\n      <g transform=\"translate(234.361587 268.038437)scale(0.1 -0.1)\">\n       <use xlink:href=\"#DejaVuSans-50\"/>\n       <use x=\"63.623047\" xlink:href=\"#DejaVuSans-46\"/>\n       <use x=\"95.410156\" xlink:href=\"#DejaVuSans-53\"/>\n      </g>\n     </g>\n    </g>\n    <g id=\"xtick_6\">\n     <g id=\"line2d_6\">\n      <g>\n       <use style=\"stroke:#000000;stroke-width:0.8;\" x=\"296.663799\" xlink:href=\"#ma32f061af7\" y=\"253.44\"/>\n      </g>\n     </g>\n     <g id=\"text_6\">\n      <!-- 3.0 -->\n      <g transform=\"translate(288.712236 268.038437)scale(0.1 -0.1)\">\n       <defs>\n        <path d=\"M 40.578125 39.3125 \nQ 47.65625 37.796875 51.625 33 \nQ 55.609375 28.21875 55.609375 21.1875 \nQ 55.609375 10.40625 48.1875 4.484375 \nQ 40.765625 -1.421875 27.09375 -1.421875 \nQ 22.515625 -1.421875 17.65625 -0.515625 \nQ 12.796875 0.390625 7.625 2.203125 \nL 7.625 11.71875 \nQ 11.71875 9.328125 16.59375 8.109375 \nQ 21.484375 6.890625 26.8125 6.890625 \nQ 36.078125 6.890625 40.9375 10.546875 \nQ 45.796875 14.203125 45.796875 21.1875 \nQ 45.796875 27.640625 41.28125 31.265625 \nQ 36.765625 34.90625 28.71875 34.90625 \nL 20.21875 34.90625 \nL 20.21875 43.015625 \nL 29.109375 43.015625 \nQ 36.375 43.015625 40.234375 45.921875 \nQ 44.09375 48.828125 44.09375 54.296875 \nQ 44.09375 59.90625 40.109375 62.90625 \nQ 36.140625 65.921875 28.71875 65.921875 \nQ 24.65625 65.921875 20.015625 65.03125 \nQ 15.375 64.15625 9.8125 62.3125 \nL 9.8125 71.09375 \nQ 15.4375 72.65625 20.34375 73.4375 \nQ 25.25 74.21875 29.59375 74.21875 \nQ 40.828125 74.21875 47.359375 69.109375 \nQ 53.90625 64.015625 53.90625 55.328125 \nQ 53.90625 49.265625 50.4375 45.09375 \nQ 46.96875 40.921875 40.578125 39.3125 \nz\n\" id=\"DejaVuSans-51\"/>\n       </defs>\n       <use xlink:href=\"#DejaVuSans-51\"/>\n       <use x=\"63.623047\" xlink:href=\"#DejaVuSans-46\"/>\n       <use x=\"95.410156\" xlink:href=\"#DejaVuSans-48\"/>\n      </g>\n     </g>\n    </g>\n    <g id=\"xtick_7\">\n     <g id=\"line2d_7\">\n      <g>\n       <use style=\"stroke:#000000;stroke-width:0.8;\" x=\"351.014448\" xlink:href=\"#ma32f061af7\" y=\"253.44\"/>\n      </g>\n     </g>\n     <g id=\"text_7\">\n      <!-- 3.5 -->\n      <g transform=\"translate(343.062886 268.038437)scale(0.1 -0.1)\">\n       <use xlink:href=\"#DejaVuSans-51\"/>\n       <use x=\"63.623047\" xlink:href=\"#DejaVuSans-46\"/>\n       <use x=\"95.410156\" xlink:href=\"#DejaVuSans-53\"/>\n      </g>\n     </g>\n    </g>\n   </g>\n   <g id=\"matplotlib.axis_2\">\n    <g id=\"ytick_1\">\n     <g id=\"line2d_8\">\n      <defs>\n       <path d=\"M 0 0 \nL -3.5 0 \n\" id=\"mc4f762fd38\" style=\"stroke:#000000;stroke-width:0.8;\"/>\n      </defs>\n      <g>\n       <use style=\"stroke:#000000;stroke-width:0.8;\" x=\"20.5625\" xlink:href=\"#mc4f762fd38\" y=\"253.44\"/>\n      </g>\n     </g>\n     <g id=\"text_8\">\n      <!-- 0 -->\n      <g transform=\"translate(7.2 257.239219)scale(0.1 -0.1)\">\n       <use xlink:href=\"#DejaVuSans-48\"/>\n      </g>\n     </g>\n    </g>\n    <g id=\"ytick_2\">\n     <g id=\"line2d_9\">\n      <g>\n       <use style=\"stroke:#000000;stroke-width:0.8;\" x=\"20.5625\" xlink:href=\"#mc4f762fd38\" y=\"218.925714\"/>\n      </g>\n     </g>\n     <g id=\"text_9\">\n      <!-- 1 -->\n      <g transform=\"translate(7.2 222.724933)scale(0.1 -0.1)\">\n       <use xlink:href=\"#DejaVuSans-49\"/>\n      </g>\n     </g>\n    </g>\n    <g id=\"ytick_3\">\n     <g id=\"line2d_10\">\n      <g>\n       <use style=\"stroke:#000000;stroke-width:0.8;\" x=\"20.5625\" xlink:href=\"#mc4f762fd38\" y=\"184.411429\"/>\n      </g>\n     </g>\n     <g id=\"text_10\">\n      <!-- 2 -->\n      <g transform=\"translate(7.2 188.210647)scale(0.1 -0.1)\">\n       <use xlink:href=\"#DejaVuSans-50\"/>\n      </g>\n     </g>\n    </g>\n    <g id=\"ytick_4\">\n     <g id=\"line2d_11\">\n      <g>\n       <use style=\"stroke:#000000;stroke-width:0.8;\" x=\"20.5625\" xlink:href=\"#mc4f762fd38\" y=\"149.897143\"/>\n      </g>\n     </g>\n     <g id=\"text_11\">\n      <!-- 3 -->\n      <g transform=\"translate(7.2 153.696362)scale(0.1 -0.1)\">\n       <use xlink:href=\"#DejaVuSans-51\"/>\n      </g>\n     </g>\n    </g>\n    <g id=\"ytick_5\">\n     <g id=\"line2d_12\">\n      <g>\n       <use style=\"stroke:#000000;stroke-width:0.8;\" x=\"20.5625\" xlink:href=\"#mc4f762fd38\" y=\"115.382857\"/>\n      </g>\n     </g>\n     <g id=\"text_12\">\n      <!-- 4 -->\n      <g transform=\"translate(7.2 119.182076)scale(0.1 -0.1)\">\n       <defs>\n        <path d=\"M 37.796875 64.3125 \nL 12.890625 25.390625 \nL 37.796875 25.390625 \nz\nM 35.203125 72.90625 \nL 47.609375 72.90625 \nL 47.609375 25.390625 \nL 58.015625 25.390625 \nL 58.015625 17.1875 \nL 47.609375 17.1875 \nL 47.609375 0 \nL 37.796875 0 \nL 37.796875 17.1875 \nL 4.890625 17.1875 \nL 4.890625 26.703125 \nz\n\" id=\"DejaVuSans-52\"/>\n       </defs>\n       <use xlink:href=\"#DejaVuSans-52\"/>\n      </g>\n     </g>\n    </g>\n    <g id=\"ytick_6\">\n     <g id=\"line2d_13\">\n      <g>\n       <use style=\"stroke:#000000;stroke-width:0.8;\" x=\"20.5625\" xlink:href=\"#mc4f762fd38\" y=\"80.868571\"/>\n      </g>\n     </g>\n     <g id=\"text_13\">\n      <!-- 5 -->\n      <g transform=\"translate(7.2 84.66779)scale(0.1 -0.1)\">\n       <use xlink:href=\"#DejaVuSans-53\"/>\n      </g>\n     </g>\n    </g>\n    <g id=\"ytick_7\">\n     <g id=\"line2d_14\">\n      <g>\n       <use style=\"stroke:#000000;stroke-width:0.8;\" x=\"20.5625\" xlink:href=\"#mc4f762fd38\" y=\"46.354286\"/>\n      </g>\n     </g>\n     <g id=\"text_14\">\n      <!-- 6 -->\n      <g transform=\"translate(7.2 50.153504)scale(0.1 -0.1)\">\n       <defs>\n        <path d=\"M 33.015625 40.375 \nQ 26.375 40.375 22.484375 35.828125 \nQ 18.609375 31.296875 18.609375 23.390625 \nQ 18.609375 15.53125 22.484375 10.953125 \nQ 26.375 6.390625 33.015625 6.390625 \nQ 39.65625 6.390625 43.53125 10.953125 \nQ 47.40625 15.53125 47.40625 23.390625 \nQ 47.40625 31.296875 43.53125 35.828125 \nQ 39.65625 40.375 33.015625 40.375 \nz\nM 52.59375 71.296875 \nL 52.59375 62.3125 \nQ 48.875 64.0625 45.09375 64.984375 \nQ 41.3125 65.921875 37.59375 65.921875 \nQ 27.828125 65.921875 22.671875 59.328125 \nQ 17.53125 52.734375 16.796875 39.40625 \nQ 19.671875 43.65625 24.015625 45.921875 \nQ 28.375 48.1875 33.59375 48.1875 \nQ 44.578125 48.1875 50.953125 41.515625 \nQ 57.328125 34.859375 57.328125 23.390625 \nQ 57.328125 12.15625 50.6875 5.359375 \nQ 44.046875 -1.421875 33.015625 -1.421875 \nQ 20.359375 -1.421875 13.671875 8.265625 \nQ 6.984375 17.96875 6.984375 36.375 \nQ 6.984375 53.65625 15.1875 63.9375 \nQ 23.390625 74.21875 37.203125 74.21875 \nQ 40.921875 74.21875 44.703125 73.484375 \nQ 48.484375 72.75 52.59375 71.296875 \nz\n\" id=\"DejaVuSans-54\"/>\n       </defs>\n       <use xlink:href=\"#DejaVuSans-54\"/>\n      </g>\n     </g>\n    </g>\n   </g>\n   <g id=\"patch_6\">\n    <path d=\"M 20.5625 253.44 \nL 20.5625 36 \n\" style=\"fill:none;stroke:#000000;stroke-linecap:square;stroke-linejoin:miter;stroke-width:0.8;\"/>\n   </g>\n   <g id=\"patch_7\">\n    <path d=\"M 355.3625 253.44 \nL 355.3625 36 \n\" style=\"fill:none;stroke:#000000;stroke-linecap:square;stroke-linejoin:miter;stroke-width:0.8;\"/>\n   </g>\n   <g id=\"patch_8\">\n    <path d=\"M 20.5625 253.44 \nL 355.3625 253.44 \n\" style=\"fill:none;stroke:#000000;stroke-linecap:square;stroke-linejoin:miter;stroke-width:0.8;\"/>\n   </g>\n   <g id=\"patch_9\">\n    <path d=\"M 20.5625 36 \nL 355.3625 36 \n\" style=\"fill:none;stroke:#000000;stroke-linecap:square;stroke-linejoin:miter;stroke-width:0.8;\"/>\n   </g>\n  </g>\n  <g id=\"text_15\">\n   <!-- 식당 -->\n   <g transform=\"translate(175.360625 16.318125)scale(0.12 -0.12)\">\n    <defs>\n     <path d=\"M 4.984375 -17.671875 \nL 4.984375 70.515625 \nL 54.984375 70.515625 \nL 54.984375 -17.671875 \nz\nM 10.59375 -12.109375 \nL 49.421875 -12.109375 \nL 49.421875 64.890625 \nL 10.59375 64.890625 \nz\n\" id=\"DejaVuSans-49885\"/>\n     <path d=\"M 4.984375 -17.671875 \nL 4.984375 70.515625 \nL 54.984375 70.515625 \nL 54.984375 -17.671875 \nz\nM 10.59375 -12.109375 \nL 49.421875 -12.109375 \nL 49.421875 64.890625 \nL 10.59375 64.890625 \nz\n\" id=\"DejaVuSans-45817\"/>\n    </defs>\n    <use xlink:href=\"#DejaVuSans-49885\"/>\n    <use x=\"60.009766\" xlink:href=\"#DejaVuSans-45817\"/>\n   </g>\n  </g>\n </g>\n <defs>\n  <clipPath id=\"p89e04a92b9\">\n   <rect height=\"217.44\" width=\"334.8\" x=\"20.5625\" y=\"36\"/>\n  </clipPath>\n </defs>\n</svg>\n",
      "image/png": "[encoded data removed]"
     },
     "metadata": {
      "needs_background": "light"
     }
    },
    {
     "output_type": "stream",
     "name": "stderr",
     "text": [
      "/opt/conda/lib/python3.7/site-packages/matplotlib/textpath.py:74: RuntimeWarning: Glyph 51648 missing from current font.\n",
      "  font.set_text(s, 0.0, flags=LOAD_NO_HINTING)\n",
      "/opt/conda/lib/python3.7/site-packages/matplotlib/textpath.py:74: RuntimeWarning: Glyph 54616 missing from current font.\n",
      "  font.set_text(s, 0.0, flags=LOAD_NO_HINTING)\n",
      "/opt/conda/lib/python3.7/site-packages/matplotlib/textpath.py:74: RuntimeWarning: Glyph 52384 missing from current font.\n",
      "  font.set_text(s, 0.0, flags=LOAD_NO_HINTING)\n",
      "/opt/conda/lib/python3.7/site-packages/matplotlib/backends/backend_agg.py:238: RuntimeWarning: Glyph 51648 missing from current font.\n",
      "  font.set_text(s, 0.0, flags=flags)\n",
      "/opt/conda/lib/python3.7/site-packages/matplotlib/backends/backend_agg.py:238: RuntimeWarning: Glyph 54616 missing from current font.\n",
      "  font.set_text(s, 0.0, flags=flags)\n",
      "/opt/conda/lib/python3.7/site-packages/matplotlib/backends/backend_agg.py:238: RuntimeWarning: Glyph 52384 missing from current font.\n",
      "  font.set_text(s, 0.0, flags=flags)\n",
      "/opt/conda/lib/python3.7/site-packages/matplotlib/backends/backend_agg.py:201: RuntimeWarning: Glyph 51648 missing from current font.\n",
      "  font.set_text(s, 0, flags=flags)\n",
      "/opt/conda/lib/python3.7/site-packages/matplotlib/backends/backend_agg.py:201: RuntimeWarning: Glyph 54616 missing from current font.\n",
      "  font.set_text(s, 0, flags=flags)\n",
      "/opt/conda/lib/python3.7/site-packages/matplotlib/backends/backend_agg.py:201: RuntimeWarning: Glyph 52384 missing from current font.\n",
      "  font.set_text(s, 0, flags=flags)\n"
     ]
    },
    {
     "output_type": "display_data",
     "data": {
      "text/plain": "<Figure size 432x288 with 1 Axes>",
      "image/svg+xml": "<?xml version=\"1.0\" encoding=\"utf-8\" standalone=\"no\"?>\n<!DOCTYPE svg PUBLIC \"-//W3C//DTD SVG 1.1//EN\"\n  \"http://www.w3.org/Graphics/SVG/1.1/DTD/svg11.dtd\">\n<!-- Created with matplotlib (https://matplotlib.org/) -->\n<svg height=\"277.318125pt\" version=\"1.1\" viewBox=\"0 0 366.166011 277.318125\" width=\"366.166011pt\" xmlns=\"http://www.w3.org/2000/svg\" xmlns:xlink=\"http://www.w3.org/1999/xlink\">\n <metadata>\n  <rdf:RDF xmlns:cc=\"http://creativecommons.org/ns#\" xmlns:dc=\"http://purl.org/dc/elements/1.1/\" xmlns:rdf=\"http://www.w3.org/1999/02/22-rdf-syntax-ns#\">\n   <cc:Work>\n    <dc:type rdf:resource=\"http://purl.org/dc/dcmitype/StillImage\"/>\n    <dc:date>2021-04-27T11:01:12.778519</dc:date>\n    <dc:format>image/svg+xml</dc:format>\n    <dc:creator>\n     <cc:Agent>\n      <dc:title>Matplotlib v3.3.4, https://matplotlib.org/</dc:title>\n     </cc:Agent>\n    </dc:creator>\n   </cc:Work>\n  </rdf:RDF>\n </metadata>\n <defs>\n  <style type=\"text/css\">*{stroke-linecap:butt;stroke-linejoin:round;}</style>\n </defs>\n <g id=\"figure_1\">\n  <g id=\"patch_1\">\n   <path d=\"M 0 277.318125 \nL 366.166011 277.318125 \nL 366.166011 0 \nL 0 0 \nz\n\" style=\"fill:none;\"/>\n  </g>\n  <g id=\"axes_1\">\n   <g id=\"patch_2\">\n    <path d=\"M 20.5625 253.44 \nL 355.3625 253.44 \nL 355.3625 36 \nL 20.5625 36 \nz\n\" style=\"fill:#ffffff;\"/>\n   </g>\n   <g id=\"patch_3\">\n    <path clip-path=\"url(#p00bd93ba96)\" d=\"M 35.780682 253.44 \nL 122.741721 253.44 \nL 122.741721 115.382857 \nL 35.780682 115.382857 \nz\n\" style=\"fill:#1f77b4;\"/>\n   </g>\n   <g id=\"patch_4\">\n    <path clip-path=\"url(#p00bd93ba96)\" d=\"M 144.481981 253.44 \nL 231.443019 253.44 \nL 231.443019 80.868571 \nL 144.481981 80.868571 \nz\n\" style=\"fill:#1f77b4;\"/>\n   </g>\n   <g id=\"patch_5\">\n    <path clip-path=\"url(#p00bd93ba96)\" d=\"M 253.183279 253.44 \nL 340.144318 253.44 \nL 340.144318 46.354286 \nL 253.183279 46.354286 \nz\n\" style=\"fill:#1f77b4;\"/>\n   </g>\n   <g id=\"matplotlib.axis_1\">\n    <g id=\"xtick_1\">\n     <g id=\"line2d_1\">\n      <defs>\n       <path d=\"M 0 0 \nL 0 3.5 \n\" id=\"m8ae83a3138\" style=\"stroke:#000000;stroke-width:0.8;\"/>\n      </defs>\n      <g>\n       <use style=\"stroke:#000000;stroke-width:0.8;\" x=\"24.910552\" xlink:href=\"#m8ae83a3138\" y=\"253.44\"/>\n      </g>\n     </g>\n     <g id=\"text_1\">\n      <!-- 0.5 -->\n      <g transform=\"translate(16.958989 268.038437)scale(0.1 -0.1)\">\n       <defs>\n        <path d=\"M 31.78125 66.40625 \nQ 24.171875 66.40625 20.328125 58.90625 \nQ 16.5 51.421875 16.5 36.375 \nQ 16.5 21.390625 20.328125 13.890625 \nQ 24.171875 6.390625 31.78125 6.390625 \nQ 39.453125 6.390625 43.28125 13.890625 \nQ 47.125 21.390625 47.125 36.375 \nQ 47.125 51.421875 43.28125 58.90625 \nQ 39.453125 66.40625 31.78125 66.40625 \nz\nM 31.78125 74.21875 \nQ 44.046875 74.21875 50.515625 64.515625 \nQ 56.984375 54.828125 56.984375 36.375 \nQ 56.984375 17.96875 50.515625 8.265625 \nQ 44.046875 -1.421875 31.78125 -1.421875 \nQ 19.53125 -1.421875 13.0625 8.265625 \nQ 6.59375 17.96875 6.59375 36.375 \nQ 6.59375 54.828125 13.0625 64.515625 \nQ 19.53125 74.21875 31.78125 74.21875 \nz\n\" id=\"DejaVuSans-48\"/>\n        <path d=\"M 10.6875 12.40625 \nL 21 12.40625 \nL 21 0 \nL 10.6875 0 \nz\n\" id=\"DejaVuSans-46\"/>\n        <path d=\"M 10.796875 72.90625 \nL 49.515625 72.90625 \nL 49.515625 64.59375 \nL 19.828125 64.59375 \nL 19.828125 46.734375 \nQ 21.96875 47.46875 24.109375 47.828125 \nQ 26.265625 48.1875 28.421875 48.1875 \nQ 40.625 48.1875 47.75 41.5 \nQ 54.890625 34.8125 54.890625 23.390625 \nQ 54.890625 11.625 47.5625 5.09375 \nQ 40.234375 -1.421875 26.90625 -1.421875 \nQ 22.3125 -1.421875 17.546875 -0.640625 \nQ 12.796875 0.140625 7.71875 1.703125 \nL 7.71875 11.625 \nQ 12.109375 9.234375 16.796875 8.0625 \nQ 21.484375 6.890625 26.703125 6.890625 \nQ 35.15625 6.890625 40.078125 11.328125 \nQ 45.015625 15.765625 45.015625 23.390625 \nQ 45.015625 31 40.078125 35.4375 \nQ 35.15625 39.890625 26.703125 39.890625 \nQ 22.75 39.890625 18.8125 39.015625 \nQ 14.890625 38.140625 10.796875 36.28125 \nz\n\" id=\"DejaVuSans-53\"/>\n       </defs>\n       <use xlink:href=\"#DejaVuSans-48\"/>\n       <use x=\"63.623047\" xlink:href=\"#DejaVuSans-46\"/>\n       <use x=\"95.410156\" xlink:href=\"#DejaVuSans-53\"/>\n      </g>\n     </g>\n    </g>\n    <g id=\"xtick_2\">\n     <g id=\"line2d_2\">\n      <g>\n       <use style=\"stroke:#000000;stroke-width:0.8;\" x=\"79.261201\" xlink:href=\"#m8ae83a3138\" y=\"253.44\"/>\n      </g>\n     </g>\n     <g id=\"text_2\">\n      <!-- 1.0 -->\n      <g transform=\"translate(71.309639 268.038437)scale(0.1 -0.1)\">\n       <defs>\n        <path d=\"M 12.40625 8.296875 \nL 28.515625 8.296875 \nL 28.515625 63.921875 \nL 10.984375 60.40625 \nL 10.984375 69.390625 \nL 28.421875 72.90625 \nL 38.28125 72.90625 \nL 38.28125 8.296875 \nL 54.390625 8.296875 \nL 54.390625 0 \nL 12.40625 0 \nz\n\" id=\"DejaVuSans-49\"/>\n       </defs>\n       <use xlink:href=\"#DejaVuSans-49\"/>\n       <use x=\"63.623047\" xlink:href=\"#DejaVuSans-46\"/>\n       <use x=\"95.410156\" xlink:href=\"#DejaVuSans-48\"/>\n      </g>\n     </g>\n    </g>\n    <g id=\"xtick_3\">\n     <g id=\"line2d_3\">\n      <g>\n       <use style=\"stroke:#000000;stroke-width:0.8;\" x=\"133.611851\" xlink:href=\"#m8ae83a3138\" y=\"253.44\"/>\n      </g>\n     </g>\n     <g id=\"text_3\">\n      <!-- 1.5 -->\n      <g transform=\"translate(125.660288 268.038437)scale(0.1 -0.1)\">\n       <use xlink:href=\"#DejaVuSans-49\"/>\n       <use x=\"63.623047\" xlink:href=\"#DejaVuSans-46\"/>\n       <use x=\"95.410156\" xlink:href=\"#DejaVuSans-53\"/>\n      </g>\n     </g>\n    </g>\n    <g id=\"xtick_4\">\n     <g id=\"line2d_4\">\n      <g>\n       <use style=\"stroke:#000000;stroke-width:0.8;\" x=\"187.9625\" xlink:href=\"#m8ae83a3138\" y=\"253.44\"/>\n      </g>\n     </g>\n     <g id=\"text_4\">\n      <!-- 2.0 -->\n      <g transform=\"translate(180.010937 268.038437)scale(0.1 -0.1)\">\n       <defs>\n        <path d=\"M 19.1875 8.296875 \nL 53.609375 8.296875 \nL 53.609375 0 \nL 7.328125 0 \nL 7.328125 8.296875 \nQ 12.9375 14.109375 22.625 23.890625 \nQ 32.328125 33.6875 34.8125 36.53125 \nQ 39.546875 41.84375 41.421875 45.53125 \nQ 43.3125 49.21875 43.3125 52.78125 \nQ 43.3125 58.59375 39.234375 62.25 \nQ 35.15625 65.921875 28.609375 65.921875 \nQ 23.96875 65.921875 18.8125 64.3125 \nQ 13.671875 62.703125 7.8125 59.421875 \nL 7.8125 69.390625 \nQ 13.765625 71.78125 18.9375 73 \nQ 24.125 74.21875 28.421875 74.21875 \nQ 39.75 74.21875 46.484375 68.546875 \nQ 53.21875 62.890625 53.21875 53.421875 \nQ 53.21875 48.921875 51.53125 44.890625 \nQ 49.859375 40.875 45.40625 35.40625 \nQ 44.1875 33.984375 37.640625 27.21875 \nQ 31.109375 20.453125 19.1875 8.296875 \nz\n\" id=\"DejaVuSans-50\"/>\n       </defs>\n       <use xlink:href=\"#DejaVuSans-50\"/>\n       <use x=\"63.623047\" xlink:href=\"#DejaVuSans-46\"/>\n       <use x=\"95.410156\" xlink:href=\"#DejaVuSans-48\"/>\n      </g>\n     </g>\n    </g>\n    <g id=\"xtick_5\">\n     <g id=\"line2d_5\">\n      <g>\n       <use style=\"stroke:#000000;stroke-width:0.8;\" x=\"242.313149\" xlink:href=\"#m8ae83a3138\" y=\"253.44\"/>\n      </g>\n     </g>\n     <g id=\"text_5\">\n      <!-- 2.5 -->\n      <g transform=\"translate(234.361587 268.038437)scale(0.1 -0.1)\">\n       <use xlink:href=\"#DejaVuSans-50\"/>\n       <use x=\"63.623047\" xlink:href=\"#DejaVuSans-46\"/>\n       <use x=\"95.410156\" xlink:href=\"#DejaVuSans-53\"/>\n      </g>\n     </g>\n    </g>\n    <g id=\"xtick_6\">\n     <g id=\"line2d_6\">\n      <g>\n       <use style=\"stroke:#000000;stroke-width:0.8;\" x=\"296.663799\" xlink:href=\"#m8ae83a3138\" y=\"253.44\"/>\n      </g>\n     </g>\n     <g id=\"text_6\">\n      <!-- 3.0 -->\n      <g transform=\"translate(288.712236 268.038437)scale(0.1 -0.1)\">\n       <defs>\n        <path d=\"M 40.578125 39.3125 \nQ 47.65625 37.796875 51.625 33 \nQ 55.609375 28.21875 55.609375 21.1875 \nQ 55.609375 10.40625 48.1875 4.484375 \nQ 40.765625 -1.421875 27.09375 -1.421875 \nQ 22.515625 -1.421875 17.65625 -0.515625 \nQ 12.796875 0.390625 7.625 2.203125 \nL 7.625 11.71875 \nQ 11.71875 9.328125 16.59375 8.109375 \nQ 21.484375 6.890625 26.8125 6.890625 \nQ 36.078125 6.890625 40.9375 10.546875 \nQ 45.796875 14.203125 45.796875 21.1875 \nQ 45.796875 27.640625 41.28125 31.265625 \nQ 36.765625 34.90625 28.71875 34.90625 \nL 20.21875 34.90625 \nL 20.21875 43.015625 \nL 29.109375 43.015625 \nQ 36.375 43.015625 40.234375 45.921875 \nQ 44.09375 48.828125 44.09375 54.296875 \nQ 44.09375 59.90625 40.109375 62.90625 \nQ 36.140625 65.921875 28.71875 65.921875 \nQ 24.65625 65.921875 20.015625 65.03125 \nQ 15.375 64.15625 9.8125 62.3125 \nL 9.8125 71.09375 \nQ 15.4375 72.65625 20.34375 73.4375 \nQ 25.25 74.21875 29.59375 74.21875 \nQ 40.828125 74.21875 47.359375 69.109375 \nQ 53.90625 64.015625 53.90625 55.328125 \nQ 53.90625 49.265625 50.4375 45.09375 \nQ 46.96875 40.921875 40.578125 39.3125 \nz\n\" id=\"DejaVuSans-51\"/>\n       </defs>\n       <use xlink:href=\"#DejaVuSans-51\"/>\n       <use x=\"63.623047\" xlink:href=\"#DejaVuSans-46\"/>\n       <use x=\"95.410156\" xlink:href=\"#DejaVuSans-48\"/>\n      </g>\n     </g>\n    </g>\n    <g id=\"xtick_7\">\n     <g id=\"line2d_7\">\n      <g>\n       <use style=\"stroke:#000000;stroke-width:0.8;\" x=\"351.014448\" xlink:href=\"#m8ae83a3138\" y=\"253.44\"/>\n      </g>\n     </g>\n     <g id=\"text_7\">\n      <!-- 3.5 -->\n      <g transform=\"translate(343.062886 268.038437)scale(0.1 -0.1)\">\n       <use xlink:href=\"#DejaVuSans-51\"/>\n       <use x=\"63.623047\" xlink:href=\"#DejaVuSans-46\"/>\n       <use x=\"95.410156\" xlink:href=\"#DejaVuSans-53\"/>\n      </g>\n     </g>\n    </g>\n   </g>\n   <g id=\"matplotlib.axis_2\">\n    <g id=\"ytick_1\">\n     <g id=\"line2d_8\">\n      <defs>\n       <path d=\"M 0 0 \nL -3.5 0 \n\" id=\"m8b988c730f\" style=\"stroke:#000000;stroke-width:0.8;\"/>\n      </defs>\n      <g>\n       <use style=\"stroke:#000000;stroke-width:0.8;\" x=\"20.5625\" xlink:href=\"#m8b988c730f\" y=\"253.44\"/>\n      </g>\n     </g>\n     <g id=\"text_8\">\n      <!-- 0 -->\n      <g transform=\"translate(7.2 257.239219)scale(0.1 -0.1)\">\n       <use xlink:href=\"#DejaVuSans-48\"/>\n      </g>\n     </g>\n    </g>\n    <g id=\"ytick_2\">\n     <g id=\"line2d_9\">\n      <g>\n       <use style=\"stroke:#000000;stroke-width:0.8;\" x=\"20.5625\" xlink:href=\"#m8b988c730f\" y=\"218.925714\"/>\n      </g>\n     </g>\n     <g id=\"text_9\">\n      <!-- 1 -->\n      <g transform=\"translate(7.2 222.724933)scale(0.1 -0.1)\">\n       <use xlink:href=\"#DejaVuSans-49\"/>\n      </g>\n     </g>\n    </g>\n    <g id=\"ytick_3\">\n     <g id=\"line2d_10\">\n      <g>\n       <use style=\"stroke:#000000;stroke-width:0.8;\" x=\"20.5625\" xlink:href=\"#m8b988c730f\" y=\"184.411429\"/>\n      </g>\n     </g>\n     <g id=\"text_10\">\n      <!-- 2 -->\n      <g transform=\"translate(7.2 188.210647)scale(0.1 -0.1)\">\n       <use xlink:href=\"#DejaVuSans-50\"/>\n      </g>\n     </g>\n    </g>\n    <g id=\"ytick_4\">\n     <g id=\"line2d_11\">\n      <g>\n       <use style=\"stroke:#000000;stroke-width:0.8;\" x=\"20.5625\" xlink:href=\"#m8b988c730f\" y=\"149.897143\"/>\n      </g>\n     </g>\n     <g id=\"text_11\">\n      <!-- 3 -->\n      <g transform=\"translate(7.2 153.696362)scale(0.1 -0.1)\">\n       <use xlink:href=\"#DejaVuSans-51\"/>\n      </g>\n     </g>\n    </g>\n    <g id=\"ytick_5\">\n     <g id=\"line2d_12\">\n      <g>\n       <use style=\"stroke:#000000;stroke-width:0.8;\" x=\"20.5625\" xlink:href=\"#m8b988c730f\" y=\"115.382857\"/>\n      </g>\n     </g>\n     <g id=\"text_12\">\n      <!-- 4 -->\n      <g transform=\"translate(7.2 119.182076)scale(0.1 -0.1)\">\n       <defs>\n        <path d=\"M 37.796875 64.3125 \nL 12.890625 25.390625 \nL 37.796875 25.390625 \nz\nM 35.203125 72.90625 \nL 47.609375 72.90625 \nL 47.609375 25.390625 \nL 58.015625 25.390625 \nL 58.015625 17.1875 \nL 47.609375 17.1875 \nL 47.609375 0 \nL 37.796875 0 \nL 37.796875 17.1875 \nL 4.890625 17.1875 \nL 4.890625 26.703125 \nz\n\" id=\"DejaVuSans-52\"/>\n       </defs>\n       <use xlink:href=\"#DejaVuSans-52\"/>\n      </g>\n     </g>\n    </g>\n    <g id=\"ytick_6\">\n     <g id=\"line2d_13\">\n      <g>\n       <use style=\"stroke:#000000;stroke-width:0.8;\" x=\"20.5625\" xlink:href=\"#m8b988c730f\" y=\"80.868571\"/>\n      </g>\n     </g>\n     <g id=\"text_13\">\n      <!-- 5 -->\n      <g transform=\"translate(7.2 84.66779)scale(0.1 -0.1)\">\n       <use xlink:href=\"#DejaVuSans-53\"/>\n      </g>\n     </g>\n    </g>\n    <g id=\"ytick_7\">\n     <g id=\"line2d_14\">\n      <g>\n       <use style=\"stroke:#000000;stroke-width:0.8;\" x=\"20.5625\" xlink:href=\"#m8b988c730f\" y=\"46.354286\"/>\n      </g>\n     </g>\n     <g id=\"text_14\">\n      <!-- 6 -->\n      <g transform=\"translate(7.2 50.153504)scale(0.1 -0.1)\">\n       <defs>\n        <path d=\"M 33.015625 40.375 \nQ 26.375 40.375 22.484375 35.828125 \nQ 18.609375 31.296875 18.609375 23.390625 \nQ 18.609375 15.53125 22.484375 10.953125 \nQ 26.375 6.390625 33.015625 6.390625 \nQ 39.65625 6.390625 43.53125 10.953125 \nQ 47.40625 15.53125 47.40625 23.390625 \nQ 47.40625 31.296875 43.53125 35.828125 \nQ 39.65625 40.375 33.015625 40.375 \nz\nM 52.59375 71.296875 \nL 52.59375 62.3125 \nQ 48.875 64.0625 45.09375 64.984375 \nQ 41.3125 65.921875 37.59375 65.921875 \nQ 27.828125 65.921875 22.671875 59.328125 \nQ 17.53125 52.734375 16.796875 39.40625 \nQ 19.671875 43.65625 24.015625 45.921875 \nQ 28.375 48.1875 33.59375 48.1875 \nQ 44.578125 48.1875 50.953125 41.515625 \nQ 57.328125 34.859375 57.328125 23.390625 \nQ 57.328125 12.15625 50.6875 5.359375 \nQ 44.046875 -1.421875 33.015625 -1.421875 \nQ 20.359375 -1.421875 13.671875 8.265625 \nQ 6.984375 17.96875 6.984375 36.375 \nQ 6.984375 53.65625 15.1875 63.9375 \nQ 23.390625 74.21875 37.203125 74.21875 \nQ 40.921875 74.21875 44.703125 73.484375 \nQ 48.484375 72.75 52.59375 71.296875 \nz\n\" id=\"DejaVuSans-54\"/>\n       </defs>\n       <use xlink:href=\"#DejaVuSans-54\"/>\n      </g>\n     </g>\n    </g>\n   </g>\n   <g id=\"patch_6\">\n    <path d=\"M 20.5625 253.44 \nL 20.5625 36 \n\" style=\"fill:none;stroke:#000000;stroke-linecap:square;stroke-linejoin:miter;stroke-width:0.8;\"/>\n   </g>\n   <g id=\"patch_7\">\n    <path d=\"M 355.3625 253.44 \nL 355.3625 36 \n\" style=\"fill:none;stroke:#000000;stroke-linecap:square;stroke-linejoin:miter;stroke-width:0.8;\"/>\n   </g>\n   <g id=\"patch_8\">\n    <path d=\"M 20.5625 253.44 \nL 355.3625 253.44 \n\" style=\"fill:none;stroke:#000000;stroke-linecap:square;stroke-linejoin:miter;stroke-width:0.8;\"/>\n   </g>\n   <g id=\"patch_9\">\n    <path d=\"M 20.5625 36 \nL 355.3625 36 \n\" style=\"fill:none;stroke:#000000;stroke-linecap:square;stroke-linejoin:miter;stroke-width:0.8;\"/>\n   </g>\n  </g>\n  <g id=\"text_15\">\n   <!-- 지하철 -->\n   <g transform=\"translate(171.759688 16.318125)scale(0.12 -0.12)\">\n    <defs>\n     <path d=\"M 4.984375 -17.671875 \nL 4.984375 70.515625 \nL 54.984375 70.515625 \nL 54.984375 -17.671875 \nz\nM 10.59375 -12.109375 \nL 49.421875 -12.109375 \nL 49.421875 64.890625 \nL 10.59375 64.890625 \nz\n\" id=\"DejaVuSans-51648\"/>\n     <path d=\"M 4.984375 -17.671875 \nL 4.984375 70.515625 \nL 54.984375 70.515625 \nL 54.984375 -17.671875 \nz\nM 10.59375 -12.109375 \nL 49.421875 -12.109375 \nL 49.421875 64.890625 \nL 10.59375 64.890625 \nz\n\" id=\"DejaVuSans-54616\"/>\n     <path d=\"M 4.984375 -17.671875 \nL 4.984375 70.515625 \nL 54.984375 70.515625 \nL 54.984375 -17.671875 \nz\nM 10.59375 -12.109375 \nL 49.421875 -12.109375 \nL 49.421875 64.890625 \nL 10.59375 64.890625 \nz\n\" id=\"DejaVuSans-52384\"/>\n    </defs>\n    <use xlink:href=\"#DejaVuSans-51648\"/>\n    <use x=\"60.009766\" xlink:href=\"#DejaVuSans-54616\"/>\n    <use x=\"120.019531\" xlink:href=\"#DejaVuSans-52384\"/>\n   </g>\n  </g>\n </g>\n <defs>\n  <clipPath id=\"p00bd93ba96\">\n   <rect height=\"217.44\" width=\"334.8\" x=\"20.5625\" y=\"36\"/>\n  </clipPath>\n </defs>\n</svg>\n",
      "image/png": "[encoded data removed]"
     },
     "metadata": {
      "needs_background": "light"
     }
    },
    {
     "output_type": "stream",
     "name": "stderr",
     "text": [
      "/opt/conda/lib/python3.7/site-packages/matplotlib/textpath.py:74: RuntimeWarning: Glyph 53469 missing from current font.\n",
      "  font.set_text(s, 0.0, flags=LOAD_NO_HINTING)\n",
      "/opt/conda/lib/python3.7/site-packages/matplotlib/textpath.py:74: RuntimeWarning: Glyph 49884 missing from current font.\n",
      "  font.set_text(s, 0.0, flags=LOAD_NO_HINTING)\n",
      "/opt/conda/lib/python3.7/site-packages/matplotlib/backends/backend_agg.py:238: RuntimeWarning: Glyph 53469 missing from current font.\n",
      "  font.set_text(s, 0.0, flags=flags)\n",
      "/opt/conda/lib/python3.7/site-packages/matplotlib/backends/backend_agg.py:238: RuntimeWarning: Glyph 49884 missing from current font.\n",
      "  font.set_text(s, 0.0, flags=flags)\n",
      "/opt/conda/lib/python3.7/site-packages/matplotlib/backends/backend_agg.py:201: RuntimeWarning: Glyph 53469 missing from current font.\n",
      "  font.set_text(s, 0, flags=flags)\n",
      "/opt/conda/lib/python3.7/site-packages/matplotlib/backends/backend_agg.py:201: RuntimeWarning: Glyph 49884 missing from current font.\n",
      "  font.set_text(s, 0, flags=flags)\n"
     ]
    },
    {
     "output_type": "display_data",
     "data": {
      "text/plain": "<Figure size 432x288 with 1 Axes>",
      "image/svg+xml": "<?xml version=\"1.0\" encoding=\"utf-8\" standalone=\"no\"?>\n<!DOCTYPE svg PUBLIC \"-//W3C//DTD SVG 1.1//EN\"\n  \"http://www.w3.org/Graphics/SVG/1.1/DTD/svg11.dtd\">\n<!-- Created with matplotlib (https://matplotlib.org/) -->\n<svg height=\"277.318125pt\" version=\"1.1\" viewBox=\"0 0 366.166011 277.318125\" width=\"366.166011pt\" xmlns=\"http://www.w3.org/2000/svg\" xmlns:xlink=\"http://www.w3.org/1999/xlink\">\n <metadata>\n  <rdf:RDF xmlns:cc=\"http://creativecommons.org/ns#\" xmlns:dc=\"http://purl.org/dc/elements/1.1/\" xmlns:rdf=\"http://www.w3.org/1999/02/22-rdf-syntax-ns#\">\n   <cc:Work>\n    <dc:type rdf:resource=\"http://purl.org/dc/dcmitype/StillImage\"/>\n    <dc:date>2021-04-27T11:01:12.949738</dc:date>\n    <dc:format>image/svg+xml</dc:format>\n    <dc:creator>\n     <cc:Agent>\n      <dc:title>Matplotlib v3.3.4, https://matplotlib.org/</dc:title>\n     </cc:Agent>\n    </dc:creator>\n   </cc:Work>\n  </rdf:RDF>\n </metadata>\n <defs>\n  <style type=\"text/css\">*{stroke-linecap:butt;stroke-linejoin:round;}</style>\n </defs>\n <g id=\"figure_1\">\n  <g id=\"patch_1\">\n   <path d=\"M 0 277.318125 \nL 366.166011 277.318125 \nL 366.166011 0 \nL 0 0 \nz\n\" style=\"fill:none;\"/>\n  </g>\n  <g id=\"axes_1\">\n   <g id=\"patch_2\">\n    <path d=\"M 20.5625 253.44 \nL 355.3625 253.44 \nL 355.3625 36 \nL 20.5625 36 \nz\n\" style=\"fill:#ffffff;\"/>\n   </g>\n   <g id=\"patch_3\">\n    <path clip-path=\"url(#p30c0b062db)\" d=\"M 35.780682 253.44 \nL 122.741721 253.44 \nL 122.741721 115.382857 \nL 35.780682 115.382857 \nz\n\" style=\"fill:#1f77b4;\"/>\n   </g>\n   <g id=\"patch_4\">\n    <path clip-path=\"url(#p30c0b062db)\" d=\"M 144.481981 253.44 \nL 231.443019 253.44 \nL 231.443019 80.868571 \nL 144.481981 80.868571 \nz\n\" style=\"fill:#1f77b4;\"/>\n   </g>\n   <g id=\"patch_5\">\n    <path clip-path=\"url(#p30c0b062db)\" d=\"M 253.183279 253.44 \nL 340.144318 253.44 \nL 340.144318 46.354286 \nL 253.183279 46.354286 \nz\n\" style=\"fill:#1f77b4;\"/>\n   </g>\n   <g id=\"matplotlib.axis_1\">\n    <g id=\"xtick_1\">\n     <g id=\"line2d_1\">\n      <defs>\n       <path d=\"M 0 0 \nL 0 3.5 \n\" id=\"m1b630a752f\" style=\"stroke:#000000;stroke-width:0.8;\"/>\n      </defs>\n      <g>\n       <use style=\"stroke:#000000;stroke-width:0.8;\" x=\"24.910552\" xlink:href=\"#m1b630a752f\" y=\"253.44\"/>\n      </g>\n     </g>\n     <g id=\"text_1\">\n      <!-- 0.5 -->\n      <g transform=\"translate(16.958989 268.038437)scale(0.1 -0.1)\">\n       <defs>\n        <path d=\"M 31.78125 66.40625 \nQ 24.171875 66.40625 20.328125 58.90625 \nQ 16.5 51.421875 16.5 36.375 \nQ 16.5 21.390625 20.328125 13.890625 \nQ 24.171875 6.390625 31.78125 6.390625 \nQ 39.453125 6.390625 43.28125 13.890625 \nQ 47.125 21.390625 47.125 36.375 \nQ 47.125 51.421875 43.28125 58.90625 \nQ 39.453125 66.40625 31.78125 66.40625 \nz\nM 31.78125 74.21875 \nQ 44.046875 74.21875 50.515625 64.515625 \nQ 56.984375 54.828125 56.984375 36.375 \nQ 56.984375 17.96875 50.515625 8.265625 \nQ 44.046875 -1.421875 31.78125 -1.421875 \nQ 19.53125 -1.421875 13.0625 8.265625 \nQ 6.59375 17.96875 6.59375 36.375 \nQ 6.59375 54.828125 13.0625 64.515625 \nQ 19.53125 74.21875 31.78125 74.21875 \nz\n\" id=\"DejaVuSans-48\"/>\n        <path d=\"M 10.6875 12.40625 \nL 21 12.40625 \nL 21 0 \nL 10.6875 0 \nz\n\" id=\"DejaVuSans-46\"/>\n        <path d=\"M 10.796875 72.90625 \nL 49.515625 72.90625 \nL 49.515625 64.59375 \nL 19.828125 64.59375 \nL 19.828125 46.734375 \nQ 21.96875 47.46875 24.109375 47.828125 \nQ 26.265625 48.1875 28.421875 48.1875 \nQ 40.625 48.1875 47.75 41.5 \nQ 54.890625 34.8125 54.890625 23.390625 \nQ 54.890625 11.625 47.5625 5.09375 \nQ 40.234375 -1.421875 26.90625 -1.421875 \nQ 22.3125 -1.421875 17.546875 -0.640625 \nQ 12.796875 0.140625 7.71875 1.703125 \nL 7.71875 11.625 \nQ 12.109375 9.234375 16.796875 8.0625 \nQ 21.484375 6.890625 26.703125 6.890625 \nQ 35.15625 6.890625 40.078125 11.328125 \nQ 45.015625 15.765625 45.015625 23.390625 \nQ 45.015625 31 40.078125 35.4375 \nQ 35.15625 39.890625 26.703125 39.890625 \nQ 22.75 39.890625 18.8125 39.015625 \nQ 14.890625 38.140625 10.796875 36.28125 \nz\n\" id=\"DejaVuSans-53\"/>\n       </defs>\n       <use xlink:href=\"#DejaVuSans-48\"/>\n       <use x=\"63.623047\" xlink:href=\"#DejaVuSans-46\"/>\n       <use x=\"95.410156\" xlink:href=\"#DejaVuSans-53\"/>\n      </g>\n     </g>\n    </g>\n    <g id=\"xtick_2\">\n     <g id=\"line2d_2\">\n      <g>\n       <use style=\"stroke:#000000;stroke-width:0.8;\" x=\"79.261201\" xlink:href=\"#m1b630a752f\" y=\"253.44\"/>\n      </g>\n     </g>\n     <g id=\"text_2\">\n      <!-- 1.0 -->\n      <g transform=\"translate(71.309639 268.038437)scale(0.1 -0.1)\">\n       <defs>\n        <path d=\"M 12.40625 8.296875 \nL 28.515625 8.296875 \nL 28.515625 63.921875 \nL 10.984375 60.40625 \nL 10.984375 69.390625 \nL 28.421875 72.90625 \nL 38.28125 72.90625 \nL 38.28125 8.296875 \nL 54.390625 8.296875 \nL 54.390625 0 \nL 12.40625 0 \nz\n\" id=\"DejaVuSans-49\"/>\n       </defs>\n       <use xlink:href=\"#DejaVuSans-49\"/>\n       <use x=\"63.623047\" xlink:href=\"#DejaVuSans-46\"/>\n       <use x=\"95.410156\" xlink:href=\"#DejaVuSans-48\"/>\n      </g>\n     </g>\n    </g>\n    <g id=\"xtick_3\">\n     <g id=\"line2d_3\">\n      <g>\n       <use style=\"stroke:#000000;stroke-width:0.8;\" x=\"133.611851\" xlink:href=\"#m1b630a752f\" y=\"253.44\"/>\n      </g>\n     </g>\n     <g id=\"text_3\">\n      <!-- 1.5 -->\n      <g transform=\"translate(125.660288 268.038437)scale(0.1 -0.1)\">\n       <use xlink:href=\"#DejaVuSans-49\"/>\n       <use x=\"63.623047\" xlink:href=\"#DejaVuSans-46\"/>\n       <use x=\"95.410156\" xlink:href=\"#DejaVuSans-53\"/>\n      </g>\n     </g>\n    </g>\n    <g id=\"xtick_4\">\n     <g id=\"line2d_4\">\n      <g>\n       <use style=\"stroke:#000000;stroke-width:0.8;\" x=\"187.9625\" xlink:href=\"#m1b630a752f\" y=\"253.44\"/>\n      </g>\n     </g>\n     <g id=\"text_4\">\n      <!-- 2.0 -->\n      <g transform=\"translate(180.010937 268.038437)scale(0.1 -0.1)\">\n       <defs>\n        <path d=\"M 19.1875 8.296875 \nL 53.609375 8.296875 \nL 53.609375 0 \nL 7.328125 0 \nL 7.328125 8.296875 \nQ 12.9375 14.109375 22.625 23.890625 \nQ 32.328125 33.6875 34.8125 36.53125 \nQ 39.546875 41.84375 41.421875 45.53125 \nQ 43.3125 49.21875 43.3125 52.78125 \nQ 43.3125 58.59375 39.234375 62.25 \nQ 35.15625 65.921875 28.609375 65.921875 \nQ 23.96875 65.921875 18.8125 64.3125 \nQ 13.671875 62.703125 7.8125 59.421875 \nL 7.8125 69.390625 \nQ 13.765625 71.78125 18.9375 73 \nQ 24.125 74.21875 28.421875 74.21875 \nQ 39.75 74.21875 46.484375 68.546875 \nQ 53.21875 62.890625 53.21875 53.421875 \nQ 53.21875 48.921875 51.53125 44.890625 \nQ 49.859375 40.875 45.40625 35.40625 \nQ 44.1875 33.984375 37.640625 27.21875 \nQ 31.109375 20.453125 19.1875 8.296875 \nz\n\" id=\"DejaVuSans-50\"/>\n       </defs>\n       <use xlink:href=\"#DejaVuSans-50\"/>\n       <use x=\"63.623047\" xlink:href=\"#DejaVuSans-46\"/>\n       <use x=\"95.410156\" xlink:href=\"#DejaVuSans-48\"/>\n      </g>\n     </g>\n    </g>\n    <g id=\"xtick_5\">\n     <g id=\"line2d_5\">\n      <g>\n       <use style=\"stroke:#000000;stroke-width:0.8;\" x=\"242.313149\" xlink:href=\"#m1b630a752f\" y=\"253.44\"/>\n      </g>\n     </g>\n     <g id=\"text_5\">\n      <!-- 2.5 -->\n      <g transform=\"translate(234.361587 268.038437)scale(0.1 -0.1)\">\n       <use xlink:href=\"#DejaVuSans-50\"/>\n       <use x=\"63.623047\" xlink:href=\"#DejaVuSans-46\"/>\n       <use x=\"95.410156\" xlink:href=\"#DejaVuSans-53\"/>\n      </g>\n     </g>\n    </g>\n    <g id=\"xtick_6\">\n     <g id=\"line2d_6\">\n      <g>\n       <use style=\"stroke:#000000;stroke-width:0.8;\" x=\"296.663799\" xlink:href=\"#m1b630a752f\" y=\"253.44\"/>\n      </g>\n     </g>\n     <g id=\"text_6\">\n      <!-- 3.0 -->\n      <g transform=\"translate(288.712236 268.038437)scale(0.1 -0.1)\">\n       <defs>\n        <path d=\"M 40.578125 39.3125 \nQ 47.65625 37.796875 51.625 33 \nQ 55.609375 28.21875 55.609375 21.1875 \nQ 55.609375 10.40625 48.1875 4.484375 \nQ 40.765625 -1.421875 27.09375 -1.421875 \nQ 22.515625 -1.421875 17.65625 -0.515625 \nQ 12.796875 0.390625 7.625 2.203125 \nL 7.625 11.71875 \nQ 11.71875 9.328125 16.59375 8.109375 \nQ 21.484375 6.890625 26.8125 6.890625 \nQ 36.078125 6.890625 40.9375 10.546875 \nQ 45.796875 14.203125 45.796875 21.1875 \nQ 45.796875 27.640625 41.28125 31.265625 \nQ 36.765625 34.90625 28.71875 34.90625 \nL 20.21875 34.90625 \nL 20.21875 43.015625 \nL 29.109375 43.015625 \nQ 36.375 43.015625 40.234375 45.921875 \nQ 44.09375 48.828125 44.09375 54.296875 \nQ 44.09375 59.90625 40.109375 62.90625 \nQ 36.140625 65.921875 28.71875 65.921875 \nQ 24.65625 65.921875 20.015625 65.03125 \nQ 15.375 64.15625 9.8125 62.3125 \nL 9.8125 71.09375 \nQ 15.4375 72.65625 20.34375 73.4375 \nQ 25.25 74.21875 29.59375 74.21875 \nQ 40.828125 74.21875 47.359375 69.109375 \nQ 53.90625 64.015625 53.90625 55.328125 \nQ 53.90625 49.265625 50.4375 45.09375 \nQ 46.96875 40.921875 40.578125 39.3125 \nz\n\" id=\"DejaVuSans-51\"/>\n       </defs>\n       <use xlink:href=\"#DejaVuSans-51\"/>\n       <use x=\"63.623047\" xlink:href=\"#DejaVuSans-46\"/>\n       <use x=\"95.410156\" xlink:href=\"#DejaVuSans-48\"/>\n      </g>\n     </g>\n    </g>\n    <g id=\"xtick_7\">\n     <g id=\"line2d_7\">\n      <g>\n       <use style=\"stroke:#000000;stroke-width:0.8;\" x=\"351.014448\" xlink:href=\"#m1b630a752f\" y=\"253.44\"/>\n      </g>\n     </g>\n     <g id=\"text_7\">\n      <!-- 3.5 -->\n      <g transform=\"translate(343.062886 268.038437)scale(0.1 -0.1)\">\n       <use xlink:href=\"#DejaVuSans-51\"/>\n       <use x=\"63.623047\" xlink:href=\"#DejaVuSans-46\"/>\n       <use x=\"95.410156\" xlink:href=\"#DejaVuSans-53\"/>\n      </g>\n     </g>\n    </g>\n   </g>\n   <g id=\"matplotlib.axis_2\">\n    <g id=\"ytick_1\">\n     <g id=\"line2d_8\">\n      <defs>\n       <path d=\"M 0 0 \nL -3.5 0 \n\" id=\"m4fcc07a72f\" style=\"stroke:#000000;stroke-width:0.8;\"/>\n      </defs>\n      <g>\n       <use style=\"stroke:#000000;stroke-width:0.8;\" x=\"20.5625\" xlink:href=\"#m4fcc07a72f\" y=\"253.44\"/>\n      </g>\n     </g>\n     <g id=\"text_8\">\n      <!-- 0 -->\n      <g transform=\"translate(7.2 257.239219)scale(0.1 -0.1)\">\n       <use xlink:href=\"#DejaVuSans-48\"/>\n      </g>\n     </g>\n    </g>\n    <g id=\"ytick_2\">\n     <g id=\"line2d_9\">\n      <g>\n       <use style=\"stroke:#000000;stroke-width:0.8;\" x=\"20.5625\" xlink:href=\"#m4fcc07a72f\" y=\"218.925714\"/>\n      </g>\n     </g>\n     <g id=\"text_9\">\n      <!-- 1 -->\n      <g transform=\"translate(7.2 222.724933)scale(0.1 -0.1)\">\n       <use xlink:href=\"#DejaVuSans-49\"/>\n      </g>\n     </g>\n    </g>\n    <g id=\"ytick_3\">\n     <g id=\"line2d_10\">\n      <g>\n       <use style=\"stroke:#000000;stroke-width:0.8;\" x=\"20.5625\" xlink:href=\"#m4fcc07a72f\" y=\"184.411429\"/>\n      </g>\n     </g>\n     <g id=\"text_10\">\n      <!-- 2 -->\n      <g transform=\"translate(7.2 188.210647)scale(0.1 -0.1)\">\n       <use xlink:href=\"#DejaVuSans-50\"/>\n      </g>\n     </g>\n    </g>\n    <g id=\"ytick_4\">\n     <g id=\"line2d_11\">\n      <g>\n       <use style=\"stroke:#000000;stroke-width:0.8;\" x=\"20.5625\" xlink:href=\"#m4fcc07a72f\" y=\"149.897143\"/>\n      </g>\n     </g>\n     <g id=\"text_11\">\n      <!-- 3 -->\n      <g transform=\"translate(7.2 153.696362)scale(0.1 -0.1)\">\n       <use xlink:href=\"#DejaVuSans-51\"/>\n      </g>\n     </g>\n    </g>\n    <g id=\"ytick_5\">\n     <g id=\"line2d_12\">\n      <g>\n       <use style=\"stroke:#000000;stroke-width:0.8;\" x=\"20.5625\" xlink:href=\"#m4fcc07a72f\" y=\"115.382857\"/>\n      </g>\n     </g>\n     <g id=\"text_12\">\n      <!-- 4 -->\n      <g transform=\"translate(7.2 119.182076)scale(0.1 -0.1)\">\n       <defs>\n        <path d=\"M 37.796875 64.3125 \nL 12.890625 25.390625 \nL 37.796875 25.390625 \nz\nM 35.203125 72.90625 \nL 47.609375 72.90625 \nL 47.609375 25.390625 \nL 58.015625 25.390625 \nL 58.015625 17.1875 \nL 47.609375 17.1875 \nL 47.609375 0 \nL 37.796875 0 \nL 37.796875 17.1875 \nL 4.890625 17.1875 \nL 4.890625 26.703125 \nz\n\" id=\"DejaVuSans-52\"/>\n       </defs>\n       <use xlink:href=\"#DejaVuSans-52\"/>\n      </g>\n     </g>\n    </g>\n    <g id=\"ytick_6\">\n     <g id=\"line2d_13\">\n      <g>\n       <use style=\"stroke:#000000;stroke-width:0.8;\" x=\"20.5625\" xlink:href=\"#m4fcc07a72f\" y=\"80.868571\"/>\n      </g>\n     </g>\n     <g id=\"text_13\">\n      <!-- 5 -->\n      <g transform=\"translate(7.2 84.66779)scale(0.1 -0.1)\">\n       <use xlink:href=\"#DejaVuSans-53\"/>\n      </g>\n     </g>\n    </g>\n    <g id=\"ytick_7\">\n     <g id=\"line2d_14\">\n      <g>\n       <use style=\"stroke:#000000;stroke-width:0.8;\" x=\"20.5625\" xlink:href=\"#m4fcc07a72f\" y=\"46.354286\"/>\n      </g>\n     </g>\n     <g id=\"text_14\">\n      <!-- 6 -->\n      <g transform=\"translate(7.2 50.153504)scale(0.1 -0.1)\">\n       <defs>\n        <path d=\"M 33.015625 40.375 \nQ 26.375 40.375 22.484375 35.828125 \nQ 18.609375 31.296875 18.609375 23.390625 \nQ 18.609375 15.53125 22.484375 10.953125 \nQ 26.375 6.390625 33.015625 6.390625 \nQ 39.65625 6.390625 43.53125 10.953125 \nQ 47.40625 15.53125 47.40625 23.390625 \nQ 47.40625 31.296875 43.53125 35.828125 \nQ 39.65625 40.375 33.015625 40.375 \nz\nM 52.59375 71.296875 \nL 52.59375 62.3125 \nQ 48.875 64.0625 45.09375 64.984375 \nQ 41.3125 65.921875 37.59375 65.921875 \nQ 27.828125 65.921875 22.671875 59.328125 \nQ 17.53125 52.734375 16.796875 39.40625 \nQ 19.671875 43.65625 24.015625 45.921875 \nQ 28.375 48.1875 33.59375 48.1875 \nQ 44.578125 48.1875 50.953125 41.515625 \nQ 57.328125 34.859375 57.328125 23.390625 \nQ 57.328125 12.15625 50.6875 5.359375 \nQ 44.046875 -1.421875 33.015625 -1.421875 \nQ 20.359375 -1.421875 13.671875 8.265625 \nQ 6.984375 17.96875 6.984375 36.375 \nQ 6.984375 53.65625 15.1875 63.9375 \nQ 23.390625 74.21875 37.203125 74.21875 \nQ 40.921875 74.21875 44.703125 73.484375 \nQ 48.484375 72.75 52.59375 71.296875 \nz\n\" id=\"DejaVuSans-54\"/>\n       </defs>\n       <use xlink:href=\"#DejaVuSans-54\"/>\n      </g>\n     </g>\n    </g>\n   </g>\n   <g id=\"patch_6\">\n    <path d=\"M 20.5625 253.44 \nL 20.5625 36 \n\" style=\"fill:none;stroke:#000000;stroke-linecap:square;stroke-linejoin:miter;stroke-width:0.8;\"/>\n   </g>\n   <g id=\"patch_7\">\n    <path d=\"M 355.3625 253.44 \nL 355.3625 36 \n\" style=\"fill:none;stroke:#000000;stroke-linecap:square;stroke-linejoin:miter;stroke-width:0.8;\"/>\n   </g>\n   <g id=\"patch_8\">\n    <path d=\"M 20.5625 253.44 \nL 355.3625 253.44 \n\" style=\"fill:none;stroke:#000000;stroke-linecap:square;stroke-linejoin:miter;stroke-width:0.8;\"/>\n   </g>\n   <g id=\"patch_9\">\n    <path d=\"M 20.5625 36 \nL 355.3625 36 \n\" style=\"fill:none;stroke:#000000;stroke-linecap:square;stroke-linejoin:miter;stroke-width:0.8;\"/>\n   </g>\n  </g>\n  <g id=\"text_15\">\n   <!-- 택시 -->\n   <g transform=\"translate(175.360625 16.318125)scale(0.12 -0.12)\">\n    <defs>\n     <path d=\"M 4.984375 -17.671875 \nL 4.984375 70.515625 \nL 54.984375 70.515625 \nL 54.984375 -17.671875 \nz\nM 10.59375 -12.109375 \nL 49.421875 -12.109375 \nL 49.421875 64.890625 \nL 10.59375 64.890625 \nz\n\" id=\"DejaVuSans-53469\"/>\n     <path d=\"M 4.984375 -17.671875 \nL 4.984375 70.515625 \nL 54.984375 70.515625 \nL 54.984375 -17.671875 \nz\nM 10.59375 -12.109375 \nL 49.421875 -12.109375 \nL 49.421875 64.890625 \nL 10.59375 64.890625 \nz\n\" id=\"DejaVuSans-49884\"/>\n    </defs>\n    <use xlink:href=\"#DejaVuSans-53469\"/>\n    <use x=\"60.009766\" xlink:href=\"#DejaVuSans-49884\"/>\n   </g>\n  </g>\n </g>\n <defs>\n  <clipPath id=\"p30c0b062db\">\n   <rect height=\"217.44\" width=\"334.8\" x=\"20.5625\" y=\"36\"/>\n  </clipPath>\n </defs>\n</svg>\n",
      "image/png": "[encoded data removed]"
     },
     "metadata": {
      "needs_background": "light"
     }
    },
    {
     "output_type": "stream",
     "name": "stderr",
     "text": [
      "/opt/conda/lib/python3.7/site-packages/matplotlib/textpath.py:74: RuntimeWarning: Glyph 49689 missing from current font.\n",
      "  font.set_text(s, 0.0, flags=LOAD_NO_HINTING)\n",
      "/opt/conda/lib/python3.7/site-packages/matplotlib/textpath.py:74: RuntimeWarning: Glyph 49548 missing from current font.\n",
      "  font.set_text(s, 0.0, flags=LOAD_NO_HINTING)\n",
      "/opt/conda/lib/python3.7/site-packages/matplotlib/backends/backend_agg.py:238: RuntimeWarning: Glyph 49689 missing from current font.\n",
      "  font.set_text(s, 0.0, flags=flags)\n",
      "/opt/conda/lib/python3.7/site-packages/matplotlib/backends/backend_agg.py:238: RuntimeWarning: Glyph 49548 missing from current font.\n",
      "  font.set_text(s, 0.0, flags=flags)\n",
      "/opt/conda/lib/python3.7/site-packages/matplotlib/backends/backend_agg.py:201: RuntimeWarning: Glyph 49689 missing from current font.\n",
      "  font.set_text(s, 0, flags=flags)\n",
      "/opt/conda/lib/python3.7/site-packages/matplotlib/backends/backend_agg.py:201: RuntimeWarning: Glyph 49548 missing from current font.\n",
      "  font.set_text(s, 0, flags=flags)\n"
     ]
    },
    {
     "output_type": "display_data",
     "data": {
      "text/plain": "<Figure size 432x288 with 1 Axes>",
      "image/svg+xml": "<?xml version=\"1.0\" encoding=\"utf-8\" standalone=\"no\"?>\n<!DOCTYPE svg PUBLIC \"-//W3C//DTD SVG 1.1//EN\"\n  \"http://www.w3.org/Graphics/SVG/1.1/DTD/svg11.dtd\">\n<!-- Created with matplotlib (https://matplotlib.org/) -->\n<svg height=\"277.318125pt\" version=\"1.1\" viewBox=\"0 0 366.166011 277.318125\" width=\"366.166011pt\" xmlns=\"http://www.w3.org/2000/svg\" xmlns:xlink=\"http://www.w3.org/1999/xlink\">\n <metadata>\n  <rdf:RDF xmlns:cc=\"http://creativecommons.org/ns#\" xmlns:dc=\"http://purl.org/dc/elements/1.1/\" xmlns:rdf=\"http://www.w3.org/1999/02/22-rdf-syntax-ns#\">\n   <cc:Work>\n    <dc:type rdf:resource=\"http://purl.org/dc/dcmitype/StillImage\"/>\n    <dc:date>2021-04-27T11:01:13.119517</dc:date>\n    <dc:format>image/svg+xml</dc:format>\n    <dc:creator>\n     <cc:Agent>\n      <dc:title>Matplotlib v3.3.4, https://matplotlib.org/</dc:title>\n     </cc:Agent>\n    </dc:creator>\n   </cc:Work>\n  </rdf:RDF>\n </metadata>\n <defs>\n  <style type=\"text/css\">*{stroke-linecap:butt;stroke-linejoin:round;}</style>\n </defs>\n <g id=\"figure_1\">\n  <g id=\"patch_1\">\n   <path d=\"M 0 277.318125 \nL 366.166011 277.318125 \nL 366.166011 0 \nL 0 0 \nz\n\" style=\"fill:none;\"/>\n  </g>\n  <g id=\"axes_1\">\n   <g id=\"patch_2\">\n    <path d=\"M 20.5625 253.44 \nL 355.3625 253.44 \nL 355.3625 36 \nL 20.5625 36 \nz\n\" style=\"fill:#ffffff;\"/>\n   </g>\n   <g id=\"patch_3\">\n    <path clip-path=\"url(#p39510c36b4)\" d=\"M 35.780682 253.44 \nL 122.741721 253.44 \nL 122.741721 115.382857 \nL 35.780682 115.382857 \nz\n\" style=\"fill:#1f77b4;\"/>\n   </g>\n   <g id=\"patch_4\">\n    <path clip-path=\"url(#p39510c36b4)\" d=\"M 144.481981 253.44 \nL 231.443019 253.44 \nL 231.443019 80.868571 \nL 144.481981 80.868571 \nz\n\" style=\"fill:#1f77b4;\"/>\n   </g>\n   <g id=\"patch_5\">\n    <path clip-path=\"url(#p39510c36b4)\" d=\"M 253.183279 253.44 \nL 340.144318 253.44 \nL 340.144318 46.354286 \nL 253.183279 46.354286 \nz\n\" style=\"fill:#1f77b4;\"/>\n   </g>\n   <g id=\"matplotlib.axis_1\">\n    <g id=\"xtick_1\">\n     <g id=\"line2d_1\">\n      <defs>\n       <path d=\"M 0 0 \nL 0 3.5 \n\" id=\"m0c9f903b4e\" style=\"stroke:#000000;stroke-width:0.8;\"/>\n      </defs>\n      <g>\n       <use style=\"stroke:#000000;stroke-width:0.8;\" x=\"24.910552\" xlink:href=\"#m0c9f903b4e\" y=\"253.44\"/>\n      </g>\n     </g>\n     <g id=\"text_1\">\n      <!-- 0.5 -->\n      <g transform=\"translate(16.958989 268.038437)scale(0.1 -0.1)\">\n       <defs>\n        <path d=\"M 31.78125 66.40625 \nQ 24.171875 66.40625 20.328125 58.90625 \nQ 16.5 51.421875 16.5 36.375 \nQ 16.5 21.390625 20.328125 13.890625 \nQ 24.171875 6.390625 31.78125 6.390625 \nQ 39.453125 6.390625 43.28125 13.890625 \nQ 47.125 21.390625 47.125 36.375 \nQ 47.125 51.421875 43.28125 58.90625 \nQ 39.453125 66.40625 31.78125 66.40625 \nz\nM 31.78125 74.21875 \nQ 44.046875 74.21875 50.515625 64.515625 \nQ 56.984375 54.828125 56.984375 36.375 \nQ 56.984375 17.96875 50.515625 8.265625 \nQ 44.046875 -1.421875 31.78125 -1.421875 \nQ 19.53125 -1.421875 13.0625 8.265625 \nQ 6.59375 17.96875 6.59375 36.375 \nQ 6.59375 54.828125 13.0625 64.515625 \nQ 19.53125 74.21875 31.78125 74.21875 \nz\n\" id=\"DejaVuSans-48\"/>\n        <path d=\"M 10.6875 12.40625 \nL 21 12.40625 \nL 21 0 \nL 10.6875 0 \nz\n\" id=\"DejaVuSans-46\"/>\n        <path d=\"M 10.796875 72.90625 \nL 49.515625 72.90625 \nL 49.515625 64.59375 \nL 19.828125 64.59375 \nL 19.828125 46.734375 \nQ 21.96875 47.46875 24.109375 47.828125 \nQ 26.265625 48.1875 28.421875 48.1875 \nQ 40.625 48.1875 47.75 41.5 \nQ 54.890625 34.8125 54.890625 23.390625 \nQ 54.890625 11.625 47.5625 5.09375 \nQ 40.234375 -1.421875 26.90625 -1.421875 \nQ 22.3125 -1.421875 17.546875 -0.640625 \nQ 12.796875 0.140625 7.71875 1.703125 \nL 7.71875 11.625 \nQ 12.109375 9.234375 16.796875 8.0625 \nQ 21.484375 6.890625 26.703125 6.890625 \nQ 35.15625 6.890625 40.078125 11.328125 \nQ 45.015625 15.765625 45.015625 23.390625 \nQ 45.015625 31 40.078125 35.4375 \nQ 35.15625 39.890625 26.703125 39.890625 \nQ 22.75 39.890625 18.8125 39.015625 \nQ 14.890625 38.140625 10.796875 36.28125 \nz\n\" id=\"DejaVuSans-53\"/>\n       </defs>\n       <use xlink:href=\"#DejaVuSans-48\"/>\n       <use x=\"63.623047\" xlink:href=\"#DejaVuSans-46\"/>\n       <use x=\"95.410156\" xlink:href=\"#DejaVuSans-53\"/>\n      </g>\n     </g>\n    </g>\n    <g id=\"xtick_2\">\n     <g id=\"line2d_2\">\n      <g>\n       <use style=\"stroke:#000000;stroke-width:0.8;\" x=\"79.261201\" xlink:href=\"#m0c9f903b4e\" y=\"253.44\"/>\n      </g>\n     </g>\n     <g id=\"text_2\">\n      <!-- 1.0 -->\n      <g transform=\"translate(71.309639 268.038437)scale(0.1 -0.1)\">\n       <defs>\n        <path d=\"M 12.40625 8.296875 \nL 28.515625 8.296875 \nL 28.515625 63.921875 \nL 10.984375 60.40625 \nL 10.984375 69.390625 \nL 28.421875 72.90625 \nL 38.28125 72.90625 \nL 38.28125 8.296875 \nL 54.390625 8.296875 \nL 54.390625 0 \nL 12.40625 0 \nz\n\" id=\"DejaVuSans-49\"/>\n       </defs>\n       <use xlink:href=\"#DejaVuSans-49\"/>\n       <use x=\"63.623047\" xlink:href=\"#DejaVuSans-46\"/>\n       <use x=\"95.410156\" xlink:href=\"#DejaVuSans-48\"/>\n      </g>\n     </g>\n    </g>\n    <g id=\"xtick_3\">\n     <g id=\"line2d_3\">\n      <g>\n       <use style=\"stroke:#000000;stroke-width:0.8;\" x=\"133.611851\" xlink:href=\"#m0c9f903b4e\" y=\"253.44\"/>\n      </g>\n     </g>\n     <g id=\"text_3\">\n      <!-- 1.5 -->\n      <g transform=\"translate(125.660288 268.038437)scale(0.1 -0.1)\">\n       <use xlink:href=\"#DejaVuSans-49\"/>\n       <use x=\"63.623047\" xlink:href=\"#DejaVuSans-46\"/>\n       <use x=\"95.410156\" xlink:href=\"#DejaVuSans-53\"/>\n      </g>\n     </g>\n    </g>\n    <g id=\"xtick_4\">\n     <g id=\"line2d_4\">\n      <g>\n       <use style=\"stroke:#000000;stroke-width:0.8;\" x=\"187.9625\" xlink:href=\"#m0c9f903b4e\" y=\"253.44\"/>\n      </g>\n     </g>\n     <g id=\"text_4\">\n      <!-- 2.0 -->\n      <g transform=\"translate(180.010937 268.038437)scale(0.1 -0.1)\">\n       <defs>\n        <path d=\"M 19.1875 8.296875 \nL 53.609375 8.296875 \nL 53.609375 0 \nL 7.328125 0 \nL 7.328125 8.296875 \nQ 12.9375 14.109375 22.625 23.890625 \nQ 32.328125 33.6875 34.8125 36.53125 \nQ 39.546875 41.84375 41.421875 45.53125 \nQ 43.3125 49.21875 43.3125 52.78125 \nQ 43.3125 58.59375 39.234375 62.25 \nQ 35.15625 65.921875 28.609375 65.921875 \nQ 23.96875 65.921875 18.8125 64.3125 \nQ 13.671875 62.703125 7.8125 59.421875 \nL 7.8125 69.390625 \nQ 13.765625 71.78125 18.9375 73 \nQ 24.125 74.21875 28.421875 74.21875 \nQ 39.75 74.21875 46.484375 68.546875 \nQ 53.21875 62.890625 53.21875 53.421875 \nQ 53.21875 48.921875 51.53125 44.890625 \nQ 49.859375 40.875 45.40625 35.40625 \nQ 44.1875 33.984375 37.640625 27.21875 \nQ 31.109375 20.453125 19.1875 8.296875 \nz\n\" id=\"DejaVuSans-50\"/>\n       </defs>\n       <use xlink:href=\"#DejaVuSans-50\"/>\n       <use x=\"63.623047\" xlink:href=\"#DejaVuSans-46\"/>\n       <use x=\"95.410156\" xlink:href=\"#DejaVuSans-48\"/>\n      </g>\n     </g>\n    </g>\n    <g id=\"xtick_5\">\n     <g id=\"line2d_5\">\n      <g>\n       <use style=\"stroke:#000000;stroke-width:0.8;\" x=\"242.313149\" xlink:href=\"#m0c9f903b4e\" y=\"253.44\"/>\n      </g>\n     </g>\n     <g id=\"text_5\">\n      <!-- 2.5 -->\n      <g transform=\"translate(234.361587 268.038437)scale(0.1 -0.1)\">\n       <use xlink:href=\"#DejaVuSans-50\"/>\n       <use x=\"63.623047\" xlink:href=\"#DejaVuSans-46\"/>\n       <use x=\"95.410156\" xlink:href=\"#DejaVuSans-53\"/>\n      </g>\n     </g>\n    </g>\n    <g id=\"xtick_6\">\n     <g id=\"line2d_6\">\n      <g>\n       <use style=\"stroke:#000000;stroke-width:0.8;\" x=\"296.663799\" xlink:href=\"#m0c9f903b4e\" y=\"253.44\"/>\n      </g>\n     </g>\n     <g id=\"text_6\">\n      <!-- 3.0 -->\n      <g transform=\"translate(288.712236 268.038437)scale(0.1 -0.1)\">\n       <defs>\n        <path d=\"M 40.578125 39.3125 \nQ 47.65625 37.796875 51.625 33 \nQ 55.609375 28.21875 55.609375 21.1875 \nQ 55.609375 10.40625 48.1875 4.484375 \nQ 40.765625 -1.421875 27.09375 -1.421875 \nQ 22.515625 -1.421875 17.65625 -0.515625 \nQ 12.796875 0.390625 7.625 2.203125 \nL 7.625 11.71875 \nQ 11.71875 9.328125 16.59375 8.109375 \nQ 21.484375 6.890625 26.8125 6.890625 \nQ 36.078125 6.890625 40.9375 10.546875 \nQ 45.796875 14.203125 45.796875 21.1875 \nQ 45.796875 27.640625 41.28125 31.265625 \nQ 36.765625 34.90625 28.71875 34.90625 \nL 20.21875 34.90625 \nL 20.21875 43.015625 \nL 29.109375 43.015625 \nQ 36.375 43.015625 40.234375 45.921875 \nQ 44.09375 48.828125 44.09375 54.296875 \nQ 44.09375 59.90625 40.109375 62.90625 \nQ 36.140625 65.921875 28.71875 65.921875 \nQ 24.65625 65.921875 20.015625 65.03125 \nQ 15.375 64.15625 9.8125 62.3125 \nL 9.8125 71.09375 \nQ 15.4375 72.65625 20.34375 73.4375 \nQ 25.25 74.21875 29.59375 74.21875 \nQ 40.828125 74.21875 47.359375 69.109375 \nQ 53.90625 64.015625 53.90625 55.328125 \nQ 53.90625 49.265625 50.4375 45.09375 \nQ 46.96875 40.921875 40.578125 39.3125 \nz\n\" id=\"DejaVuSans-51\"/>\n       </defs>\n       <use xlink:href=\"#DejaVuSans-51\"/>\n       <use x=\"63.623047\" xlink:href=\"#DejaVuSans-46\"/>\n       <use x=\"95.410156\" xlink:href=\"#DejaVuSans-48\"/>\n      </g>\n     </g>\n    </g>\n    <g id=\"xtick_7\">\n     <g id=\"line2d_7\">\n      <g>\n       <use style=\"stroke:#000000;stroke-width:0.8;\" x=\"351.014448\" xlink:href=\"#m0c9f903b4e\" y=\"253.44\"/>\n      </g>\n     </g>\n     <g id=\"text_7\">\n      <!-- 3.5 -->\n      <g transform=\"translate(343.062886 268.038437)scale(0.1 -0.1)\">\n       <use xlink:href=\"#DejaVuSans-51\"/>\n       <use x=\"63.623047\" xlink:href=\"#DejaVuSans-46\"/>\n       <use x=\"95.410156\" xlink:href=\"#DejaVuSans-53\"/>\n      </g>\n     </g>\n    </g>\n   </g>\n   <g id=\"matplotlib.axis_2\">\n    <g id=\"ytick_1\">\n     <g id=\"line2d_8\">\n      <defs>\n       <path d=\"M 0 0 \nL -3.5 0 \n\" id=\"m7200e4d1c5\" style=\"stroke:#000000;stroke-width:0.8;\"/>\n      </defs>\n      <g>\n       <use style=\"stroke:#000000;stroke-width:0.8;\" x=\"20.5625\" xlink:href=\"#m7200e4d1c5\" y=\"253.44\"/>\n      </g>\n     </g>\n     <g id=\"text_8\">\n      <!-- 0 -->\n      <g transform=\"translate(7.2 257.239219)scale(0.1 -0.1)\">\n       <use xlink:href=\"#DejaVuSans-48\"/>\n      </g>\n     </g>\n    </g>\n    <g id=\"ytick_2\">\n     <g id=\"line2d_9\">\n      <g>\n       <use style=\"stroke:#000000;stroke-width:0.8;\" x=\"20.5625\" xlink:href=\"#m7200e4d1c5\" y=\"218.925714\"/>\n      </g>\n     </g>\n     <g id=\"text_9\">\n      <!-- 1 -->\n      <g transform=\"translate(7.2 222.724933)scale(0.1 -0.1)\">\n       <use xlink:href=\"#DejaVuSans-49\"/>\n      </g>\n     </g>\n    </g>\n    <g id=\"ytick_3\">\n     <g id=\"line2d_10\">\n      <g>\n       <use style=\"stroke:#000000;stroke-width:0.8;\" x=\"20.5625\" xlink:href=\"#m7200e4d1c5\" y=\"184.411429\"/>\n      </g>\n     </g>\n     <g id=\"text_10\">\n      <!-- 2 -->\n      <g transform=\"translate(7.2 188.210647)scale(0.1 -0.1)\">\n       <use xlink:href=\"#DejaVuSans-50\"/>\n      </g>\n     </g>\n    </g>\n    <g id=\"ytick_4\">\n     <g id=\"line2d_11\">\n      <g>\n       <use style=\"stroke:#000000;stroke-width:0.8;\" x=\"20.5625\" xlink:href=\"#m7200e4d1c5\" y=\"149.897143\"/>\n      </g>\n     </g>\n     <g id=\"text_11\">\n      <!-- 3 -->\n      <g transform=\"translate(7.2 153.696362)scale(0.1 -0.1)\">\n       <use xlink:href=\"#DejaVuSans-51\"/>\n      </g>\n     </g>\n    </g>\n    <g id=\"ytick_5\">\n     <g id=\"line2d_12\">\n      <g>\n       <use style=\"stroke:#000000;stroke-width:0.8;\" x=\"20.5625\" xlink:href=\"#m7200e4d1c5\" y=\"115.382857\"/>\n      </g>\n     </g>\n     <g id=\"text_12\">\n      <!-- 4 -->\n      <g transform=\"translate(7.2 119.182076)scale(0.1 -0.1)\">\n       <defs>\n        <path d=\"M 37.796875 64.3125 \nL 12.890625 25.390625 \nL 37.796875 25.390625 \nz\nM 35.203125 72.90625 \nL 47.609375 72.90625 \nL 47.609375 25.390625 \nL 58.015625 25.390625 \nL 58.015625 17.1875 \nL 47.609375 17.1875 \nL 47.609375 0 \nL 37.796875 0 \nL 37.796875 17.1875 \nL 4.890625 17.1875 \nL 4.890625 26.703125 \nz\n\" id=\"DejaVuSans-52\"/>\n       </defs>\n       <use xlink:href=\"#DejaVuSans-52\"/>\n      </g>\n     </g>\n    </g>\n    <g id=\"ytick_6\">\n     <g id=\"line2d_13\">\n      <g>\n       <use style=\"stroke:#000000;stroke-width:0.8;\" x=\"20.5625\" xlink:href=\"#m7200e4d1c5\" y=\"80.868571\"/>\n      </g>\n     </g>\n     <g id=\"text_13\">\n      <!-- 5 -->\n      <g transform=\"translate(7.2 84.66779)scale(0.1 -0.1)\">\n       <use xlink:href=\"#DejaVuSans-53\"/>\n      </g>\n     </g>\n    </g>\n    <g id=\"ytick_7\">\n     <g id=\"line2d_14\">\n      <g>\n       <use style=\"stroke:#000000;stroke-width:0.8;\" x=\"20.5625\" xlink:href=\"#m7200e4d1c5\" y=\"46.354286\"/>\n      </g>\n     </g>\n     <g id=\"text_14\">\n      <!-- 6 -->\n      <g transform=\"translate(7.2 50.153504)scale(0.1 -0.1)\">\n       <defs>\n        <path d=\"M 33.015625 40.375 \nQ 26.375 40.375 22.484375 35.828125 \nQ 18.609375 31.296875 18.609375 23.390625 \nQ 18.609375 15.53125 22.484375 10.953125 \nQ 26.375 6.390625 33.015625 6.390625 \nQ 39.65625 6.390625 43.53125 10.953125 \nQ 47.40625 15.53125 47.40625 23.390625 \nQ 47.40625 31.296875 43.53125 35.828125 \nQ 39.65625 40.375 33.015625 40.375 \nz\nM 52.59375 71.296875 \nL 52.59375 62.3125 \nQ 48.875 64.0625 45.09375 64.984375 \nQ 41.3125 65.921875 37.59375 65.921875 \nQ 27.828125 65.921875 22.671875 59.328125 \nQ 17.53125 52.734375 16.796875 39.40625 \nQ 19.671875 43.65625 24.015625 45.921875 \nQ 28.375 48.1875 33.59375 48.1875 \nQ 44.578125 48.1875 50.953125 41.515625 \nQ 57.328125 34.859375 57.328125 23.390625 \nQ 57.328125 12.15625 50.6875 5.359375 \nQ 44.046875 -1.421875 33.015625 -1.421875 \nQ 20.359375 -1.421875 13.671875 8.265625 \nQ 6.984375 17.96875 6.984375 36.375 \nQ 6.984375 53.65625 15.1875 63.9375 \nQ 23.390625 74.21875 37.203125 74.21875 \nQ 40.921875 74.21875 44.703125 73.484375 \nQ 48.484375 72.75 52.59375 71.296875 \nz\n\" id=\"DejaVuSans-54\"/>\n       </defs>\n       <use xlink:href=\"#DejaVuSans-54\"/>\n      </g>\n     </g>\n    </g>\n   </g>\n   <g id=\"patch_6\">\n    <path d=\"M 20.5625 253.44 \nL 20.5625 36 \n\" style=\"fill:none;stroke:#000000;stroke-linecap:square;stroke-linejoin:miter;stroke-width:0.8;\"/>\n   </g>\n   <g id=\"patch_7\">\n    <path d=\"M 355.3625 253.44 \nL 355.3625 36 \n\" style=\"fill:none;stroke:#000000;stroke-linecap:square;stroke-linejoin:miter;stroke-width:0.8;\"/>\n   </g>\n   <g id=\"patch_8\">\n    <path d=\"M 20.5625 253.44 \nL 355.3625 253.44 \n\" style=\"fill:none;stroke:#000000;stroke-linecap:square;stroke-linejoin:miter;stroke-width:0.8;\"/>\n   </g>\n   <g id=\"patch_9\">\n    <path d=\"M 20.5625 36 \nL 355.3625 36 \n\" style=\"fill:none;stroke:#000000;stroke-linecap:square;stroke-linejoin:miter;stroke-width:0.8;\"/>\n   </g>\n  </g>\n  <g id=\"text_15\">\n   <!-- 숙소 -->\n   <g transform=\"translate(175.360625 16.318125)scale(0.12 -0.12)\">\n    <defs>\n     <path d=\"M 4.984375 -17.671875 \nL 4.984375 70.515625 \nL 54.984375 70.515625 \nL 54.984375 -17.671875 \nz\nM 10.59375 -12.109375 \nL 49.421875 -12.109375 \nL 49.421875 64.890625 \nL 10.59375 64.890625 \nz\n\" id=\"DejaVuSans-49689\"/>\n     <path d=\"M 4.984375 -17.671875 \nL 4.984375 70.515625 \nL 54.984375 70.515625 \nL 54.984375 -17.671875 \nz\nM 10.59375 -12.109375 \nL 49.421875 -12.109375 \nL 49.421875 64.890625 \nL 10.59375 64.890625 \nz\n\" id=\"DejaVuSans-49548\"/>\n    </defs>\n    <use xlink:href=\"#DejaVuSans-49689\"/>\n    <use x=\"60.009766\" xlink:href=\"#DejaVuSans-49548\"/>\n   </g>\n  </g>\n </g>\n <defs>\n  <clipPath id=\"p39510c36b4\">\n   <rect height=\"217.44\" width=\"334.8\" x=\"20.5625\" y=\"36\"/>\n  </clipPath>\n </defs>\n</svg>\n",
      "image/png": "[encoded data removed]"
     },
     "metadata": {
      "needs_background": "light"
     }
    }
   ],
   "source": [
    "domain_list = df[\"domain\"].unique()\n",
    "for domain in domain_list:\n",
    "    fig = plt.figure()\n",
    "    condition_1 = df[\"domain\"] == domain\n",
    "    slot_list = df[condition_1][\"slot\"].unique()\n",
    "    plt.bar((1,2,3),(4,5,6))\n",
    "#     for i, slot in enumerate(slot_list):\n",
    "        \n",
    "    fig.suptitle(domain)\n"
   ]
  },
  {
   "cell_type": "code",
   "execution_count": null,
   "id": "210a4d0d-7233-45a8-a8cb-6e6bd6a46a47",
   "metadata": {},
   "outputs": [],
   "source": [
    "{\"dialogue_idx\": \"square-silence-9151:숙소_관광_11\", \n",
    " \"domains\": [\"숙소\", \"관광\"], \n",
    " \"dialogue\": [{\"role\": \"user\", \"text\": \"안녕하세요. 적당한 가격대의 스파가 가능한 호텔을 찾아주세요.\"}, \n",
    "              {\"role\": \"sys\", \"text\": \"안녕하세요. 원하시는 지역이 있으세요?\"}, \n",
    "              {\"role\": \"user\", \"text\": \"지역 상관없이 찾아주세요.\"}, \n",
    "              {\"role\": \"sys\", \"text\": \"4곳이 검색되었습니다. 그중 평점이 가장 높은 행복 호텔을 추천드리는데 어떠세요?\"}, \n",
    "              {\"role\": \"user\", \"text\": \"좋아요. 화요일에 2일동안 4명 예약될까요?\"}, \n",
    "              {\"role\": \"sys\", \"text\": \"네 가능합니다. 예약 도와드릴까요?\"}, \n",
    "              {\"role\": \"user\", \"text\": \"예약해 주세요. 숙소 전화번호랑 예약 번호를 알려주세요\"}, \n",
    "              {\"role\": \"sys\", \"text\": \"전화번호는 314238184, 예약번호는 IDUJ3입니다.\"}, \n",
    "              {\"role\": \"user\", \"text\": \"같은 지역에 관광지도 있을까요? \"}, \n",
    "              {\"role\": \"sys\", \"text\": \"선호하시는 관광 종류가 있으신가요?\"}, \n",
    "              {\"role\": \"user\", \"text\": \"종류는 상관없습니다.\"}, \n",
    "              {\"role\": \"sys\", \"text\": \"8곳이 검색되었습니다. 그중 평점이 높고, 역에서도 가까운 롯데월드 아쿠아리움을 추천드리는데 어떠세요?\"}, \n",
    "              {\"role\": \"user\", \"text\": \"좋네요. 그곳의 입장 비용은 얼마인가요?\"}, \n",
    "              {\"role\": \"sys\", \"text\": \"4000원입니다. 궁금증이 다 해결되셨나요?\"}, \n",
    "              {\"role\": \"user\", \"text\": \"네 감사합니다.\"}, \n",
    "              {\"role\": \"sys\", \"text\": \"네 감사합니다. 즐거운 하루 보내세요.\"}]\n",
    "}"
   ]
  },
  {
   "cell_type": "code",
   "execution_count": null,
   "id": "b427833c-836e-4c9b-8a35-9ba0d7ed9a24",
   "metadata": {},
   "outputs": [],
   "source": []
  },
  {
   "cell_type": "code",
   "execution_count": null,
   "id": "f5064cc3-03f2-4e5c-b302-e5bdaf3dbb1b",
   "metadata": {},
   "outputs": [],
   "source": []
  },
  {
   "cell_type": "code",
   "execution_count": 2,
   "id": "6bfe2f68-3357-402f-9012-5cadc6c17e27",
   "metadata": {},
   "outputs": [],
   "source": [
    "# 데이터셋 불러오기\n",
    "filepath = \"/opt/ml/input/data/train_dataset/train_dials.json\"\n",
    "dataset = json.load(open(filepath))"
   ]
  },
  {
   "cell_type": "code",
   "execution_count": 3,
   "id": "b1879247-ac07-4a83-a27f-88b5e483e0bf",
   "metadata": {},
   "outputs": [],
   "source": [
    "# 모든 데이터의 state 추출\n",
    "state_list = []\n",
    "for dialogue in dataset:\n",
    "    for tern in dialogue[\"dialogue\"]:\n",
    "        if not tern.get(\"state\"):\n",
    "            continue\n",
    "        \n",
    "        for data in tern[\"state\"]:\n",
    "            state_list.append(data)"
   ]
  },
  {
   "cell_type": "code",
   "execution_count": 7,
   "id": "340c698e-26ca-42cf-9551-4b30730b7362",
   "metadata": {},
   "outputs": [
    {
     "name": "stdout",
     "output_type": "stream",
     "text": [
      "['관광-종류-박물관', '관광-지역-서울 중앙', '관광-종류-박물관', '관광-지역-서울 중앙', '관광-이름-문화역서울 284']\n"
     ]
    }
   ],
   "source": [
    "print(state_list[:5])"
   ]
  },
  {
   "cell_type": "code",
   "execution_count": 4,
   "id": "f14c6123-89bd-4c3a-aff4-846d3a15403c",
   "metadata": {},
   "outputs": [],
   "source": [
    "domain_list = set()\n",
    "domain_count = defaultdict(int)\n",
    "slot_list = set()\n",
    "slot_count = defaultdict(int)\n",
    "value_list = set()\n",
    "value_count = defaultdict(int)\n",
    "\n",
    "for state in state_list:\n",
    "    domain, slot, value = state.split(\"-\")\n",
    "\n",
    "    # Domain\n",
    "    domain_list.add(domain)\n",
    "    domain_count[domain] += 1\n",
    "    \n",
    "    # Slot\n",
    "    slot_list.add(f\"{domain}-{slot}\")\n",
    "    slot_count[slot] += 1\n",
    "\n",
    "    # Value\n",
    "    value_list.add(state)\n",
    "    value_count[value] += 1"
   ]
  },
  {
   "cell_type": "code",
   "execution_count": 8,
   "id": "bc96ad19-ac59-49ce-82b4-d942f7083b4d",
   "metadata": {},
   "outputs": [
    {
     "name": "stdout",
     "output_type": "stream",
     "text": [
      "==========Domain==========\n",
      "관광: 62231\n",
      "식당: 154920\n",
      "지하철: 3673\n",
      "택시: 36106\n",
      "숙소: 163722\n",
      "==========================\n",
      "Domain 종류: 5개\n"
     ]
    }
   ],
   "source": [
    "# Domain\n",
    "print(\"==========Domain==========\")\n",
    "for domain, count in domain_count.items():\n",
    "    print(f\"{domain}: {count}\") \n",
    "print(\"==========================\")\n",
    "print(f\"Domain 종류: {len(domain_list)}개\")"
   ]
  },
  {
   "cell_type": "code",
   "execution_count": 9,
   "id": "b0dd0b07-423d-490a-befb-52100a6bcb56",
   "metadata": {},
   "outputs": [
    {
     "name": "stdout",
     "output_type": "stream",
     "text": [
      "===========Slot===========\n",
      "종류: 69349\n",
      "지역: 62332\n",
      "이름: 55875\n",
      "야외석 유무: 3295\n",
      "가격대: 43873\n",
      "예약 요일: 38728\n",
      "예약 시간: 19097\n",
      "예약 명수: 38670\n",
      "출발지: 10405\n",
      "도착지: 10364\n",
      "인터넷 가능: 4033\n",
      "출발 시간: 8219\n",
      "도착 시간: 3561\n",
      "주차 가능: 7910\n",
      "주류 판매: 2863\n",
      "흡연 가능: 4534\n",
      "예약 기간: 19371\n",
      "스파 유무: 3191\n",
      "역사적: 4000\n",
      "문화 예술: 1194\n",
      "헬스장 유무: 1972\n",
      "도보 가능: 1462\n",
      "조식 가능: 2032\n",
      "경치 좋은: 2178\n",
      "교육적: 1669\n",
      "수영장 유무: 475\n",
      "==========================\n",
      "Slot 종류: 45개\n"
     ]
    }
   ],
   "source": [
    "# Slot, Domain별 Slot\n",
    "print(\"===========Slot===========\")\n",
    "for slot, count in slot_count.items():\n",
    "    print(f\"{slot}: {count}\")\n",
    "print(\"==========================\")\n",
    "print(f\"Slot 종류: {len(slot_list)}개\")"
   ]
  },
  {
   "cell_type": "code",
   "execution_count": 13,
   "id": "dbd10590-4448-4c36-8f65-9925a67cb12d",
   "metadata": {},
   "outputs": [
    {
     "name": "stdout",
     "output_type": "stream",
     "text": [
      "==========Value===========\n",
      "박물관: 2083\n",
      "서울 중앙: 12958\n",
      "문화역서울 284: 134\n",
      "한식당: 5944\n",
      "yes: 38490\n",
      "저렴: 7444\n",
      "비싼: 9575\n",
      "토요일: 5672\n",
      "18:00: 358\n",
      "1: 12520\n",
      "==========================\n",
      "Value 종류: 2245개\n"
     ]
    }
   ],
   "source": [
    "# Value, Slot별 Value\n",
    "print(\"==========Value===========\")\n",
    "for i, (value, count) in enumerate(value_count.items()):\n",
    "    print(f\"{value}: {count}\")\n",
    "    if i == 9:\n",
    "        break\n",
    "print(\"==========================\")\n",
    "print(f\"Value 종류: {len(value_list)}개\")"
   ]
  },
  {
   "cell_type": "code",
   "execution_count": null,
   "id": "831417aa-da9b-4991-9146-c6f6bec5006c",
   "metadata": {},
   "outputs": [],
   "source": [
    "# Domain별 자주 사용되는 Bigram, Trigram"
   ]
  },
  {
   "cell_type": "code",
   "execution_count": null,
   "id": "f6c08f99-9605-4d97-9c99-c8a17721fc91",
   "metadata": {},
   "outputs": [],
   "source": []
  },
  {
   "cell_type": "code",
   "execution_count": null,
   "id": "ca302a59-8ec7-4c39-bf69-3d05498c7ed4",
   "metadata": {},
   "outputs": [],
   "source": []
  },
  {
   "cell_type": "code",
   "execution_count": null,
   "id": "722c182d-eced-4624-be1a-5106a1f11cc7",
   "metadata": {},
   "outputs": [],
   "source": []
  },
  {
   "cell_type": "code",
   "execution_count": null,
   "id": "a8e09bb0-d325-42ff-af9f-83178684585e",
   "metadata": {},
   "outputs": [],
   "source": []
  }
 ],
 "metadata": {
  "kernelspec": {
   "name": "python377jvsc74a57bd098b0a9b7b4eaaa670588a142fd0a9b87eaafe866f1db4228be72b4211d12040f",
   "display_name": "Python 3.7.7 64-bit ('base': conda)"
  },
  "language_info": {
   "codemirror_mode": {
    "name": "ipython",
    "version": 3
   },
   "file_extension": ".py",
   "mimetype": "text/x-python",
   "name": "python",
   "nbconvert_exporter": "python",
   "pygments_lexer": "ipython3",
   "version": "3.7.7"
  },
  "metadata": {
   "interpreter": {
    "hash": "98b0a9b7b4eaaa670588a142fd0a9b87eaafe866f1db4228be72b4211d12040f"
   }
  }
 },
 "nbformat": 4,
 "nbformat_minor": 5
}