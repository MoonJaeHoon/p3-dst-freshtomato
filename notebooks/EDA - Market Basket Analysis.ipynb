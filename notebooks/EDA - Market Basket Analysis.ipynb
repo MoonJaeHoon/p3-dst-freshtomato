{
 "cells": [
  {
   "cell_type": "markdown",
   "metadata": {},
   "source": [
    "# EDA: Market Basket Analysis\n",
    "- Ontology에 사전정의된 Slot(`meta_slot`)과 Dialogue 내 발화에 등장하는 단어 간 연관성을 분석\n",
    "- Skill. 장바구니 분석(market basket analysis)"
   ]
  },
  {
   "cell_type": "markdown",
   "metadata": {},
   "source": [
    "## Market Basket Analysis\n",
    "- Association Rules라고 부르기도 함\n",
    "- 다음의 3가지 지표를 활용\n",
    "    1. 지지도(Support): (상품 A와 B가 동시에 포함된 사례 수) / (전체 사례 수), P(A∩B)\n",
    "    2. 신뢰도(Confidence): (상품 A와 B가 동시에 포함된 사례 수) / (상품 A가 포함된 사례 수), P(A∩B) / P(A)\n",
    "    3. 향상도(Lift): 상품 A가 없을 때 상품 B가 있을 확률과 상품 A가 있을 때 상품 B가 있을 확률의 비율, P(A∩B) / P(A)*P(B) = P (B|A) / P (B)\n",
    "- 그렇다면, WoS 데이터셋에 어떻게 적용할 것인지 구체적으로 작성해보자.\n",
    "\n",
    "### Market Basket Analysis for WoS\n",
    "- level\n",
    "    - '어떤 사람이 쇼핑을 하면서 구매한 상품 목록'은 구매 사례를 파악하는 단위가 '개인'임\n",
    "    - 같은 맥락으로, WoS 데이터셋에는 어떤 단위가 좋을까?\n",
    "    - 데이터를 살펴보니, turn 단위로 키워드 등장 빈도를 count하기에는, 추출되는 단어가 너무 적음\n",
    "    - task-oriented dialogue는 기본적으로 하나의 대화가 하나의 주제를 가진다는 점에서, 빈도 count의 단위를 dialogue로 보는 것이 좋을 듯!"
   ]
  },
  {
   "cell_type": "markdown",
   "metadata": {},
   "source": [
    "## WoS\n",
    "- \\# Meta Domain: Travel\n",
    "- \\# Domain: 5\n",
    "- \\# Slot: 45\n",
    "- \\# Avg Turn: 14.67\n",
    "- \\# Tokens per turn\n"
   ]
  },
  {
   "cell_type": "code",
   "execution_count": 3,
   "metadata": {},
   "outputs": [],
   "source": [
    "import json\n",
    "import sys\n",
    "from tqdm import tqdm\n",
    "from copy import deepcopy\n",
    "import re\n",
    "import numpy as np\n",
    "import pandas as pd\n",
    "import matplotlib.pyplot as plt\n",
    "import seaborn as sns\n",
    "import konlpy\n",
    "from konlpy.tag import Okt # Mecab은 윈도우 미지원\n",
    "from mlxtend.preprocessing import TransactionEncoder\n",
    "from mlxtend.frequent_patterns import apriori, association_rules\n",
    "pd.set_option('display.max_rows', 500)\n",
    "plt.style.use('ggplot')\n",
    "# plt.rc('font', family='AppleSDGothicNeoSB00')\n",
    "sys.path.insert(0, '../code/')\n",
    "\n",
    "from utils import load_json"
   ]
  },
  {
   "cell_type": "markdown",
   "metadata": {},
   "source": [
    "#### Load Data"
   ]
  },
  {
   "cell_type": "code",
   "execution_count": 8,
   "metadata": {},
   "outputs": [],
   "source": [
    "SLOTMETA = '../input/data/train_dataset/slot_meta.json'\n",
    "ONTOLOGY = '../input/data/train_dataset/ontology.json'\n",
    "DIALS = '../input/data/train_dataset/train_dials.json'"
   ]
  },
  {
   "cell_type": "code",
   "execution_count": 9,
   "metadata": {},
   "outputs": [],
   "source": [
    "ontology = load_json(ONTOLOGY)\n",
    "slot_meta = load_json(SLOTMETA)\n",
    "dials = load_json(DIALS)"
   ]
  },
  {
   "cell_type": "markdown",
   "metadata": {},
   "source": [
    "#### Preprocessing for Market Basket Analysis"
   ]
  },
  {
   "cell_type": "code",
   "execution_count": 4,
   "metadata": {},
   "outputs": [],
   "source": [
    "tagger = Okt()"
   ]
  },
  {
   "cell_type": "code",
   "execution_count": 5,
   "metadata": {},
   "outputs": [
    {
     "output_type": "stream",
     "name": "stderr",
     "text": [
      "100%|██████████| 7000/7000 [03:02<00:00, 38.33it/s]\n"
     ]
    }
   ],
   "source": [
    "NOUN = 'Noun'\n",
    "\n",
    "def get_slot_meta(x):\n",
    "    return '-'.join(x.split('-')[:-1])\n",
    "\n",
    "def get_keywords(x, tagger: konlpy.tag):\n",
    "    text_parsed = tagger.pos(x)\n",
    "    parsed_filtered = filter(lambda x: x[-1] == NOUN and len(x[0]) > 1, text_parsed) # 명사 & 길이 2 이상\n",
    "    keywords = list(map(lambda x: x[0], parsed_filtered))\n",
    "    return keywords\n",
    "\n",
    "total_items = [] # dialogue 단위로 단어 수집\n",
    "\n",
    "for dial in tqdm(dials):\n",
    "    dial_items = set()\n",
    "    for turn in dial['dialogue']:\n",
    "        if turn['role'] == 'sys':\n",
    "            continue\n",
    "        slot_items = set(map(get_slot_meta, turn['state']))\n",
    "        keywords_items = set(get_keywords(turn['text'], tagger))\n",
    "        turn_items = slot_items.union(keywords_items)\n",
    "        dial_items = dial_items.union(turn_items)\n",
    "    \n",
    "    total_items.append(list(dial_items))"
   ]
  },
  {
   "cell_type": "markdown",
   "metadata": {},
   "source": [
    "- 각 dialogue 별 수집 frequency 파악"
   ]
  },
  {
   "cell_type": "code",
   "execution_count": 6,
   "metadata": {},
   "outputs": [],
   "source": [
    "frequency = pd.Series(list(map(len, total_items)))"
   ]
  },
  {
   "cell_type": "code",
   "execution_count": 7,
   "metadata": {},
   "outputs": [
    {
     "output_type": "display_data",
     "data": {
      "text/plain": "<Figure size 720x360 with 1 Axes>",
      "image/svg+xml": "<?xml version=\"1.0\" encoding=\"utf-8\" standalone=\"no\"?>\n<!DOCTYPE svg PUBLIC \"-//W3C//DTD SVG 1.1//EN\"\n  \"http://www.w3.org/Graphics/SVG/1.1/DTD/svg11.dtd\">\n<svg height=\"335.433625pt\" version=\"1.1\" viewBox=\"0 0 614.10125 335.433625\" width=\"614.10125pt\" xmlns=\"http://www.w3.org/2000/svg\" xmlns:xlink=\"http://www.w3.org/1999/xlink\">\n <metadata>\n  <rdf:RDF xmlns:cc=\"http://creativecommons.org/ns#\" xmlns:dc=\"http://purl.org/dc/elements/1.1/\" xmlns:rdf=\"http://www.w3.org/1999/02/22-rdf-syntax-ns#\">\n   <cc:Work>\n    <dc:type rdf:resource=\"http://purl.org/dc/dcmitype/StillImage\"/>\n    <dc:date>2021-04-28T01:20:42.792176</dc:date>\n    <dc:format>image/svg+xml</dc:format>\n    <dc:creator>\n     <cc:Agent>\n      <dc:title>Matplotlib v3.4.1, https://matplotlib.org/</dc:title>\n     </cc:Agent>\n    </dc:creator>\n   </cc:Work>\n  </rdf:RDF>\n </metadata>\n <defs>\n  <style type=\"text/css\">*{stroke-linecap:butt;stroke-linejoin:round;}</style>\n </defs>\n <g id=\"figure_1\">\n  <g id=\"patch_1\">\n   <path d=\"M 0 335.433625 \nL 614.10125 335.433625 \nL 614.10125 0 \nL 0 0 \nz\n\" style=\"fill:#ffffff;\"/>\n  </g>\n  <g id=\"axes_1\">\n   <g id=\"patch_2\">\n    <path d=\"M 48.90125 295.94175 \nL 606.90125 295.94175 \nL 606.90125 24.14175 \nL 48.90125 24.14175 \nz\n\" style=\"fill:#e5e5e5;\"/>\n   </g>\n   <g id=\"matplotlib.axis_1\">\n    <g id=\"xtick_1\">\n     <g id=\"line2d_1\">\n      <path clip-path=\"url(#pfdfb15f221)\" d=\"M 105.969432 295.94175 \nL 105.969432 24.14175 \n\" style=\"fill:none;stroke:#ffffff;stroke-linecap:square;stroke-width:0.8;\"/>\n     </g>\n     <g id=\"line2d_2\">\n      <defs>\n       <path d=\"M 0 0 \nL 0 3.5 \n\" id=\"mcba196ddea\" style=\"stroke:#555555;stroke-width:0.8;\"/>\n      </defs>\n      <g>\n       <use style=\"fill:#555555;stroke:#555555;stroke-width:0.8;\" x=\"105.969432\" xlink:href=\"#mcba196ddea\" y=\"295.94175\"/>\n      </g>\n     </g>\n     <g id=\"text_1\">\n      <!-- 10 -->\n      <g style=\"fill:#555555;\" transform=\"translate(99.606932 310.540188)scale(0.1 -0.1)\">\n       <defs>\n        <path d=\"M 794 531 \nL 1825 531 \nL 1825 4091 \nL 703 3866 \nL 703 4441 \nL 1819 4666 \nL 2450 4666 \nL 2450 531 \nL 3481 531 \nL 3481 0 \nL 794 0 \nL 794 531 \nz\n\" id=\"DejaVuSans-31\" transform=\"scale(0.015625)\"/>\n        <path d=\"M 2034 4250 \nQ 1547 4250 1301 3770 \nQ 1056 3291 1056 2328 \nQ 1056 1369 1301 889 \nQ 1547 409 2034 409 \nQ 2525 409 2770 889 \nQ 3016 1369 3016 2328 \nQ 3016 3291 2770 3770 \nQ 2525 4250 2034 4250 \nz\nM 2034 4750 \nQ 2819 4750 3233 4129 \nQ 3647 3509 3647 2328 \nQ 3647 1150 3233 529 \nQ 2819 -91 2034 -91 \nQ 1250 -91 836 529 \nQ 422 1150 422 2328 \nQ 422 3509 836 4129 \nQ 1250 4750 2034 4750 \nz\n\" id=\"DejaVuSans-30\" transform=\"scale(0.015625)\"/>\n       </defs>\n       <use xlink:href=\"#DejaVuSans-31\"/>\n       <use x=\"63.623047\" xlink:href=\"#DejaVuSans-30\"/>\n      </g>\n     </g>\n    </g>\n    <g id=\"xtick_2\">\n     <g id=\"line2d_3\">\n      <path clip-path=\"url(#pfdfb15f221)\" d=\"M 185.230795 295.94175 \nL 185.230795 24.14175 \n\" style=\"fill:none;stroke:#ffffff;stroke-linecap:square;stroke-width:0.8;\"/>\n     </g>\n     <g id=\"line2d_4\">\n      <g>\n       <use style=\"fill:#555555;stroke:#555555;stroke-width:0.8;\" x=\"185.230795\" xlink:href=\"#mcba196ddea\" y=\"295.94175\"/>\n      </g>\n     </g>\n     <g id=\"text_2\">\n      <!-- 20 -->\n      <g style=\"fill:#555555;\" transform=\"translate(178.868295 310.540188)scale(0.1 -0.1)\">\n       <defs>\n        <path d=\"M 1228 531 \nL 3431 531 \nL 3431 0 \nL 469 0 \nL 469 531 \nQ 828 903 1448 1529 \nQ 2069 2156 2228 2338 \nQ 2531 2678 2651 2914 \nQ 2772 3150 2772 3378 \nQ 2772 3750 2511 3984 \nQ 2250 4219 1831 4219 \nQ 1534 4219 1204 4116 \nQ 875 4013 500 3803 \nL 500 4441 \nQ 881 4594 1212 4672 \nQ 1544 4750 1819 4750 \nQ 2544 4750 2975 4387 \nQ 3406 4025 3406 3419 \nQ 3406 3131 3298 2873 \nQ 3191 2616 2906 2266 \nQ 2828 2175 2409 1742 \nQ 1991 1309 1228 531 \nz\n\" id=\"DejaVuSans-32\" transform=\"scale(0.015625)\"/>\n       </defs>\n       <use xlink:href=\"#DejaVuSans-32\"/>\n       <use x=\"63.623047\" xlink:href=\"#DejaVuSans-30\"/>\n      </g>\n     </g>\n    </g>\n    <g id=\"xtick_3\">\n     <g id=\"line2d_5\">\n      <path clip-path=\"url(#pfdfb15f221)\" d=\"M 264.492159 295.94175 \nL 264.492159 24.14175 \n\" style=\"fill:none;stroke:#ffffff;stroke-linecap:square;stroke-width:0.8;\"/>\n     </g>\n     <g id=\"line2d_6\">\n      <g>\n       <use style=\"fill:#555555;stroke:#555555;stroke-width:0.8;\" x=\"264.492159\" xlink:href=\"#mcba196ddea\" y=\"295.94175\"/>\n      </g>\n     </g>\n     <g id=\"text_3\">\n      <!-- 30 -->\n      <g style=\"fill:#555555;\" transform=\"translate(258.129659 310.540188)scale(0.1 -0.1)\">\n       <defs>\n        <path d=\"M 2597 2516 \nQ 3050 2419 3304 2112 \nQ 3559 1806 3559 1356 \nQ 3559 666 3084 287 \nQ 2609 -91 1734 -91 \nQ 1441 -91 1130 -33 \nQ 819 25 488 141 \nL 488 750 \nQ 750 597 1062 519 \nQ 1375 441 1716 441 \nQ 2309 441 2620 675 \nQ 2931 909 2931 1356 \nQ 2931 1769 2642 2001 \nQ 2353 2234 1838 2234 \nL 1294 2234 \nL 1294 2753 \nL 1863 2753 \nQ 2328 2753 2575 2939 \nQ 2822 3125 2822 3475 \nQ 2822 3834 2567 4026 \nQ 2313 4219 1838 4219 \nQ 1578 4219 1281 4162 \nQ 984 4106 628 3988 \nL 628 4550 \nQ 988 4650 1302 4700 \nQ 1616 4750 1894 4750 \nQ 2613 4750 3031 4423 \nQ 3450 4097 3450 3541 \nQ 3450 3153 3228 2886 \nQ 3006 2619 2597 2516 \nz\n\" id=\"DejaVuSans-33\" transform=\"scale(0.015625)\"/>\n       </defs>\n       <use xlink:href=\"#DejaVuSans-33\"/>\n       <use x=\"63.623047\" xlink:href=\"#DejaVuSans-30\"/>\n      </g>\n     </g>\n    </g>\n    <g id=\"xtick_4\">\n     <g id=\"line2d_7\">\n      <path clip-path=\"url(#pfdfb15f221)\" d=\"M 343.753523 295.94175 \nL 343.753523 24.14175 \n\" style=\"fill:none;stroke:#ffffff;stroke-linecap:square;stroke-width:0.8;\"/>\n     </g>\n     <g id=\"line2d_8\">\n      <g>\n       <use style=\"fill:#555555;stroke:#555555;stroke-width:0.8;\" x=\"343.753523\" xlink:href=\"#mcba196ddea\" y=\"295.94175\"/>\n      </g>\n     </g>\n     <g id=\"text_4\">\n      <!-- 40 -->\n      <g style=\"fill:#555555;\" transform=\"translate(337.391023 310.540188)scale(0.1 -0.1)\">\n       <defs>\n        <path d=\"M 2419 4116 \nL 825 1625 \nL 2419 1625 \nL 2419 4116 \nz\nM 2253 4666 \nL 3047 4666 \nL 3047 1625 \nL 3713 1625 \nL 3713 1100 \nL 3047 1100 \nL 3047 0 \nL 2419 0 \nL 2419 1100 \nL 313 1100 \nL 313 1709 \nL 2253 4666 \nz\n\" id=\"DejaVuSans-34\" transform=\"scale(0.015625)\"/>\n       </defs>\n       <use xlink:href=\"#DejaVuSans-34\"/>\n       <use x=\"63.623047\" xlink:href=\"#DejaVuSans-30\"/>\n      </g>\n     </g>\n    </g>\n    <g id=\"xtick_5\">\n     <g id=\"line2d_9\">\n      <path clip-path=\"url(#pfdfb15f221)\" d=\"M 423.014886 295.94175 \nL 423.014886 24.14175 \n\" style=\"fill:none;stroke:#ffffff;stroke-linecap:square;stroke-width:0.8;\"/>\n     </g>\n     <g id=\"line2d_10\">\n      <g>\n       <use style=\"fill:#555555;stroke:#555555;stroke-width:0.8;\" x=\"423.014886\" xlink:href=\"#mcba196ddea\" y=\"295.94175\"/>\n      </g>\n     </g>\n     <g id=\"text_5\">\n      <!-- 50 -->\n      <g style=\"fill:#555555;\" transform=\"translate(416.652386 310.540188)scale(0.1 -0.1)\">\n       <defs>\n        <path d=\"M 691 4666 \nL 3169 4666 \nL 3169 4134 \nL 1269 4134 \nL 1269 2991 \nQ 1406 3038 1543 3061 \nQ 1681 3084 1819 3084 \nQ 2600 3084 3056 2656 \nQ 3513 2228 3513 1497 \nQ 3513 744 3044 326 \nQ 2575 -91 1722 -91 \nQ 1428 -91 1123 -41 \nQ 819 9 494 109 \nL 494 744 \nQ 775 591 1075 516 \nQ 1375 441 1709 441 \nQ 2250 441 2565 725 \nQ 2881 1009 2881 1497 \nQ 2881 1984 2565 2268 \nQ 2250 2553 1709 2553 \nQ 1456 2553 1204 2497 \nQ 953 2441 691 2322 \nL 691 4666 \nz\n\" id=\"DejaVuSans-35\" transform=\"scale(0.015625)\"/>\n       </defs>\n       <use xlink:href=\"#DejaVuSans-35\"/>\n       <use x=\"63.623047\" xlink:href=\"#DejaVuSans-30\"/>\n      </g>\n     </g>\n    </g>\n    <g id=\"xtick_6\">\n     <g id=\"line2d_11\">\n      <path clip-path=\"url(#pfdfb15f221)\" d=\"M 502.27625 295.94175 \nL 502.27625 24.14175 \n\" style=\"fill:none;stroke:#ffffff;stroke-linecap:square;stroke-width:0.8;\"/>\n     </g>\n     <g id=\"line2d_12\">\n      <g>\n       <use style=\"fill:#555555;stroke:#555555;stroke-width:0.8;\" x=\"502.27625\" xlink:href=\"#mcba196ddea\" y=\"295.94175\"/>\n      </g>\n     </g>\n     <g id=\"text_6\">\n      <!-- 60 -->\n      <g style=\"fill:#555555;\" transform=\"translate(495.91375 310.540188)scale(0.1 -0.1)\">\n       <defs>\n        <path d=\"M 2113 2584 \nQ 1688 2584 1439 2293 \nQ 1191 2003 1191 1497 \nQ 1191 994 1439 701 \nQ 1688 409 2113 409 \nQ 2538 409 2786 701 \nQ 3034 994 3034 1497 \nQ 3034 2003 2786 2293 \nQ 2538 2584 2113 2584 \nz\nM 3366 4563 \nL 3366 3988 \nQ 3128 4100 2886 4159 \nQ 2644 4219 2406 4219 \nQ 1781 4219 1451 3797 \nQ 1122 3375 1075 2522 \nQ 1259 2794 1537 2939 \nQ 1816 3084 2150 3084 \nQ 2853 3084 3261 2657 \nQ 3669 2231 3669 1497 \nQ 3669 778 3244 343 \nQ 2819 -91 2113 -91 \nQ 1303 -91 875 529 \nQ 447 1150 447 2328 \nQ 447 3434 972 4092 \nQ 1497 4750 2381 4750 \nQ 2619 4750 2861 4703 \nQ 3103 4656 3366 4563 \nz\n\" id=\"DejaVuSans-36\" transform=\"scale(0.015625)\"/>\n       </defs>\n       <use xlink:href=\"#DejaVuSans-36\"/>\n       <use x=\"63.623047\" xlink:href=\"#DejaVuSans-30\"/>\n      </g>\n     </g>\n    </g>\n    <g id=\"xtick_7\">\n     <g id=\"line2d_13\">\n      <path clip-path=\"url(#pfdfb15f221)\" d=\"M 581.537614 295.94175 \nL 581.537614 24.14175 \n\" style=\"fill:none;stroke:#ffffff;stroke-linecap:square;stroke-width:0.8;\"/>\n     </g>\n     <g id=\"line2d_14\">\n      <g>\n       <use style=\"fill:#555555;stroke:#555555;stroke-width:0.8;\" x=\"581.537614\" xlink:href=\"#mcba196ddea\" y=\"295.94175\"/>\n      </g>\n     </g>\n     <g id=\"text_7\">\n      <!-- 70 -->\n      <g style=\"fill:#555555;\" transform=\"translate(575.175114 310.540188)scale(0.1 -0.1)\">\n       <defs>\n        <path d=\"M 525 4666 \nL 3525 4666 \nL 3525 4397 \nL 1831 0 \nL 1172 0 \nL 2766 4134 \nL 525 4134 \nL 525 4666 \nz\n\" id=\"DejaVuSans-37\" transform=\"scale(0.015625)\"/>\n       </defs>\n       <use xlink:href=\"#DejaVuSans-37\"/>\n       <use x=\"63.623047\" xlink:href=\"#DejaVuSans-30\"/>\n      </g>\n     </g>\n    </g>\n    <g id=\"text_8\">\n     <!-- Frequency -->\n     <g style=\"fill:#555555;\" transform=\"translate(296.905625 325.738)scale(0.12 -0.12)\">\n      <defs>\n       <path d=\"M 628 4666 \nL 3309 4666 \nL 3309 4134 \nL 1259 4134 \nL 1259 2759 \nL 3109 2759 \nL 3109 2228 \nL 1259 2228 \nL 1259 0 \nL 628 0 \nL 628 4666 \nz\n\" id=\"DejaVuSans-46\" transform=\"scale(0.015625)\"/>\n       <path d=\"M 2631 2963 \nQ 2534 3019 2420 3045 \nQ 2306 3072 2169 3072 \nQ 1681 3072 1420 2755 \nQ 1159 2438 1159 1844 \nL 1159 0 \nL 581 0 \nL 581 3500 \nL 1159 3500 \nL 1159 2956 \nQ 1341 3275 1631 3429 \nQ 1922 3584 2338 3584 \nQ 2397 3584 2469 3576 \nQ 2541 3569 2628 3553 \nL 2631 2963 \nz\n\" id=\"DejaVuSans-72\" transform=\"scale(0.015625)\"/>\n       <path d=\"M 3597 1894 \nL 3597 1613 \nL 953 1613 \nQ 991 1019 1311 708 \nQ 1631 397 2203 397 \nQ 2534 397 2845 478 \nQ 3156 559 3463 722 \nL 3463 178 \nQ 3153 47 2828 -22 \nQ 2503 -91 2169 -91 \nQ 1331 -91 842 396 \nQ 353 884 353 1716 \nQ 353 2575 817 3079 \nQ 1281 3584 2069 3584 \nQ 2775 3584 3186 3129 \nQ 3597 2675 3597 1894 \nz\nM 3022 2063 \nQ 3016 2534 2758 2815 \nQ 2500 3097 2075 3097 \nQ 1594 3097 1305 2825 \nQ 1016 2553 972 2059 \nL 3022 2063 \nz\n\" id=\"DejaVuSans-65\" transform=\"scale(0.015625)\"/>\n       <path d=\"M 947 1747 \nQ 947 1113 1208 752 \nQ 1469 391 1925 391 \nQ 2381 391 2643 752 \nQ 2906 1113 2906 1747 \nQ 2906 2381 2643 2742 \nQ 2381 3103 1925 3103 \nQ 1469 3103 1208 2742 \nQ 947 2381 947 1747 \nz\nM 2906 525 \nQ 2725 213 2448 61 \nQ 2172 -91 1784 -91 \nQ 1150 -91 751 415 \nQ 353 922 353 1747 \nQ 353 2572 751 3078 \nQ 1150 3584 1784 3584 \nQ 2172 3584 2448 3432 \nQ 2725 3281 2906 2969 \nL 2906 3500 \nL 3481 3500 \nL 3481 -1331 \nL 2906 -1331 \nL 2906 525 \nz\n\" id=\"DejaVuSans-71\" transform=\"scale(0.015625)\"/>\n       <path d=\"M 544 1381 \nL 544 3500 \nL 1119 3500 \nL 1119 1403 \nQ 1119 906 1312 657 \nQ 1506 409 1894 409 \nQ 2359 409 2629 706 \nQ 2900 1003 2900 1516 \nL 2900 3500 \nL 3475 3500 \nL 3475 0 \nL 2900 0 \nL 2900 538 \nQ 2691 219 2414 64 \nQ 2138 -91 1772 -91 \nQ 1169 -91 856 284 \nQ 544 659 544 1381 \nz\nM 1991 3584 \nL 1991 3584 \nz\n\" id=\"DejaVuSans-75\" transform=\"scale(0.015625)\"/>\n       <path d=\"M 3513 2113 \nL 3513 0 \nL 2938 0 \nL 2938 2094 \nQ 2938 2591 2744 2837 \nQ 2550 3084 2163 3084 \nQ 1697 3084 1428 2787 \nQ 1159 2491 1159 1978 \nL 1159 0 \nL 581 0 \nL 581 3500 \nL 1159 3500 \nL 1159 2956 \nQ 1366 3272 1645 3428 \nQ 1925 3584 2291 3584 \nQ 2894 3584 3203 3211 \nQ 3513 2838 3513 2113 \nz\n\" id=\"DejaVuSans-6e\" transform=\"scale(0.015625)\"/>\n       <path d=\"M 3122 3366 \nL 3122 2828 \nQ 2878 2963 2633 3030 \nQ 2388 3097 2138 3097 \nQ 1578 3097 1268 2742 \nQ 959 2388 959 1747 \nQ 959 1106 1268 751 \nQ 1578 397 2138 397 \nQ 2388 397 2633 464 \nQ 2878 531 3122 666 \nL 3122 134 \nQ 2881 22 2623 -34 \nQ 2366 -91 2075 -91 \nQ 1284 -91 818 406 \nQ 353 903 353 1747 \nQ 353 2603 823 3093 \nQ 1294 3584 2113 3584 \nQ 2378 3584 2631 3529 \nQ 2884 3475 3122 3366 \nz\n\" id=\"DejaVuSans-63\" transform=\"scale(0.015625)\"/>\n       <path d=\"M 2059 -325 \nQ 1816 -950 1584 -1140 \nQ 1353 -1331 966 -1331 \nL 506 -1331 \nL 506 -850 \nL 844 -850 \nQ 1081 -850 1212 -737 \nQ 1344 -625 1503 -206 \nL 1606 56 \nL 191 3500 \nL 800 3500 \nL 1894 763 \nL 2988 3500 \nL 3597 3500 \nL 2059 -325 \nz\n\" id=\"DejaVuSans-79\" transform=\"scale(0.015625)\"/>\n      </defs>\n      <use xlink:href=\"#DejaVuSans-46\"/>\n      <use x=\"50.269531\" xlink:href=\"#DejaVuSans-72\"/>\n      <use x=\"89.132812\" xlink:href=\"#DejaVuSans-65\"/>\n      <use x=\"150.65625\" xlink:href=\"#DejaVuSans-71\"/>\n      <use x=\"214.132812\" xlink:href=\"#DejaVuSans-75\"/>\n      <use x=\"277.511719\" xlink:href=\"#DejaVuSans-65\"/>\n      <use x=\"339.035156\" xlink:href=\"#DejaVuSans-6e\"/>\n      <use x=\"402.414062\" xlink:href=\"#DejaVuSans-63\"/>\n      <use x=\"457.394531\" xlink:href=\"#DejaVuSans-79\"/>\n     </g>\n    </g>\n   </g>\n   <g id=\"matplotlib.axis_2\">\n    <g id=\"ytick_1\">\n     <g id=\"line2d_15\">\n      <path clip-path=\"url(#pfdfb15f221)\" d=\"M 48.90125 295.94175 \nL 606.90125 295.94175 \n\" style=\"fill:none;stroke:#ffffff;stroke-linecap:square;stroke-width:0.8;\"/>\n     </g>\n     <g id=\"line2d_16\">\n      <defs>\n       <path d=\"M 0 0 \nL -3.5 0 \n\" id=\"m04d326d27e\" style=\"stroke:#555555;stroke-width:0.8;\"/>\n      </defs>\n      <g>\n       <use style=\"fill:#555555;stroke:#555555;stroke-width:0.8;\" x=\"48.90125\" xlink:href=\"#m04d326d27e\" y=\"295.94175\"/>\n      </g>\n     </g>\n     <g id=\"text_9\">\n      <!-- 0 -->\n      <g style=\"fill:#555555;\" transform=\"translate(35.53875 299.740969)scale(0.1 -0.1)\">\n       <use xlink:href=\"#DejaVuSans-30\"/>\n      </g>\n     </g>\n    </g>\n    <g id=\"ytick_2\">\n     <g id=\"line2d_17\">\n      <path clip-path=\"url(#pfdfb15f221)\" d=\"M 48.90125 236.1595 \nL 606.90125 236.1595 \n\" style=\"fill:none;stroke:#ffffff;stroke-linecap:square;stroke-width:0.8;\"/>\n     </g>\n     <g id=\"line2d_18\">\n      <g>\n       <use style=\"fill:#555555;stroke:#555555;stroke-width:0.8;\" x=\"48.90125\" xlink:href=\"#m04d326d27e\" y=\"236.1595\"/>\n      </g>\n     </g>\n     <g id=\"text_10\">\n      <!-- 100 -->\n      <g style=\"fill:#555555;\" transform=\"translate(22.81375 239.958719)scale(0.1 -0.1)\">\n       <use xlink:href=\"#DejaVuSans-31\"/>\n       <use x=\"63.623047\" xlink:href=\"#DejaVuSans-30\"/>\n       <use x=\"127.246094\" xlink:href=\"#DejaVuSans-30\"/>\n      </g>\n     </g>\n    </g>\n    <g id=\"ytick_3\">\n     <g id=\"line2d_19\">\n      <path clip-path=\"url(#pfdfb15f221)\" d=\"M 48.90125 176.37725 \nL 606.90125 176.37725 \n\" style=\"fill:none;stroke:#ffffff;stroke-linecap:square;stroke-width:0.8;\"/>\n     </g>\n     <g id=\"line2d_20\">\n      <g>\n       <use style=\"fill:#555555;stroke:#555555;stroke-width:0.8;\" x=\"48.90125\" xlink:href=\"#m04d326d27e\" y=\"176.37725\"/>\n      </g>\n     </g>\n     <g id=\"text_11\">\n      <!-- 200 -->\n      <g style=\"fill:#555555;\" transform=\"translate(22.81375 180.176469)scale(0.1 -0.1)\">\n       <use xlink:href=\"#DejaVuSans-32\"/>\n       <use x=\"63.623047\" xlink:href=\"#DejaVuSans-30\"/>\n       <use x=\"127.246094\" xlink:href=\"#DejaVuSans-30\"/>\n      </g>\n     </g>\n    </g>\n    <g id=\"ytick_4\">\n     <g id=\"line2d_21\">\n      <path clip-path=\"url(#pfdfb15f221)\" d=\"M 48.90125 116.595 \nL 606.90125 116.595 \n\" style=\"fill:none;stroke:#ffffff;stroke-linecap:square;stroke-width:0.8;\"/>\n     </g>\n     <g id=\"line2d_22\">\n      <g>\n       <use style=\"fill:#555555;stroke:#555555;stroke-width:0.8;\" x=\"48.90125\" xlink:href=\"#m04d326d27e\" y=\"116.595\"/>\n      </g>\n     </g>\n     <g id=\"text_12\">\n      <!-- 300 -->\n      <g style=\"fill:#555555;\" transform=\"translate(22.81375 120.394219)scale(0.1 -0.1)\">\n       <use xlink:href=\"#DejaVuSans-33\"/>\n       <use x=\"63.623047\" xlink:href=\"#DejaVuSans-30\"/>\n       <use x=\"127.246094\" xlink:href=\"#DejaVuSans-30\"/>\n      </g>\n     </g>\n    </g>\n    <g id=\"ytick_5\">\n     <g id=\"line2d_23\">\n      <path clip-path=\"url(#pfdfb15f221)\" d=\"M 48.90125 56.81275 \nL 606.90125 56.81275 \n\" style=\"fill:none;stroke:#ffffff;stroke-linecap:square;stroke-width:0.8;\"/>\n     </g>\n     <g id=\"line2d_24\">\n      <g>\n       <use style=\"fill:#555555;stroke:#555555;stroke-width:0.8;\" x=\"48.90125\" xlink:href=\"#m04d326d27e\" y=\"56.81275\"/>\n      </g>\n     </g>\n     <g id=\"text_13\">\n      <!-- 400 -->\n      <g style=\"fill:#555555;\" transform=\"translate(22.81375 60.611968)scale(0.1 -0.1)\">\n       <use xlink:href=\"#DejaVuSans-34\"/>\n       <use x=\"63.623047\" xlink:href=\"#DejaVuSans-30\"/>\n       <use x=\"127.246094\" xlink:href=\"#DejaVuSans-30\"/>\n      </g>\n     </g>\n    </g>\n    <g id=\"text_14\">\n     <!-- Count -->\n     <g style=\"fill:#555555;\" transform=\"translate(16.318125 177.859875)rotate(-90)scale(0.12 -0.12)\">\n      <defs>\n       <path d=\"M 4122 4306 \nL 4122 3641 \nQ 3803 3938 3442 4084 \nQ 3081 4231 2675 4231 \nQ 1875 4231 1450 3742 \nQ 1025 3253 1025 2328 \nQ 1025 1406 1450 917 \nQ 1875 428 2675 428 \nQ 3081 428 3442 575 \nQ 3803 722 4122 1019 \nL 4122 359 \nQ 3791 134 3420 21 \nQ 3050 -91 2638 -91 \nQ 1578 -91 968 557 \nQ 359 1206 359 2328 \nQ 359 3453 968 4101 \nQ 1578 4750 2638 4750 \nQ 3056 4750 3426 4639 \nQ 3797 4528 4122 4306 \nz\n\" id=\"DejaVuSans-43\" transform=\"scale(0.015625)\"/>\n       <path d=\"M 1959 3097 \nQ 1497 3097 1228 2736 \nQ 959 2375 959 1747 \nQ 959 1119 1226 758 \nQ 1494 397 1959 397 \nQ 2419 397 2687 759 \nQ 2956 1122 2956 1747 \nQ 2956 2369 2687 2733 \nQ 2419 3097 1959 3097 \nz\nM 1959 3584 \nQ 2709 3584 3137 3096 \nQ 3566 2609 3566 1747 \nQ 3566 888 3137 398 \nQ 2709 -91 1959 -91 \nQ 1206 -91 779 398 \nQ 353 888 353 1747 \nQ 353 2609 779 3096 \nQ 1206 3584 1959 3584 \nz\n\" id=\"DejaVuSans-6f\" transform=\"scale(0.015625)\"/>\n       <path d=\"M 1172 4494 \nL 1172 3500 \nL 2356 3500 \nL 2356 3053 \nL 1172 3053 \nL 1172 1153 \nQ 1172 725 1289 603 \nQ 1406 481 1766 481 \nL 2356 481 \nL 2356 0 \nL 1766 0 \nQ 1100 0 847 248 \nQ 594 497 594 1153 \nL 594 3053 \nL 172 3053 \nL 172 3500 \nL 594 3500 \nL 594 4494 \nL 1172 4494 \nz\n\" id=\"DejaVuSans-74\" transform=\"scale(0.015625)\"/>\n      </defs>\n      <use xlink:href=\"#DejaVuSans-43\"/>\n      <use x=\"69.824219\" xlink:href=\"#DejaVuSans-6f\"/>\n      <use x=\"131.005859\" xlink:href=\"#DejaVuSans-75\"/>\n      <use x=\"194.384766\" xlink:href=\"#DejaVuSans-6e\"/>\n      <use x=\"257.763672\" xlink:href=\"#DejaVuSans-74\"/>\n     </g>\n    </g>\n   </g>\n   <g id=\"patch_3\">\n    <path clip-path=\"url(#pfdfb15f221)\" d=\"M 74.264886 295.94175 \nL 88.758393 295.94175 \nL 88.758393 291.756992 \nL 74.264886 291.756992 \nz\n\" style=\"fill:#348abd;fill-opacity:0.75;stroke:#eeeeee;stroke-linejoin:miter;stroke-width:0.5;\"/>\n   </g>\n   <g id=\"patch_4\">\n    <path clip-path=\"url(#pfdfb15f221)\" d=\"M 88.758393 295.94175 \nL 103.251899 295.94175 \nL 103.251899 274.42014 \nL 88.758393 274.42014 \nz\n\" style=\"fill:#348abd;fill-opacity:0.75;stroke:#eeeeee;stroke-linejoin:miter;stroke-width:0.5;\"/>\n   </g>\n   <g id=\"patch_5\">\n    <path clip-path=\"url(#pfdfb15f221)\" d=\"M 103.251899 295.94175 \nL 117.745406 295.94175 \nL 117.745406 254.691997 \nL 103.251899 254.691997 \nz\n\" style=\"fill:#348abd;fill-opacity:0.75;stroke:#eeeeee;stroke-linejoin:miter;stroke-width:0.5;\"/>\n   </g>\n   <g id=\"patch_6\">\n    <path clip-path=\"url(#pfdfb15f221)\" d=\"M 117.745406 295.94175 \nL 132.238912 295.94175 \nL 132.238912 212.844422 \nL 117.745406 212.844422 \nz\n\" style=\"fill:#348abd;fill-opacity:0.75;stroke:#eeeeee;stroke-linejoin:miter;stroke-width:0.5;\"/>\n   </g>\n   <g id=\"patch_7\">\n    <path clip-path=\"url(#pfdfb15f221)\" d=\"M 132.238912 295.94175 \nL 146.732419 295.94175 \nL 146.732419 157.24693 \nL 132.238912 157.24693 \nz\n\" style=\"fill:#348abd;fill-opacity:0.75;stroke:#eeeeee;stroke-linejoin:miter;stroke-width:0.5;\"/>\n   </g>\n   <g id=\"patch_8\">\n    <path clip-path=\"url(#pfdfb15f221)\" d=\"M 146.732419 295.94175 \nL 161.225925 295.94175 \nL 161.225925 212.2466 \nL 146.732419 212.2466 \nz\n\" style=\"fill:#348abd;fill-opacity:0.75;stroke:#eeeeee;stroke-linejoin:miter;stroke-width:0.5;\"/>\n   </g>\n   <g id=\"patch_9\">\n    <path clip-path=\"url(#pfdfb15f221)\" d=\"M 161.225925 295.94175 \nL 175.719432 295.94175 \nL 175.719432 117.192822 \nL 161.225925 117.192822 \nz\n\" style=\"fill:#348abd;fill-opacity:0.75;stroke:#eeeeee;stroke-linejoin:miter;stroke-width:0.5;\"/>\n   </g>\n   <g id=\"patch_10\">\n    <path clip-path=\"url(#pfdfb15f221)\" d=\"M 175.719432 295.94175 \nL 190.212938 295.94175 \nL 190.212938 97.46468 \nL 175.719432 97.46468 \nz\n\" style=\"fill:#348abd;fill-opacity:0.75;stroke:#eeeeee;stroke-linejoin:miter;stroke-width:0.5;\"/>\n   </g>\n   <g id=\"patch_11\">\n    <path clip-path=\"url(#pfdfb15f221)\" d=\"M 190.212938 295.94175 \nL 204.706445 295.94175 \nL 204.706445 78.932182 \nL 190.212938 78.932182 \nz\n\" style=\"fill:#348abd;fill-opacity:0.75;stroke:#eeeeee;stroke-linejoin:miter;stroke-width:0.5;\"/>\n   </g>\n   <g id=\"patch_12\">\n    <path clip-path=\"url(#pfdfb15f221)\" d=\"M 204.706445 295.94175 \nL 219.199951 295.94175 \nL 219.199951 53.823637 \nL 204.706445 53.823637 \nz\n\" style=\"fill:#348abd;fill-opacity:0.75;stroke:#eeeeee;stroke-linejoin:miter;stroke-width:0.5;\"/>\n   </g>\n   <g id=\"patch_13\">\n    <path clip-path=\"url(#pfdfb15f221)\" d=\"M 219.199951 295.94175 \nL 233.693458 295.94175 \nL 233.693458 80.72565 \nL 219.199951 80.72565 \nz\n\" style=\"fill:#348abd;fill-opacity:0.75;stroke:#eeeeee;stroke-linejoin:miter;stroke-width:0.5;\"/>\n   </g>\n   <g id=\"patch_14\">\n    <path clip-path=\"url(#pfdfb15f221)\" d=\"M 233.693458 295.94175 \nL 248.186964 295.94175 \nL 248.186964 196.105392 \nL 233.693458 196.105392 \nz\n\" style=\"fill:#348abd;fill-opacity:0.75;stroke:#eeeeee;stroke-linejoin:miter;stroke-width:0.5;\"/>\n   </g>\n   <g id=\"patch_15\">\n    <path clip-path=\"url(#pfdfb15f221)\" d=\"M 248.186964 295.94175 \nL 262.680471 295.94175 \nL 262.680471 42.46501 \nL 248.186964 42.46501 \nz\n\" style=\"fill:#348abd;fill-opacity:0.75;stroke:#eeeeee;stroke-linejoin:miter;stroke-width:0.5;\"/>\n   </g>\n   <g id=\"patch_16\">\n    <path clip-path=\"url(#pfdfb15f221)\" d=\"M 262.680471 295.94175 \nL 277.173977 295.94175 \nL 277.173977 37.68243 \nL 262.680471 37.68243 \nz\n\" style=\"fill:#348abd;fill-opacity:0.75;stroke:#eeeeee;stroke-linejoin:miter;stroke-width:0.5;\"/>\n   </g>\n   <g id=\"patch_17\">\n    <path clip-path=\"url(#pfdfb15f221)\" d=\"M 277.173977 295.94175 \nL 291.667484 295.94175 \nL 291.667484 46.051945 \nL 277.173977 46.051945 \nz\n\" style=\"fill:#348abd;fill-opacity:0.75;stroke:#eeeeee;stroke-linejoin:miter;stroke-width:0.5;\"/>\n   </g>\n   <g id=\"patch_18\">\n    <path clip-path=\"url(#pfdfb15f221)\" d=\"M 291.667484 295.94175 \nL 306.16099 295.94175 \nL 306.16099 37.084607 \nL 291.667484 37.084607 \nz\n\" style=\"fill:#348abd;fill-opacity:0.75;stroke:#eeeeee;stroke-linejoin:miter;stroke-width:0.5;\"/>\n   </g>\n   <g id=\"patch_19\">\n    <path clip-path=\"url(#pfdfb15f221)\" d=\"M 306.16099 295.94175 \nL 320.654497 295.94175 \nL 320.654497 55.019282 \nL 306.16099 55.019282 \nz\n\" style=\"fill:#348abd;fill-opacity:0.75;stroke:#eeeeee;stroke-linejoin:miter;stroke-width:0.5;\"/>\n   </g>\n   <g id=\"patch_20\">\n    <path clip-path=\"url(#pfdfb15f221)\" d=\"M 320.654497 295.94175 \nL 335.148003 295.94175 \nL 335.148003 190.72499 \nL 320.654497 190.72499 \nz\n\" style=\"fill:#348abd;fill-opacity:0.75;stroke:#eeeeee;stroke-linejoin:miter;stroke-width:0.5;\"/>\n   </g>\n   <g id=\"patch_21\">\n    <path clip-path=\"url(#pfdfb15f221)\" d=\"M 335.148003 295.94175 \nL 349.64151 295.94175 \nL 349.64151 52.03017 \nL 335.148003 52.03017 \nz\n\" style=\"fill:#348abd;fill-opacity:0.75;stroke:#eeeeee;stroke-linejoin:miter;stroke-width:0.5;\"/>\n   </g>\n   <g id=\"patch_22\">\n    <path clip-path=\"url(#pfdfb15f221)\" d=\"M 349.64151 295.94175 \nL 364.135016 295.94175 \nL 364.135016 93.877745 \nL 349.64151 93.877745 \nz\n\" style=\"fill:#348abd;fill-opacity:0.75;stroke:#eeeeee;stroke-linejoin:miter;stroke-width:0.5;\"/>\n   </g>\n   <g id=\"patch_23\">\n    <path clip-path=\"url(#pfdfb15f221)\" d=\"M 364.135016 295.94175 \nL 378.628523 295.94175 \nL 378.628523 86.703875 \nL 364.135016 86.703875 \nz\n\" style=\"fill:#348abd;fill-opacity:0.75;stroke:#eeeeee;stroke-linejoin:miter;stroke-width:0.5;\"/>\n   </g>\n   <g id=\"patch_24\">\n    <path clip-path=\"url(#pfdfb15f221)\" d=\"M 378.628523 295.94175 \nL 393.122029 295.94175 \nL 393.122029 144.094835 \nL 378.628523 144.094835 \nz\n\" style=\"fill:#348abd;fill-opacity:0.75;stroke:#eeeeee;stroke-linejoin:miter;stroke-width:0.5;\"/>\n   </g>\n   <g id=\"patch_25\">\n    <path clip-path=\"url(#pfdfb15f221)\" d=\"M 393.122029 295.94175 \nL 407.615536 295.94175 \nL 407.615536 170.399025 \nL 393.122029 170.399025 \nz\n\" style=\"fill:#348abd;fill-opacity:0.75;stroke:#eeeeee;stroke-linejoin:miter;stroke-width:0.5;\"/>\n   </g>\n   <g id=\"patch_26\">\n    <path clip-path=\"url(#pfdfb15f221)\" d=\"M 407.615536 295.94175 \nL 422.109042 295.94175 \nL 422.109042 231.974742 \nL 407.615536 231.974742 \nz\n\" style=\"fill:#348abd;fill-opacity:0.75;stroke:#eeeeee;stroke-linejoin:miter;stroke-width:0.5;\"/>\n   </g>\n   <g id=\"patch_27\">\n    <path clip-path=\"url(#pfdfb15f221)\" d=\"M 422.109042 295.94175 \nL 436.602549 295.94175 \nL 436.602549 201.485795 \nL 422.109042 201.485795 \nz\n\" style=\"fill:#348abd;fill-opacity:0.75;stroke:#eeeeee;stroke-linejoin:miter;stroke-width:0.5;\"/>\n   </g>\n   <g id=\"patch_28\">\n    <path clip-path=\"url(#pfdfb15f221)\" d=\"M 436.602549 295.94175 \nL 451.096055 295.94175 \nL 451.096055 225.398695 \nL 436.602549 225.398695 \nz\n\" style=\"fill:#348abd;fill-opacity:0.75;stroke:#eeeeee;stroke-linejoin:miter;stroke-width:0.5;\"/>\n   </g>\n   <g id=\"patch_29\">\n    <path clip-path=\"url(#pfdfb15f221)\" d=\"M 451.096055 295.94175 \nL 465.589562 295.94175 \nL 465.589562 247.518127 \nL 451.096055 247.518127 \nz\n\" style=\"fill:#348abd;fill-opacity:0.75;stroke:#eeeeee;stroke-linejoin:miter;stroke-width:0.5;\"/>\n   </g>\n   <g id=\"patch_30\">\n    <path clip-path=\"url(#pfdfb15f221)\" d=\"M 465.589562 295.94175 \nL 480.083068 295.94175 \nL 480.083068 269.63756 \nL 465.589562 269.63756 \nz\n\" style=\"fill:#348abd;fill-opacity:0.75;stroke:#eeeeee;stroke-linejoin:miter;stroke-width:0.5;\"/>\n   </g>\n   <g id=\"patch_31\">\n    <path clip-path=\"url(#pfdfb15f221)\" d=\"M 480.083068 295.94175 \nL 494.576575 295.94175 \nL 494.576575 273.822317 \nL 480.083068 273.822317 \nz\n\" style=\"fill:#348abd;fill-opacity:0.75;stroke:#eeeeee;stroke-linejoin:miter;stroke-width:0.5;\"/>\n   </g>\n   <g id=\"patch_32\">\n    <path clip-path=\"url(#pfdfb15f221)\" d=\"M 494.576575 295.94175 \nL 509.070081 295.94175 \nL 509.070081 282.789655 \nL 494.576575 282.789655 \nz\n\" style=\"fill:#348abd;fill-opacity:0.75;stroke:#eeeeee;stroke-linejoin:miter;stroke-width:0.5;\"/>\n   </g>\n   <g id=\"patch_33\">\n    <path clip-path=\"url(#pfdfb15f221)\" d=\"M 509.070081 295.94175 \nL 523.563588 295.94175 \nL 523.563588 280.398365 \nL 509.070081 280.398365 \nz\n\" style=\"fill:#348abd;fill-opacity:0.75;stroke:#eeeeee;stroke-linejoin:miter;stroke-width:0.5;\"/>\n   </g>\n   <g id=\"patch_34\">\n    <path clip-path=\"url(#pfdfb15f221)\" d=\"M 523.563588 295.94175 \nL 538.057094 295.94175 \nL 538.057094 291.756992 \nL 523.563588 291.756992 \nz\n\" style=\"fill:#348abd;fill-opacity:0.75;stroke:#eeeeee;stroke-linejoin:miter;stroke-width:0.5;\"/>\n   </g>\n   <g id=\"patch_35\">\n    <path clip-path=\"url(#pfdfb15f221)\" d=\"M 538.057094 295.94175 \nL 552.550601 295.94175 \nL 552.550601 294.746105 \nL 538.057094 294.746105 \nz\n\" style=\"fill:#348abd;fill-opacity:0.75;stroke:#eeeeee;stroke-linejoin:miter;stroke-width:0.5;\"/>\n   </g>\n   <g id=\"patch_36\">\n    <path clip-path=\"url(#pfdfb15f221)\" d=\"M 552.550601 295.94175 \nL 567.044107 295.94175 \nL 567.044107 295.343927 \nL 552.550601 295.343927 \nz\n\" style=\"fill:#348abd;fill-opacity:0.75;stroke:#eeeeee;stroke-linejoin:miter;stroke-width:0.5;\"/>\n   </g>\n   <g id=\"patch_37\">\n    <path clip-path=\"url(#pfdfb15f221)\" d=\"M 567.044107 295.94175 \nL 581.537614 295.94175 \nL 581.537614 294.746105 \nL 567.044107 294.746105 \nz\n\" style=\"fill:#348abd;fill-opacity:0.75;stroke:#eeeeee;stroke-linejoin:miter;stroke-width:0.5;\"/>\n   </g>\n   <g id=\"patch_38\">\n    <path d=\"M 48.90125 295.94175 \nL 48.90125 24.14175 \n\" style=\"fill:none;stroke:#ffffff;stroke-linecap:square;stroke-linejoin:miter;\"/>\n   </g>\n   <g id=\"patch_39\">\n    <path d=\"M 606.90125 295.94175 \nL 606.90125 24.14175 \n\" style=\"fill:none;stroke:#ffffff;stroke-linecap:square;stroke-linejoin:miter;\"/>\n   </g>\n   <g id=\"patch_40\">\n    <path d=\"M 48.90125 295.94175 \nL 606.90125 295.94175 \n\" style=\"fill:none;stroke:#ffffff;stroke-linecap:square;stroke-linejoin:miter;\"/>\n   </g>\n   <g id=\"patch_41\">\n    <path d=\"M 48.90125 24.14175 \nL 606.90125 24.14175 \n\" style=\"fill:none;stroke:#ffffff;stroke-linecap:square;stroke-linejoin:miter;\"/>\n   </g>\n   <g id=\"text_15\">\n    <!-- Number of keywords distribution for each dialogue -->\n    <g transform=\"translate(145.011125 18.14175)scale(0.144 -0.144)\">\n     <defs>\n      <path d=\"M 628 4666 \nL 1478 4666 \nL 3547 763 \nL 3547 4666 \nL 4159 4666 \nL 4159 0 \nL 3309 0 \nL 1241 3903 \nL 1241 0 \nL 628 0 \nL 628 4666 \nz\n\" id=\"DejaVuSans-4e\" transform=\"scale(0.015625)\"/>\n      <path d=\"M 3328 2828 \nQ 3544 3216 3844 3400 \nQ 4144 3584 4550 3584 \nQ 5097 3584 5394 3201 \nQ 5691 2819 5691 2113 \nL 5691 0 \nL 5113 0 \nL 5113 2094 \nQ 5113 2597 4934 2840 \nQ 4756 3084 4391 3084 \nQ 3944 3084 3684 2787 \nQ 3425 2491 3425 1978 \nL 3425 0 \nL 2847 0 \nL 2847 2094 \nQ 2847 2600 2669 2842 \nQ 2491 3084 2119 3084 \nQ 1678 3084 1418 2786 \nQ 1159 2488 1159 1978 \nL 1159 0 \nL 581 0 \nL 581 3500 \nL 1159 3500 \nL 1159 2956 \nQ 1356 3278 1631 3431 \nQ 1906 3584 2284 3584 \nQ 2666 3584 2933 3390 \nQ 3200 3197 3328 2828 \nz\n\" id=\"DejaVuSans-6d\" transform=\"scale(0.015625)\"/>\n      <path d=\"M 3116 1747 \nQ 3116 2381 2855 2742 \nQ 2594 3103 2138 3103 \nQ 1681 3103 1420 2742 \nQ 1159 2381 1159 1747 \nQ 1159 1113 1420 752 \nQ 1681 391 2138 391 \nQ 2594 391 2855 752 \nQ 3116 1113 3116 1747 \nz\nM 1159 2969 \nQ 1341 3281 1617 3432 \nQ 1894 3584 2278 3584 \nQ 2916 3584 3314 3078 \nQ 3713 2572 3713 1747 \nQ 3713 922 3314 415 \nQ 2916 -91 2278 -91 \nQ 1894 -91 1617 61 \nQ 1341 213 1159 525 \nL 1159 0 \nL 581 0 \nL 581 4863 \nL 1159 4863 \nL 1159 2969 \nz\n\" id=\"DejaVuSans-62\" transform=\"scale(0.015625)\"/>\n      <path id=\"DejaVuSans-20\" transform=\"scale(0.015625)\"/>\n      <path d=\"M 2375 4863 \nL 2375 4384 \nL 1825 4384 \nQ 1516 4384 1395 4259 \nQ 1275 4134 1275 3809 \nL 1275 3500 \nL 2222 3500 \nL 2222 3053 \nL 1275 3053 \nL 1275 0 \nL 697 0 \nL 697 3053 \nL 147 3053 \nL 147 3500 \nL 697 3500 \nL 697 3744 \nQ 697 4328 969 4595 \nQ 1241 4863 1831 4863 \nL 2375 4863 \nz\n\" id=\"DejaVuSans-66\" transform=\"scale(0.015625)\"/>\n      <path d=\"M 581 4863 \nL 1159 4863 \nL 1159 1991 \nL 2875 3500 \nL 3609 3500 \nL 1753 1863 \nL 3688 0 \nL 2938 0 \nL 1159 1709 \nL 1159 0 \nL 581 0 \nL 581 4863 \nz\n\" id=\"DejaVuSans-6b\" transform=\"scale(0.015625)\"/>\n      <path d=\"M 269 3500 \nL 844 3500 \nL 1563 769 \nL 2278 3500 \nL 2956 3500 \nL 3675 769 \nL 4391 3500 \nL 4966 3500 \nL 4050 0 \nL 3372 0 \nL 2619 2869 \nL 1863 0 \nL 1184 0 \nL 269 3500 \nz\n\" id=\"DejaVuSans-77\" transform=\"scale(0.015625)\"/>\n      <path d=\"M 2906 2969 \nL 2906 4863 \nL 3481 4863 \nL 3481 0 \nL 2906 0 \nL 2906 525 \nQ 2725 213 2448 61 \nQ 2172 -91 1784 -91 \nQ 1150 -91 751 415 \nQ 353 922 353 1747 \nQ 353 2572 751 3078 \nQ 1150 3584 1784 3584 \nQ 2172 3584 2448 3432 \nQ 2725 3281 2906 2969 \nz\nM 947 1747 \nQ 947 1113 1208 752 \nQ 1469 391 1925 391 \nQ 2381 391 2643 752 \nQ 2906 1113 2906 1747 \nQ 2906 2381 2643 2742 \nQ 2381 3103 1925 3103 \nQ 1469 3103 1208 2742 \nQ 947 2381 947 1747 \nz\n\" id=\"DejaVuSans-64\" transform=\"scale(0.015625)\"/>\n      <path d=\"M 2834 3397 \nL 2834 2853 \nQ 2591 2978 2328 3040 \nQ 2066 3103 1784 3103 \nQ 1356 3103 1142 2972 \nQ 928 2841 928 2578 \nQ 928 2378 1081 2264 \nQ 1234 2150 1697 2047 \nL 1894 2003 \nQ 2506 1872 2764 1633 \nQ 3022 1394 3022 966 \nQ 3022 478 2636 193 \nQ 2250 -91 1575 -91 \nQ 1294 -91 989 -36 \nQ 684 19 347 128 \nL 347 722 \nQ 666 556 975 473 \nQ 1284 391 1588 391 \nQ 1994 391 2212 530 \nQ 2431 669 2431 922 \nQ 2431 1156 2273 1281 \nQ 2116 1406 1581 1522 \nL 1381 1569 \nQ 847 1681 609 1914 \nQ 372 2147 372 2553 \nQ 372 3047 722 3315 \nQ 1072 3584 1716 3584 \nQ 2034 3584 2315 3537 \nQ 2597 3491 2834 3397 \nz\n\" id=\"DejaVuSans-73\" transform=\"scale(0.015625)\"/>\n      <path d=\"M 603 3500 \nL 1178 3500 \nL 1178 0 \nL 603 0 \nL 603 3500 \nz\nM 603 4863 \nL 1178 4863 \nL 1178 4134 \nL 603 4134 \nL 603 4863 \nz\n\" id=\"DejaVuSans-69\" transform=\"scale(0.015625)\"/>\n      <path d=\"M 2194 1759 \nQ 1497 1759 1228 1600 \nQ 959 1441 959 1056 \nQ 959 750 1161 570 \nQ 1363 391 1709 391 \nQ 2188 391 2477 730 \nQ 2766 1069 2766 1631 \nL 2766 1759 \nL 2194 1759 \nz\nM 3341 1997 \nL 3341 0 \nL 2766 0 \nL 2766 531 \nQ 2569 213 2275 61 \nQ 1981 -91 1556 -91 \nQ 1019 -91 701 211 \nQ 384 513 384 1019 \nQ 384 1609 779 1909 \nQ 1175 2209 1959 2209 \nL 2766 2209 \nL 2766 2266 \nQ 2766 2663 2505 2880 \nQ 2244 3097 1772 3097 \nQ 1472 3097 1187 3025 \nQ 903 2953 641 2809 \nL 641 3341 \nQ 956 3463 1253 3523 \nQ 1550 3584 1831 3584 \nQ 2591 3584 2966 3190 \nQ 3341 2797 3341 1997 \nz\n\" id=\"DejaVuSans-61\" transform=\"scale(0.015625)\"/>\n      <path d=\"M 3513 2113 \nL 3513 0 \nL 2938 0 \nL 2938 2094 \nQ 2938 2591 2744 2837 \nQ 2550 3084 2163 3084 \nQ 1697 3084 1428 2787 \nQ 1159 2491 1159 1978 \nL 1159 0 \nL 581 0 \nL 581 4863 \nL 1159 4863 \nL 1159 2956 \nQ 1366 3272 1645 3428 \nQ 1925 3584 2291 3584 \nQ 2894 3584 3203 3211 \nQ 3513 2838 3513 2113 \nz\n\" id=\"DejaVuSans-68\" transform=\"scale(0.015625)\"/>\n      <path d=\"M 603 4863 \nL 1178 4863 \nL 1178 0 \nL 603 0 \nL 603 4863 \nz\n\" id=\"DejaVuSans-6c\" transform=\"scale(0.015625)\"/>\n      <path d=\"M 2906 1791 \nQ 2906 2416 2648 2759 \nQ 2391 3103 1925 3103 \nQ 1463 3103 1205 2759 \nQ 947 2416 947 1791 \nQ 947 1169 1205 825 \nQ 1463 481 1925 481 \nQ 2391 481 2648 825 \nQ 2906 1169 2906 1791 \nz\nM 3481 434 \nQ 3481 -459 3084 -895 \nQ 2688 -1331 1869 -1331 \nQ 1566 -1331 1297 -1286 \nQ 1028 -1241 775 -1147 \nL 775 -588 \nQ 1028 -725 1275 -790 \nQ 1522 -856 1778 -856 \nQ 2344 -856 2625 -561 \nQ 2906 -266 2906 331 \nL 2906 616 \nQ 2728 306 2450 153 \nQ 2172 0 1784 0 \nQ 1141 0 747 490 \nQ 353 981 353 1791 \nQ 353 2603 747 3093 \nQ 1141 3584 1784 3584 \nQ 2172 3584 2450 3431 \nQ 2728 3278 2906 2969 \nL 2906 3500 \nL 3481 3500 \nL 3481 434 \nz\n\" id=\"DejaVuSans-67\" transform=\"scale(0.015625)\"/>\n     </defs>\n     <use xlink:href=\"#DejaVuSans-4e\"/>\n     <use x=\"74.804688\" xlink:href=\"#DejaVuSans-75\"/>\n     <use x=\"138.183594\" xlink:href=\"#DejaVuSans-6d\"/>\n     <use x=\"235.595703\" xlink:href=\"#DejaVuSans-62\"/>\n     <use x=\"299.072266\" xlink:href=\"#DejaVuSans-65\"/>\n     <use x=\"360.595703\" xlink:href=\"#DejaVuSans-72\"/>\n     <use x=\"401.708984\" xlink:href=\"#DejaVuSans-20\"/>\n     <use x=\"433.496094\" xlink:href=\"#DejaVuSans-6f\"/>\n     <use x=\"494.677734\" xlink:href=\"#DejaVuSans-66\"/>\n     <use x=\"529.882812\" xlink:href=\"#DejaVuSans-20\"/>\n     <use x=\"561.669922\" xlink:href=\"#DejaVuSans-6b\"/>\n     <use x=\"615.955078\" xlink:href=\"#DejaVuSans-65\"/>\n     <use x=\"677.478516\" xlink:href=\"#DejaVuSans-79\"/>\n     <use x=\"736.658203\" xlink:href=\"#DejaVuSans-77\"/>\n     <use x=\"818.445312\" xlink:href=\"#DejaVuSans-6f\"/>\n     <use x=\"879.626953\" xlink:href=\"#DejaVuSans-72\"/>\n     <use x=\"918.990234\" xlink:href=\"#DejaVuSans-64\"/>\n     <use x=\"982.466797\" xlink:href=\"#DejaVuSans-73\"/>\n     <use x=\"1034.566406\" xlink:href=\"#DejaVuSans-20\"/>\n     <use x=\"1066.353516\" xlink:href=\"#DejaVuSans-64\"/>\n     <use x=\"1129.830078\" xlink:href=\"#DejaVuSans-69\"/>\n     <use x=\"1157.613281\" xlink:href=\"#DejaVuSans-73\"/>\n     <use x=\"1209.712891\" xlink:href=\"#DejaVuSans-74\"/>\n     <use x=\"1248.921875\" xlink:href=\"#DejaVuSans-72\"/>\n     <use x=\"1290.035156\" xlink:href=\"#DejaVuSans-69\"/>\n     <use x=\"1317.818359\" xlink:href=\"#DejaVuSans-62\"/>\n     <use x=\"1381.294922\" xlink:href=\"#DejaVuSans-75\"/>\n     <use x=\"1444.673828\" xlink:href=\"#DejaVuSans-74\"/>\n     <use x=\"1483.882812\" xlink:href=\"#DejaVuSans-69\"/>\n     <use x=\"1511.666016\" xlink:href=\"#DejaVuSans-6f\"/>\n     <use x=\"1572.847656\" xlink:href=\"#DejaVuSans-6e\"/>\n     <use x=\"1636.226562\" xlink:href=\"#DejaVuSans-20\"/>\n     <use x=\"1668.013672\" xlink:href=\"#DejaVuSans-66\"/>\n     <use x=\"1703.21875\" xlink:href=\"#DejaVuSans-6f\"/>\n     <use x=\"1764.400391\" xlink:href=\"#DejaVuSans-72\"/>\n     <use x=\"1805.513672\" xlink:href=\"#DejaVuSans-20\"/>\n     <use x=\"1837.300781\" xlink:href=\"#DejaVuSans-65\"/>\n     <use x=\"1898.824219\" xlink:href=\"#DejaVuSans-61\"/>\n     <use x=\"1960.103516\" xlink:href=\"#DejaVuSans-63\"/>\n     <use x=\"2015.083984\" xlink:href=\"#DejaVuSans-68\"/>\n     <use x=\"2078.462891\" xlink:href=\"#DejaVuSans-20\"/>\n     <use x=\"2110.25\" xlink:href=\"#DejaVuSans-64\"/>\n     <use x=\"2173.726562\" xlink:href=\"#DejaVuSans-69\"/>\n     <use x=\"2201.509766\" xlink:href=\"#DejaVuSans-61\"/>\n     <use x=\"2262.789062\" xlink:href=\"#DejaVuSans-6c\"/>\n     <use x=\"2290.572266\" xlink:href=\"#DejaVuSans-6f\"/>\n     <use x=\"2351.753906\" xlink:href=\"#DejaVuSans-67\"/>\n     <use x=\"2415.230469\" xlink:href=\"#DejaVuSans-75\"/>\n     <use x=\"2478.609375\" xlink:href=\"#DejaVuSans-65\"/>\n    </g>\n   </g>\n  </g>\n </g>\n <defs>\n  <clipPath id=\"pfdfb15f221\">\n   <rect height=\"271.8\" width=\"558\" x=\"48.90125\" y=\"24.14175\"/>\n  </clipPath>\n </defs>\n</svg>\n",
      "image/png": "[encoded data removed]"
     },
     "metadata": {}
    }
   ],
   "source": [
    "plt.figure(figsize=(10, 5))\n",
    "sns.histplot(frequency)\n",
    "plt.title('Number of keywords distribution for each dialogue')\n",
    "plt.xlabel('Frequency')\n",
    "plt.show()"
   ]
  },
  {
   "cell_type": "code",
   "execution_count": 8,
   "metadata": {},
   "outputs": [
    {
     "output_type": "execute_result",
     "data": {
      "text/plain": [
       "count    7000.000000\n",
       "mean       32.204286\n",
       "std        11.460935\n",
       "min         6.000000\n",
       "25%        23.000000\n",
       "50%        32.000000\n",
       "75%        41.000000\n",
       "max        70.000000\n",
       "dtype: float64"
      ]
     },
     "metadata": {},
     "execution_count": 8
    }
   ],
   "source": [
    "frequency.describe()"
   ]
  },
  {
   "cell_type": "markdown",
   "metadata": {},
   "source": [
    "- 쓸데 없는 단어 제거(stopword)"
   ]
  },
  {
   "cell_type": "code",
   "execution_count": 9,
   "metadata": {},
   "outputs": [],
   "source": [
    "def flatten(x):\n",
    "    output = []\n",
    "    for value in x:\n",
    "        if isinstance(x, list):\n",
    "            output.extend(value)\n",
    "        else:\n",
    "            output.append(value)\n",
    "    return output"
   ]
  },
  {
   "cell_type": "code",
   "execution_count": 10,
   "metadata": {},
   "outputs": [],
   "source": [
    "total_items_flattend = flatten(total_items)"
   ]
  },
  {
   "cell_type": "markdown",
   "metadata": {},
   "source": [
    "음 근데 생각보다 괜찮게 추출됐네. 이대로 가자"
   ]
  },
  {
   "cell_type": "code",
   "execution_count": 11,
   "metadata": {},
   "outputs": [],
   "source": [
    "enc = TransactionEncoder()\n",
    "transactions = enc.fit(total_items).transform(total_items, sparse=True)\n",
    "transaction_table = pd.DataFrame.sparse.from_spmatrix(transactions, columns=enc.columns_)"
   ]
  },
  {
   "cell_type": "code",
   "execution_count": 12,
   "metadata": {},
   "outputs": [
    {
     "output_type": "execute_result",
     "data": {
      "text/plain": [
       "      가가  가게  가격  가구  가기  가까이  가끔  가나  가능  가능성  ...  후보  후움  휴가  휴식  휴일  흡연  \\\n",
       "0      0   0   1   0   0    0   0   0   0    0  ...   0   0   0   0   0   0   \n",
       "1      0   0   0   0   0    0   0   0   0    0  ...   0   0   0   0   0   0   \n",
       "2      0   0   1   0   0    0   0   0   0    0  ...   0   0   0   0   0   0   \n",
       "3      0   0   1   0   0    0   0   0   0    0  ...   0   0   0   0   0   0   \n",
       "4      0   0   0   0   0    0   0   0   0    0  ...   0   0   0   0   0   0   \n",
       "...   ..  ..  ..  ..  ..  ...  ..  ..  ..  ...  ...  ..  ..  ..  ..  ..  ..   \n",
       "6995   0   0   0   0   0    0   0   0   0    0  ...   0   0   0   0   0   0   \n",
       "6996   0   0   0   0   0    0   0   0   0    0  ...   0   0   0   0   0   0   \n",
       "6997   0   0   0   0   0    0   0   0   0    0  ...   0   0   0   0   0   0   \n",
       "6998   0   0   0   0   0    0   0   0   0    0  ...   0   0   0   0   0   0   \n",
       "6999   0   0   1   0   0    0   0   0   0    0  ...   0   0   0   0   0   0   \n",
       "\n",
       "      흥미  흥인지문  힐링  힙니  \n",
       "0      0     0   0   0  \n",
       "1      0     0   0   0  \n",
       "2      0     0   0   0  \n",
       "3      0     0   0   0  \n",
       "4      0     0   0   0  \n",
       "...   ..   ...  ..  ..  \n",
       "6995   0     0   0   0  \n",
       "6996   0     0   0   0  \n",
       "6997   0     0   0   0  \n",
       "6998   0     0   0   0  \n",
       "6999   0     0   0   0  \n",
       "\n",
       "[7000 rows x 2362 columns]"
      ],
      "text/html": "<div>\n<style scoped>\n    .dataframe tbody tr th:only-of-type {\n        vertical-align: middle;\n    }\n\n    .dataframe tbody tr th {\n        vertical-align: top;\n    }\n\n    .dataframe thead th {\n        text-align: right;\n    }\n</style>\n<table border=\"1\" class=\"dataframe\">\n  <thead>\n    <tr style=\"text-align: right;\">\n      <th></th>\n      <th>가가</th>\n      <th>가게</th>\n      <th>가격</th>\n      <th>가구</th>\n      <th>가기</th>\n      <th>가까이</th>\n      <th>가끔</th>\n      <th>가나</th>\n      <th>가능</th>\n      <th>가능성</th>\n      <th>...</th>\n      <th>후보</th>\n      <th>후움</th>\n      <th>휴가</th>\n      <th>휴식</th>\n      <th>휴일</th>\n      <th>흡연</th>\n      <th>흥미</th>\n      <th>흥인지문</th>\n      <th>힐링</th>\n      <th>힙니</th>\n    </tr>\n  </thead>\n  <tbody>\n    <tr>\n      <th>0</th>\n      <td>0</td>\n      <td>0</td>\n      <td>1</td>\n      <td>0</td>\n      <td>0</td>\n      <td>0</td>\n      <td>0</td>\n      <td>0</td>\n      <td>0</td>\n      <td>0</td>\n      <td>...</td>\n      <td>0</td>\n      <td>0</td>\n      <td>0</td>\n      <td>0</td>\n      <td>0</td>\n      <td>0</td>\n      <td>0</td>\n      <td>0</td>\n      <td>0</td>\n      <td>0</td>\n    </tr>\n    <tr>\n      <th>1</th>\n      <td>0</td>\n      <td>0</td>\n      <td>0</td>\n      <td>0</td>\n      <td>0</td>\n      <td>0</td>\n      <td>0</td>\n      <td>0</td>\n      <td>0</td>\n      <td>0</td>\n      <td>...</td>\n      <td>0</td>\n      <td>0</td>\n      <td>0</td>\n      <td>0</td>\n      <td>0</td>\n      <td>0</td>\n      <td>0</td>\n      <td>0</td>\n      <td>0</td>\n      <td>0</td>\n    </tr>\n    <tr>\n      <th>2</th>\n      <td>0</td>\n      <td>0</td>\n      <td>1</td>\n      <td>0</td>\n      <td>0</td>\n      <td>0</td>\n      <td>0</td>\n      <td>0</td>\n      <td>0</td>\n      <td>0</td>\n      <td>...</td>\n      <td>0</td>\n      <td>0</td>\n      <td>0</td>\n      <td>0</td>\n      <td>0</td>\n      <td>0</td>\n      <td>0</td>\n      <td>0</td>\n      <td>0</td>\n      <td>0</td>\n    </tr>\n    <tr>\n      <th>3</th>\n      <td>0</td>\n      <td>0</td>\n      <td>1</td>\n      <td>0</td>\n      <td>0</td>\n      <td>0</td>\n      <td>0</td>\n      <td>0</td>\n      <td>0</td>\n      <td>0</td>\n      <td>...</td>\n      <td>0</td>\n      <td>0</td>\n      <td>0</td>\n      <td>0</td>\n      <td>0</td>\n      <td>0</td>\n      <td>0</td>\n      <td>0</td>\n      <td>0</td>\n      <td>0</td>\n    </tr>\n    <tr>\n      <th>4</th>\n      <td>0</td>\n      <td>0</td>\n      <td>0</td>\n      <td>0</td>\n      <td>0</td>\n      <td>0</td>\n      <td>0</td>\n      <td>0</td>\n      <td>0</td>\n      <td>0</td>\n      <td>...</td>\n      <td>0</td>\n      <td>0</td>\n      <td>0</td>\n      <td>0</td>\n      <td>0</td>\n      <td>0</td>\n      <td>0</td>\n      <td>0</td>\n      <td>0</td>\n      <td>0</td>\n    </tr>\n    <tr>\n      <th>...</th>\n      <td>...</td>\n      <td>...</td>\n      <td>...</td>\n      <td>...</td>\n      <td>...</td>\n      <td>...</td>\n      <td>...</td>\n      <td>...</td>\n      <td>...</td>\n      <td>...</td>\n      <td>...</td>\n      <td>...</td>\n      <td>...</td>\n      <td>...</td>\n      <td>...</td>\n      <td>...</td>\n      <td>...</td>\n      <td>...</td>\n      <td>...</td>\n      <td>...</td>\n      <td>...</td>\n    </tr>\n    <tr>\n      <th>6995</th>\n      <td>0</td>\n      <td>0</td>\n      <td>0</td>\n      <td>0</td>\n      <td>0</td>\n      <td>0</td>\n      <td>0</td>\n      <td>0</td>\n      <td>0</td>\n      <td>0</td>\n      <td>...</td>\n      <td>0</td>\n      <td>0</td>\n      <td>0</td>\n      <td>0</td>\n      <td>0</td>\n      <td>0</td>\n      <td>0</td>\n      <td>0</td>\n      <td>0</td>\n      <td>0</td>\n    </tr>\n    <tr>\n      <th>6996</th>\n      <td>0</td>\n      <td>0</td>\n      <td>0</td>\n      <td>0</td>\n      <td>0</td>\n      <td>0</td>\n      <td>0</td>\n      <td>0</td>\n      <td>0</td>\n      <td>0</td>\n      <td>...</td>\n      <td>0</td>\n      <td>0</td>\n      <td>0</td>\n      <td>0</td>\n      <td>0</td>\n      <td>0</td>\n      <td>0</td>\n      <td>0</td>\n      <td>0</td>\n      <td>0</td>\n    </tr>\n    <tr>\n      <th>6997</th>\n      <td>0</td>\n      <td>0</td>\n      <td>0</td>\n      <td>0</td>\n      <td>0</td>\n      <td>0</td>\n      <td>0</td>\n      <td>0</td>\n      <td>0</td>\n      <td>0</td>\n      <td>...</td>\n      <td>0</td>\n      <td>0</td>\n      <td>0</td>\n      <td>0</td>\n      <td>0</td>\n      <td>0</td>\n      <td>0</td>\n      <td>0</td>\n      <td>0</td>\n      <td>0</td>\n    </tr>\n    <tr>\n      <th>6998</th>\n      <td>0</td>\n      <td>0</td>\n      <td>0</td>\n      <td>0</td>\n      <td>0</td>\n      <td>0</td>\n      <td>0</td>\n      <td>0</td>\n      <td>0</td>\n      <td>0</td>\n      <td>...</td>\n      <td>0</td>\n      <td>0</td>\n      <td>0</td>\n      <td>0</td>\n      <td>0</td>\n      <td>0</td>\n      <td>0</td>\n      <td>0</td>\n      <td>0</td>\n      <td>0</td>\n    </tr>\n    <tr>\n      <th>6999</th>\n      <td>0</td>\n      <td>0</td>\n      <td>1</td>\n      <td>0</td>\n      <td>0</td>\n      <td>0</td>\n      <td>0</td>\n      <td>0</td>\n      <td>0</td>\n      <td>0</td>\n      <td>...</td>\n      <td>0</td>\n      <td>0</td>\n      <td>0</td>\n      <td>0</td>\n      <td>0</td>\n      <td>0</td>\n      <td>0</td>\n      <td>0</td>\n      <td>0</td>\n      <td>0</td>\n    </tr>\n  </tbody>\n</table>\n<p>7000 rows × 2362 columns</p>\n</div>"
     },
     "metadata": {},
     "execution_count": 12
    }
   ],
   "source": [
    "transaction_table"
   ]
  },
  {
   "cell_type": "code",
   "execution_count": 13,
   "metadata": {},
   "outputs": [
    {
     "output_type": "stream",
     "name": "stdout",
     "text": [
      "Processing 13 combinations | Sampling itemset size 12\n"
     ]
    }
   ],
   "source": [
    "apriori_table = apriori(transaction_table, min_support=0.25, use_colnames=True, verbose=1, low_memory=True)"
   ]
  },
  {
   "cell_type": "code",
   "execution_count": 15,
   "metadata": {},
   "outputs": [
    {
     "output_type": "execute_result",
     "data": {
      "text/plain": [
       "(    support itemsets\n",
       " 0  0.606000     (가격)\n",
       " 1  0.377714     (거기)\n",
       " 2  0.510714  (관광-이름)\n",
       " 3  0.444857  (관광-종류)\n",
       " 4  0.445143  (관광-지역),\n",
       " (10777, 2))"
      ]
     },
     "metadata": {},
     "execution_count": 15
    }
   ],
   "source": [
    "apriori_table.head(), apriori_table.shape"
   ]
  },
  {
   "cell_type": "code",
   "execution_count": 16,
   "metadata": {},
   "outputs": [],
   "source": [
    "association_table = association_rules(apriori_table, metric='confidence', min_threshold=0.5)"
   ]
  },
  {
   "cell_type": "code",
   "execution_count": 21,
   "metadata": {},
   "outputs": [
    {
     "output_type": "stream",
     "name": "stderr",
     "text": [
      "ipykernel_launcher:1: UserWarning: Boolean Series key will be reindexed to match DataFrame index.\n"
     ]
    }
   ],
   "source": [
    "temp = association_table[association_table.sort_values(by='confidence', ascending=False).apply(lambda x: len(x['antecedents'])==1, axis=1)]"
   ]
  },
  {
   "source": [
    "# Load from offline task"
   ],
   "cell_type": "markdown",
   "metadata": {}
  },
  {
   "cell_type": "code",
   "execution_count": 4,
   "metadata": {},
   "outputs": [],
   "source": [
    "association_table = pd.read_csv('market_basket_analysis.csv')"
   ]
  },
  {
   "cell_type": "code",
   "execution_count": 5,
   "metadata": {},
   "outputs": [],
   "source": [
    "# 저장한 데이터테이블을 불러오니 자료형이 제대로 매겨지지 않는 문제 발생\n",
    "# 정규표현식으로 복구\n",
    "\n",
    "def peel_antecedents(x):\n",
    "    peeled = re.search(r\"[가-힣]+-[가-힣]+|[가-힣]+\", x).group(0)\n",
    "    return peeled\n",
    "\n",
    "def peel_consequents(x):\n",
    "    peeled = re.findall(r\"[가-힣]+-[가-힣]+|[가-힣]+|[가-힣]+-[가-힣]+ [가-힣]+\", x)\n",
    "    return peeled\n"
   ]
  },
  {
   "cell_type": "code",
   "execution_count": 6,
   "metadata": {},
   "outputs": [
    {
     "output_type": "execute_result",
     "data": {
      "text/plain": [
       "  antecedents consequents  antecedent support  consequent support   support  \\\n",
       "0       관광-이름        [가격]            0.510714            0.606000  0.264286   \n",
       "1          가격        [서울]            0.606000            0.768429  0.508143   \n",
       "2          서울        [가격]            0.768429            0.606000  0.508143   \n",
       "\n",
       "   confidence      lift  leverage  conviction  \n",
       "0    0.517483  0.853932 -0.045207    0.816551  \n",
       "1    0.838520  1.091213  0.042475    1.434053  \n",
       "2    0.661275  1.091213  0.042475    1.163187  "
      ],
      "text/html": "<div>\n<style scoped>\n    .dataframe tbody tr th:only-of-type {\n        vertical-align: middle;\n    }\n\n    .dataframe tbody tr th {\n        vertical-align: top;\n    }\n\n    .dataframe thead th {\n        text-align: right;\n    }\n</style>\n<table border=\"1\" class=\"dataframe\">\n  <thead>\n    <tr style=\"text-align: right;\">\n      <th></th>\n      <th>antecedents</th>\n      <th>consequents</th>\n      <th>antecedent support</th>\n      <th>consequent support</th>\n      <th>support</th>\n      <th>confidence</th>\n      <th>lift</th>\n      <th>leverage</th>\n      <th>conviction</th>\n    </tr>\n  </thead>\n  <tbody>\n    <tr>\n      <th>0</th>\n      <td>관광-이름</td>\n      <td>[가격]</td>\n      <td>0.510714</td>\n      <td>0.606000</td>\n      <td>0.264286</td>\n      <td>0.517483</td>\n      <td>0.853932</td>\n      <td>-0.045207</td>\n      <td>0.816551</td>\n    </tr>\n    <tr>\n      <th>1</th>\n      <td>가격</td>\n      <td>[서울]</td>\n      <td>0.606000</td>\n      <td>0.768429</td>\n      <td>0.508143</td>\n      <td>0.838520</td>\n      <td>1.091213</td>\n      <td>0.042475</td>\n      <td>1.434053</td>\n    </tr>\n    <tr>\n      <th>2</th>\n      <td>서울</td>\n      <td>[가격]</td>\n      <td>0.768429</td>\n      <td>0.606000</td>\n      <td>0.508143</td>\n      <td>0.661275</td>\n      <td>1.091213</td>\n      <td>0.042475</td>\n      <td>1.163187</td>\n    </tr>\n  </tbody>\n</table>\n</div>"
     },
     "metadata": {},
     "execution_count": 6
    }
   ],
   "source": [
    "association_table['antecedents'] = association_table['antecedents'].apply(lambda x: peel_antecedents(x))\n",
    "association_table['consequents'] = association_table['consequents'].apply(lambda x: peel_consequents(x))\n",
    "association_table.head(3)"
   ]
  },
  {
   "cell_type": "code",
   "execution_count": 10,
   "metadata": {},
   "outputs": [
    {
     "output_type": "execute_result",
     "data": {
      "text/plain": [
       "  antecedents consequents  confidence\n",
       "0       관광-이름        [가격]    0.517483\n",
       "1      숙소-가격대        [가격]    0.779213\n",
       "2       숙소-이름        [가격]    0.732964"
      ],
      "text/html": "<div>\n<style scoped>\n    .dataframe tbody tr th:only-of-type {\n        vertical-align: middle;\n    }\n\n    .dataframe tbody tr th {\n        vertical-align: top;\n    }\n\n    .dataframe thead th {\n        text-align: right;\n    }\n</style>\n<table border=\"1\" class=\"dataframe\">\n  <thead>\n    <tr style=\"text-align: right;\">\n      <th></th>\n      <th>antecedents</th>\n      <th>consequents</th>\n      <th>confidence</th>\n    </tr>\n  </thead>\n  <tbody>\n    <tr>\n      <th>0</th>\n      <td>관광-이름</td>\n      <td>[가격]</td>\n      <td>0.517483</td>\n    </tr>\n    <tr>\n      <th>1</th>\n      <td>숙소-가격대</td>\n      <td>[가격]</td>\n      <td>0.779213</td>\n    </tr>\n    <tr>\n      <th>2</th>\n      <td>숙소-이름</td>\n      <td>[가격]</td>\n      <td>0.732964</td>\n    </tr>\n  </tbody>\n</table>\n</div>"
     },
     "metadata": {},
     "execution_count": 10
    }
   ],
   "source": [
    "slot_association_table = association_table[association_table['antecedents'].isin(slot_meta)]\n",
    "slot_association_table = slot_association_table[['antecedents', 'consequents', 'confidence']]\n",
    "slot_association_table = slot_association_table.reset_index(drop=True)\n",
    "slot_association_table.head(3)"
   ]
  },
  {
   "cell_type": "code",
   "execution_count": 11,
   "metadata": {},
   "outputs": [
    {
     "output_type": "execute_result",
     "data": {
      "text/plain": [
       "                    consequents  confidence\n",
       "antecedents                                \n",
       "관광-이름                   [관광-지역]    0.831608\n",
       "관광-이름                   [관광-종류]    0.831329\n",
       "관광-이름            [관광-종류, 관광-지역]    0.830769\n",
       "관광-이름                      [서울]    0.772587\n",
       "관광-이름                      [예약]    0.772028\n",
       "관광-이름               [서울, 관광-지역]    0.688671\n",
       "관광-이름               [관광-종류, 서울]    0.688112\n",
       "관광-이름        [관광-종류, 서울, 관광-지역]    0.688112\n",
       "관광-이름               [예약, 관광-지역]    0.642517\n",
       "관광-이름               [관광-종류, 예약]    0.642517"
      ],
      "text/html": "<div>\n<style scoped>\n    .dataframe tbody tr th:only-of-type {\n        vertical-align: middle;\n    }\n\n    .dataframe tbody tr th {\n        vertical-align: top;\n    }\n\n    .dataframe thead th {\n        text-align: right;\n    }\n</style>\n<table border=\"1\" class=\"dataframe\">\n  <thead>\n    <tr style=\"text-align: right;\">\n      <th></th>\n      <th>consequents</th>\n      <th>confidence</th>\n    </tr>\n    <tr>\n      <th>antecedents</th>\n      <th></th>\n      <th></th>\n    </tr>\n  </thead>\n  <tbody>\n    <tr>\n      <th>관광-이름</th>\n      <td>[관광-지역]</td>\n      <td>0.831608</td>\n    </tr>\n    <tr>\n      <th>관광-이름</th>\n      <td>[관광-종류]</td>\n      <td>0.831329</td>\n    </tr>\n    <tr>\n      <th>관광-이름</th>\n      <td>[관광-종류, 관광-지역]</td>\n      <td>0.830769</td>\n    </tr>\n    <tr>\n      <th>관광-이름</th>\n      <td>[서울]</td>\n      <td>0.772587</td>\n    </tr>\n    <tr>\n      <th>관광-이름</th>\n      <td>[예약]</td>\n      <td>0.772028</td>\n    </tr>\n    <tr>\n      <th>관광-이름</th>\n      <td>[서울, 관광-지역]</td>\n      <td>0.688671</td>\n    </tr>\n    <tr>\n      <th>관광-이름</th>\n      <td>[관광-종류, 서울]</td>\n      <td>0.688112</td>\n    </tr>\n    <tr>\n      <th>관광-이름</th>\n      <td>[관광-종류, 서울, 관광-지역]</td>\n      <td>0.688112</td>\n    </tr>\n    <tr>\n      <th>관광-이름</th>\n      <td>[예약, 관광-지역]</td>\n      <td>0.642517</td>\n    </tr>\n    <tr>\n      <th>관광-이름</th>\n      <td>[관광-종류, 예약]</td>\n      <td>0.642517</td>\n    </tr>\n  </tbody>\n</table>\n</div>"
     },
     "metadata": {},
     "execution_count": 11
    }
   ],
   "source": [
    "slot_association_table_grouped = slot_association_table.groupby('antecedents').apply(lambda x: x.sort_values(by='confidence', ascending=False))\n",
    "slot_association_table_grouped = slot_association_table_grouped.drop('antecedents', axis=1)\n",
    "slot_association_table_grouped.index = slot_association_table_grouped.index.droplevel(level=1)\n",
    "slot_association_table_grouped.head(10)"
   ]
  },
  {
   "cell_type": "code",
   "execution_count": 12,
   "metadata": {},
   "outputs": [
    {
     "output_type": "execute_result",
     "data": {
      "text/plain": [
       "            consequents  confidence\n",
       "antecedents                        \n",
       "관광-이름              [서울]    0.772587\n",
       "관광-이름              [예약]    0.772028\n",
       "관광-이름              [서울]    0.688671\n",
       "관광-이름              [서울]    0.688112\n",
       "관광-이름              [서울]    0.688112\n",
       "관광-이름              [예약]    0.642517\n",
       "관광-이름              [예약]    0.642517\n",
       "관광-이름              [예약]    0.641958\n",
       "관광-이름          [서울, 예약]    0.613986\n",
       "관광-이름              [시간]    0.547413"
      ],
      "text/html": "<div>\n<style scoped>\n    .dataframe tbody tr th:only-of-type {\n        vertical-align: middle;\n    }\n\n    .dataframe tbody tr th {\n        vertical-align: top;\n    }\n\n    .dataframe thead th {\n        text-align: right;\n    }\n</style>\n<table border=\"1\" class=\"dataframe\">\n  <thead>\n    <tr style=\"text-align: right;\">\n      <th></th>\n      <th>consequents</th>\n      <th>confidence</th>\n    </tr>\n    <tr>\n      <th>antecedents</th>\n      <th></th>\n      <th></th>\n    </tr>\n  </thead>\n  <tbody>\n    <tr>\n      <th>관광-이름</th>\n      <td>[서울]</td>\n      <td>0.772587</td>\n    </tr>\n    <tr>\n      <th>관광-이름</th>\n      <td>[예약]</td>\n      <td>0.772028</td>\n    </tr>\n    <tr>\n      <th>관광-이름</th>\n      <td>[서울]</td>\n      <td>0.688671</td>\n    </tr>\n    <tr>\n      <th>관광-이름</th>\n      <td>[서울]</td>\n      <td>0.688112</td>\n    </tr>\n    <tr>\n      <th>관광-이름</th>\n      <td>[서울]</td>\n      <td>0.688112</td>\n    </tr>\n    <tr>\n      <th>관광-이름</th>\n      <td>[예약]</td>\n      <td>0.642517</td>\n    </tr>\n    <tr>\n      <th>관광-이름</th>\n      <td>[예약]</td>\n      <td>0.642517</td>\n    </tr>\n    <tr>\n      <th>관광-이름</th>\n      <td>[예약]</td>\n      <td>0.641958</td>\n    </tr>\n    <tr>\n      <th>관광-이름</th>\n      <td>[서울, 예약]</td>\n      <td>0.613986</td>\n    </tr>\n    <tr>\n      <th>관광-이름</th>\n      <td>[시간]</td>\n      <td>0.547413</td>\n    </tr>\n  </tbody>\n</table>\n</div>"
     },
     "metadata": {},
     "execution_count": 12
    }
   ],
   "source": [
    "def sift_keywords(x):\n",
    "    \"\"\"consequents에 slot을 제외한 키워드만을 잔류\"\"\"\n",
    "    output = [value for value in x if value not in slot_meta]\n",
    "    return output\n",
    "\n",
    "slot_association_table_grouped['consequents'] = slot_association_table_grouped['consequents'].apply(lambda x: sift_keywords(x))\n",
    "slot_association_table_grouped = slot_association_table_grouped[slot_association_table_grouped['consequents'].apply(bool)]\n",
    "slot_association_table_grouped.head(10)"
   ]
  },
  {
   "cell_type": "code",
   "execution_count": 13,
   "metadata": {},
   "outputs": [],
   "source": [
    "slot_association_table_grouped['consequents'] = slot_association_table_grouped['consequents'].apply(sorted)\n",
    "slot_association_table_grouped = slot_association_table_grouped.reset_index()"
   ]
  },
  {
   "cell_type": "code",
   "execution_count": 14,
   "metadata": {},
   "outputs": [
    {
     "output_type": "execute_result",
     "data": {
      "text/plain": [
       "  antecedents consequents  confidence\n",
       "0       관광-이름        [서울]    0.772587\n",
       "1       관광-이름        [예약]    0.772028\n",
       "2       관광-이름        [서울]    0.688671\n",
       "3       관광-이름        [서울]    0.688112\n",
       "4       관광-이름        [서울]    0.688112"
      ],
      "text/html": "<div>\n<style scoped>\n    .dataframe tbody tr th:only-of-type {\n        vertical-align: middle;\n    }\n\n    .dataframe tbody tr th {\n        vertical-align: top;\n    }\n\n    .dataframe thead th {\n        text-align: right;\n    }\n</style>\n<table border=\"1\" class=\"dataframe\">\n  <thead>\n    <tr style=\"text-align: right;\">\n      <th></th>\n      <th>antecedents</th>\n      <th>consequents</th>\n      <th>confidence</th>\n    </tr>\n  </thead>\n  <tbody>\n    <tr>\n      <th>0</th>\n      <td>관광-이름</td>\n      <td>[서울]</td>\n      <td>0.772587</td>\n    </tr>\n    <tr>\n      <th>1</th>\n      <td>관광-이름</td>\n      <td>[예약]</td>\n      <td>0.772028</td>\n    </tr>\n    <tr>\n      <th>2</th>\n      <td>관광-이름</td>\n      <td>[서울]</td>\n      <td>0.688671</td>\n    </tr>\n    <tr>\n      <th>3</th>\n      <td>관광-이름</td>\n      <td>[서울]</td>\n      <td>0.688112</td>\n    </tr>\n    <tr>\n      <th>4</th>\n      <td>관광-이름</td>\n      <td>[서울]</td>\n      <td>0.688112</td>\n    </tr>\n  </tbody>\n</table>\n</div>"
     },
     "metadata": {},
     "execution_count": 14
    }
   ],
   "source": [
    "slot_association_table_grouped.head()"
   ]
  },
  {
   "cell_type": "code",
   "execution_count": 18,
   "metadata": {},
   "outputs": [],
   "source": [
    "def flatten(x):\n",
    "    output = []\n",
    "    for value in x:\n",
    "        if isinstance(value, list):\n",
    "            output.extend(value)\n",
    "        else:\n",
    "            output.append(value)\n",
    "    return output\n",
    "            \n",
    "def into_basket(x, classes):\n",
    "    output = []\n",
    "    for c in classes:\n",
    "        if x[c] > 0:\n",
    "            output.append(c)\n",
    "    return output\n",
    "\n",
    "\n",
    "def get_market_analysis_result(slot: str='관광-이름'):\n",
    "    table_filtered = slot_association_table_grouped[slot_association_table_grouped['antecedents']==slot].reset_index(drop=True)\n",
    "\n",
    "    # 메타 정보 수집\n",
    "    classes = list(set(flatten(table_filtered['consequents'].tolist())))\n",
    "    num_classes = len(classes)\n",
    "    num_samples = len(table_filtered)\n",
    "\n",
    "    # 중복 샘플 제거\n",
    "    num_cols = num_classes + 2\n",
    "    slot_onehot_frame = pd.DataFrame(np.zeros((num_samples, num_cols)), columns=['antecedents'] + classes + ['confidence'])\n",
    "    slot_onehot_frame[['antecedents', 'confidence']] = table_filtered[['antecedents', 'confidence']]\n",
    "\n",
    "    for idx, row in table_filtered.iterrows():\n",
    "        for k in row['consequents']:\n",
    "            slot_onehot_frame.loc[idx, k] += 1\n",
    "\n",
    "    unique_indices = slot_onehot_frame.iloc[:, :-1].drop_duplicates().index.tolist()\n",
    "    slot_onehot_frame = slot_onehot_frame.loc[unique_indices, :].reset_index(drop=True)\n",
    "\n",
    "    # association rules table 형태로 재구성\n",
    "    result = deepcopy(slot_onehot_frame[['antecedents', 'confidence']])\n",
    "    result['consequents'] = slot_onehot_frame.apply(lambda x: into_basket(x, classes), axis=1)\n",
    "    result = result[['antecedents', 'consequents', 'confidence']]\n",
    "\n",
    "    return result\n",
    "    "
   ]
  },
  {
   "cell_type": "code",
   "execution_count": 19,
   "metadata": {},
   "outputs": [],
   "source": [
    "slot_list = slot_association_table_grouped['antecedents'].unique().tolist()"
   ]
  },
  {
   "cell_type": "code",
   "execution_count": 26,
   "metadata": {},
   "outputs": [],
   "source": [
    "result_list = []\n",
    "\n",
    "for s in slot_list:\n",
    "    result_list.append(get_market_analysis_result(s))"
   ]
  },
  {
   "cell_type": "code",
   "execution_count": 36,
   "metadata": {},
   "outputs": [],
   "source": [
    "temp = deepcopy(result_list[0])\n",
    "temp['consequents'] = temp['consequents'].apply(str)"
   ]
  }
 ],
 "metadata": {
  "kernelspec": {
   "name": "python377jvsc74a57bd098b0a9b7b4eaaa670588a142fd0a9b87eaafe866f1db4228be72b4211d12040f",
   "display_name": "Python 3.7.7 64-bit ('base': conda)"
  },
  "language_info": {
   "codemirror_mode": {
    "name": "ipython",
    "version": 3
   },
   "file_extension": ".py",
   "mimetype": "text/x-python",
   "name": "python",
   "nbconvert_exporter": "python",
   "pygments_lexer": "ipython3",
   "version": "3.7.7"
  }
 },
 "nbformat": 4,
 "nbformat_minor": 2
}